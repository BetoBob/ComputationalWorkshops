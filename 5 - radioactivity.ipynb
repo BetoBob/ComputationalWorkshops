{
 "cells": [
  {
   "cell_type": "markdown",
   "metadata": {},
   "source": [
    "# Radioactive Decay"
   ]
  },
  {
   "cell_type": "markdown",
   "metadata": {},
   "source": [
    "Nuclear isotopes are unstable atoms that can decay exponentially. We're going to build a model of the rate of radiottcive decay of a sample that emits radiation in all directions at uniform speed."
   ]
  },
  {
   "cell_type": "code",
   "execution_count": null,
   "metadata": {
    "collapsed": true
   },
   "outputs": [],
   "source": [
    "import numpy as np\n",
    "import matplotlib.pyplot as plt\n",
    "import time\n",
    "%matplotlib inline"
   ]
  },
  {
   "cell_type": "markdown",
   "metadata": {},
   "source": [
    "## Theoretcial Decay Curve\n",
    "The number of remaining atoms, $N$, in a radioactive sample after a time $t$ is given by the exponential decay relative to an inital number of atoms, $N_0$. After a period of time called the half-life, $\\tau_{1/2}$, has passed, there are half as amny atoms left.\n",
    "\n",
    "$$ N = N_0 e^{-t/\\tau_{1/2}}$$"
   ]
  },
  {
   "cell_type": "markdown",
   "metadata": {},
   "source": [
    "#### <span style=\"color:blue\"> Exercise 5.1 </span>\n",
    "Write a function that tells you how many atoms are left after a certain period of time, given the half-life of the radioactive sample."
   ]
  },
  {
   "cell_type": "code",
   "execution_count": null,
   "metadata": {
    "collapsed": true
   },
   "outputs": [],
   "source": [
    "def radioactive_decay(N0, t, halflife):\n",
    "    #### write your function again\n",
    "    N = N0 * np.exp(-t/halflife)\n",
    "    return N"
   ]
  },
  {
   "cell_type": "markdown",
   "metadata": {},
   "source": [
    "Now define some initial parameters. So that we can make a plot, build a np.array for the time variable. Space your the points in your time array by $0.01$ s."
   ]
  },
  {
   "cell_type": "code",
   "execution_count": null,
   "metadata": {},
   "outputs": [],
   "source": [
    "# number of particles\n",
    "N0 = \n",
    "# make a time array\n",
    "dt = 0.01\n",
    "t = \n",
    "# decay constant (inverse seconds)\n",
    "halflife = "
   ]
  },
  {
   "cell_type": "code",
   "execution_count": null,
   "metadata": {},
   "outputs": [],
   "source": [
    "N = radioactive_decay(N0, t, halflife)"
   ]
  },
  {
   "cell_type": "code",
   "execution_count": null,
   "metadata": {},
   "outputs": [],
   "source": [
    "plt.plot(t, N)\n",
    "plt.xlabel(\"Time (s)\")\n",
    "plt.ylabel(\"Number of Parent Particles\")"
   ]
  },
  {
   "cell_type": "markdown",
   "metadata": {},
   "source": [
    "# Numerical Decay Curve \n",
    "Now let’s simulate this numerically using a _while_ loop.\n",
    "\n",
    "A _while_ loop runs until the conditional statement you give it is no longer true.\n",
    "\n",
    "For instance, the two while loops below run for different numbers of cylces. The first one runs for 3 cycles; the second, for 7. "
   ]
  },
  {
   "cell_type": "code",
   "execution_count": null,
   "metadata": {},
   "outputs": [],
   "source": [
    "print(\"first while loop\")\n",
    "count = 0\n",
    "while(count<3):\n",
    "    count+=1\n",
    "    print(count)\n",
    "    \n",
    "print(\"second while loop\")    \n",
    "count = 3\n",
    "while(count<10):\n",
    "    count+=1\n",
    "    print count\n"
   ]
  },
  {
   "cell_type": "markdown",
   "metadata": {},
   "source": [
    "What if you wanted to run your for loop until a process, like a nuclear decay, happens randomnly? You could generate a randomn number using a random number generator and then check if the random number is greater than some parameter like below. Try running the cell below several times. You should get different random numbers and the while loop should run for a different number of cycles each time."
   ]
  },
  {
   "cell_type": "code",
   "execution_count": null,
   "metadata": {},
   "outputs": [],
   "source": [
    "count = 1\n",
    "flag = False\n",
    "while(flag != True):\n",
    "    # generates a number between 0 and 1\n",
    "    randnum = rand.random()\n",
    "    \n",
    "    # check if the random number is greater than \n",
    "    # a parameter, 0.7\n",
    "    if(randnum > 0.7):\n",
    "        flag = True\n",
    "    \n",
    "    # count how many times my while loop has run\n",
    "    count +=1\n",
    "    print(count, randnum)"
   ]
  },
  {
   "cell_type": "markdown",
   "metadata": {},
   "source": [
    "We’ll start with $N_0$ atoms, anduse $N$ to represent the number of remaining (undecayed) atoms. $N$ will decrease over time. \n",
    "\n",
    "At every pass through the while loop, a certain number of the atoms will decay. In any time interval, there is a certain probability that each atom will decay, so we will loop over each atom in the sample. We want the loop to run from i = 0 to i = N (the number of undecayed atoms remaining). \n",
    "\n",
    "Because not every atom will decay every time, we’ll use an _if_ statement in the loop. That way, some atoms will decay and some won’t. We want this process to be random, so we’ll make sure that the _if_ condition is satisfied at random.  "
   ]
  },
  {
   "cell_type": "markdown",
   "metadata": {},
   "source": [
    "#### <span style=\"color:blue\"> Exercise 5.2 </span>\n",
    "Write a while loop that generates a random number on each cycle. If your random number is less than $dt$ $/$ $\\tau_{1/2}$, where $dt$ is the time spacing in your time array. Store your data in a list called $Nnum$."
   ]
  },
  {
   "cell_type": "code",
   "execution_count": null,
   "metadata": {},
   "outputs": [],
   "source": [
    "# numerical simulation\n",
    "#start with N0 particles at time t0\n",
    "Nleft = N0\n",
    "Nnum = []\n",
    "\n",
    "# loop through \n",
    "for tm in t:\n",
    "    #plt.plot(tm, Nleft, 'ro')\n",
    "    for i in range(Nleft):\n",
    "        randnum = rand.random() # generates a number between 0 and 1\n",
    "        \n",
    "        if( randnum < dt/halflife):\n",
    "            Nleft = Nleft - 1 # decay reduces the number of remaining nuclei\n",
    "        \n",
    "        # save the data\n",
    "        Nnum.append(Nleft)"
   ]
  },
  {
   "cell_type": "markdown",
   "metadata": {},
   "source": [
    "Now compare your numerical simulation $Nnum$ to your theoretical curve by plotting them on top of each other.They should be the same, roughly. Are they?\n"
   ]
  },
  {
   "cell_type": "code",
   "execution_count": null,
   "metadata": {
    "collapsed": true
   },
   "outputs": [],
   "source": [
    "# plot your theoretical curve over time \n",
    "# and your numerical curve over time\n",
    "# \n",
    "\n",
    "\n",
    "\n"
   ]
  },
  {
   "cell_type": "markdown",
   "metadata": {},
   "source": [
    "## Beta particle simulation\n",
    "Finally, let’s have the program create a little marker for each decayed atom, representing the beta particle that comes flying out of the sample. We want the particle to come flying out in a random direction. Let’s start with 2 dimensions. Suppose you have particles with position vectors equal to (x,y,z). Let’s set z = 0. We want to randomly generate the angle theta in the diagram below, and make it different for every beta particle:\n",
    "<img src=\"infiles/beta_decay_particles.png\" width=300>"
   ]
  },
  {
   "cell_type": "markdown",
   "metadata": {},
   "source": [
    "#### <span style=\"color:blue\"> Exercise 5.3 </span>\n",
    "Write a function called beta\\_decay with an input of $r$ that is the maximum distance the beta decay parrticles can travel and returns the $x$ and $y$ position of the beta decay particle.\n",
    "\n",
    "Consider the following as you write your function:\n",
    "+ rand.random() generates a random number between 0 and 1, how would you create a variable called angle that generates a random number between 0 and $2\\pi$?\n",
    "+ Given some r and some angle theta, $\\theta$, use trigonometry to write expressions for $x$ and $y$.\n",
    "+ Write the position vector of the beta particle as a function of $r$ and $\\theta$.\n",
    "\n"
   ]
  },
  {
   "cell_type": "code",
   "execution_count": null,
   "metadata": {
    "collapsed": true
   },
   "outputs": [],
   "source": [
    "def beta_decay(r):\n",
    "    # figure out the position of the beta decay here\n",
    "    \n",
    "    \n",
    "    \n",
    "    \n",
    "    return x, y"
   ]
  },
  {
   "cell_type": "markdown",
   "metadata": {},
   "source": [
    "### Now lets plot the beta decay. \n",
    "We'll use IPython.display to update our figure as time goes on."
   ]
  },
  {
   "cell_type": "code",
   "execution_count": null,
   "metadata": {
    "collapsed": true
   },
   "outputs": [],
   "source": [
    "from IPython import display"
   ]
  },
  {
   "cell_type": "code",
   "execution_count": null,
   "metadata": {},
   "outputs": [],
   "source": [
    "# plot the theorectical curve\n",
    "plt.figure(1)\n",
    "plt.plot(t, N)\n",
    "plt.xlabel(\"Time (s)\")\n",
    "plt.ylabel(\"Number of Parent Particles\")\n",
    "\n",
    "# numerical simulation\n",
    "r = 1.0\n",
    "#start with N0 particles at time t0\n",
    "Nleft = N0\n",
    "# loop through \n",
    "for tm in t:\n",
    "    plt.figure(1)\n",
    "    plt.plot(tm, Nleft, 'ro')\n",
    "    for i in range(Nleft):\n",
    "        randnum = rand.random() # generates a number between 0 and 1\n",
    "        \n",
    "        if( randnum < dt/halflife):\n",
    "            Nleft = Nleft - 1 # decay reduces the number of remaining nuclei\n",
    "            x,y,z = beta_decay(r)\n",
    "            \n",
    "            plt.figure(2)\n",
    "            plt.plot(x,y, 'sg')\n",
    "            plt.xlabel(\"X position of Beta Particles (mm)\")\n",
    "            plt.ylabel(\"Y position of Beta Particles (mm)\")\n",
    "            #update the display\n",
    "            display.clear_output(wait=True)\n",
    "            display.display(plt.gcf())\n",
    "            time.sleep(0.05)"
   ]
  },
  {
   "cell_type": "code",
   "execution_count": null,
   "metadata": {
    "collapsed": true
   },
   "outputs": [],
   "source": []
  }
 ],
 "metadata": {
  "kernelspec": {
   "display_name": "Python 2",
   "language": "python",
   "name": "python2"
  },
  "language_info": {
   "codemirror_mode": {
    "name": "ipython",
    "version": 2
   },
   "file_extension": ".py",
   "mimetype": "text/x-python",
   "name": "python",
   "nbconvert_exporter": "python",
   "pygments_lexer": "ipython2",
   "version": "2.7.13"
  }
 },
 "nbformat": 4,
 "nbformat_minor": 2
}
