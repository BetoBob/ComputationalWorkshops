{
 "cells": [
  {
   "cell_type": "code",
   "execution_count": 1,
   "metadata": {},
   "outputs": [],
   "source": [
    "import numpy as np\n",
    "import matplotlib.pyplot as plt\n",
    "import random as rand\n",
    "import time\n",
    "from IPython import display"
   ]
  },
  {
   "cell_type": "code",
   "execution_count": 2,
   "metadata": {},
   "outputs": [],
   "source": [
    "def radioactive_decay(t, N0, lamba):\n",
    "    return N0*np.exp(-lamba * t)"
   ]
  },
  {
   "cell_type": "code",
   "execution_count": 3,
   "metadata": {},
   "outputs": [],
   "source": [
    "# number of particles\n",
    "N0 = 100\n",
    "# start time\n",
    "ti = 0.\n",
    "# end time\n",
    "tf = 3.\n",
    "# change in time\n",
    "dt = 0.1\n",
    "# time array\n",
    "t = np.arange(ti,tf,dt)\n",
    "# decay constant (inverse seconds)\n",
    "lamba = 4."
   ]
  },
  {
   "cell_type": "code",
   "execution_count": 4,
   "metadata": {},
   "outputs": [],
   "source": [
    "N = radioactive_decay(t, N0, lamba)"
   ]
  },
  {
   "cell_type": "code",
   "execution_count": 5,
   "metadata": {},
   "outputs": [
    {
     "data": {
      "text/plain": [
       "Text(0, 0.5, 'Number of Parent Particles')"
      ]
     },
     "execution_count": 5,
     "metadata": {},
     "output_type": "execute_result"
    },
    {
     "data": {
      "image/png": "[encoded data removed]",
      "text/plain": [
       "<Figure size 432x288 with 1 Axes>"
      ]
     },
     "metadata": {
      "needs_background": "light"
     },
     "output_type": "display_data"
    }
   ],
   "source": [
    "plt.plot(t, N)\n",
    "plt.xlabel(\"Time (s)\")\n",
    "plt.ylabel(\"Number of Parent Particles\")"
   ]
  },
  {
   "cell_type": "code",
   "execution_count": 6,
   "metadata": {},
   "outputs": [
    {
     "data": {
      "image/png": "[encoded data removed]",
      "text/plain": [
       "<Figure size 432x288 with 1 Axes>"
      ]
     },
     "metadata": {
      "needs_background": "light"
     },
     "output_type": "display_data"
    }
   ],
   "source": [
    "# plot the theorectical curve\n",
    "plt.plot(t, N)\n",
    "plt.xlabel(\"Time (s)\")\n",
    "plt.ylabel(\"Number of Parent Particles\")\n",
    "\n",
    "# numerical simulation\n",
    "\n",
    "#start with N0 particles at time t0\n",
    "Nleft = N0\n",
    "# loop through \n",
    "for tm in np.arange(ti,tf,dt):\n",
    "    plt.plot(tm, Nleft, 'ro')\n",
    "    for i in range(Nleft):\n",
    "        randnum = rand.random() # generates a number between 0 and 1\n",
    "        \n",
    "        if( randnum < lamba * dt):\n",
    "            Nleft = Nleft - 1 # decay reduces the number of remaining nuclei"
   ]
  },
  {
   "cell_type": "code",
   "execution_count": 7,
   "metadata": {},
   "outputs": [],
   "source": [
    "def beta_decay(r):\n",
    "    randnum_r = rand.random() * r\n",
    "    randnum_phi = rand.random() * 2.0 * np.pi\n",
    "    \n",
    "    x = randnum_r * np.cos(randnum_phi)\n",
    "    y = randnum_r * np.sin(randnum_phi)\n",
    "    z = 0.\n",
    "    \n",
    "    return x, y, z"
   ]
  },
  {
   "cell_type": "code",
   "execution_count": null,
   "metadata": {},
   "outputs": [],
   "source": [
    "# plot the theorectical curve\n",
    "plt.figure(1)\n",
    "plt.plot(t, N)\n",
    "plt.xlabel(\"Time (s)\")\n",
    "plt.ylabel(\"Number of Parent Particles\")\n",
    "\n",
    "# numerical simulation\n",
    "r = 1.0\n",
    "#start with N0 particles at time t0\n",
    "Nleft = N0\n",
    "# loop through \n",
    "for tm in np.arange(ti,tf,dt):\n",
    "    plt.figure(1)\n",
    "    plt.plot(tm, Nleft, 'ro')\n",
    "    for i in range(Nleft):\n",
    "        randnum = rand.random() # generates a number between 0 and 1\n",
    "        \n",
    "        if( randnum < lamba * dt):\n",
    "            Nleft = Nleft - 1 # decay reduces the number of remaining nuclei\n",
    "            x,y,z = beta_decay(r)\n",
    "            \n",
    "            plt.figure(2)\n",
    "            plt.plot(x,y, 'sg')\n",
    "            plt.xlabel(\"X position of Beta Particles (mm)\")\n",
    "            plt.ylabel(\"Y position of Beta Particles (mm)\")\n",
    "            #update the display\n",
    "            display.clear_output(wait=True)\n",
    "            display.display(plt.gcf())\n",
    "            time.sleep(0.05)"
   ]
  },
  {
   "cell_type": "code",
   "execution_count": null,
   "metadata": {},
   "outputs": [],
   "source": []
  }
 ],
 "metadata": {
  "kernelspec": {
   "display_name": "Python 3",
   "language": "python",
   "name": "python3"
  },
  "language_info": {
   "codemirror_mode": {
    "name": "ipython",
    "version": 3
   },
   "file_extension": ".py",
   "mimetype": "text/x-python",
   "name": "python",
   "nbconvert_exporter": "python",
   "pygments_lexer": "ipython3",
   "version": "3.7.0"
  }
 },
 "nbformat": 4,
 "nbformat_minor": 2
}
