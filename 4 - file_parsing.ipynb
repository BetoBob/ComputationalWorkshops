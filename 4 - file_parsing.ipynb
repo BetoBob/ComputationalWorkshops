{
 "cells": [
  {
   "cell_type": "markdown",
   "metadata": {},
   "source": [
    "# File Parsing\n",
    "\n",
    "Now making lists for data points is good and all, but what if you have **lots** of data? Wouldn't it be nice to parse large amounts of data from a file instead of having to manually input copious amounts of information? You can achieve this through python's handy file parsing functions!"
   ]
  },
  {
   "cell_type": "code",
   "execution_count": 1,
   "metadata": {
    "collapsed": true
   },
   "outputs": [],
   "source": [
    "import matplotlib.pyplot as plt\n",
    "import numpy as np"
   ]
  },
  {
   "cell_type": "markdown",
   "metadata": {},
   "source": [
    "We will read Voyager-2 data in this notebook.\n",
    "[Voyager-2](https://voyager.jpl.nasa.gov) is a spacecraft that was launched in [1977](https://en.wikipedia.org/wiki/Voyager_2). It collects data about the local space environment, including the flux (or rate per unit time and area) of electrons and protons in the nearby environnment.\n",
    "\n",
    "Let's try reading the file."
   ]
  },
  {
   "cell_type": "markdown",
   "metadata": {},
   "source": [
    "We're going to use python's built-in functions to read data from a NASA Voyager data.\n",
    "\n",
    "The line below [opens](https://docs.python.org/3/library/functions.html#open) a file called ```VY2PLA_1H_FMT.txt``` in folder ```infiles```. If you look in the github or in your file folder containing these notebooks, you should find a folder called ```infiles``` and a file therein called ```VY2PLA_1H_FMT.txt```. The ```\"r\"``` string at the end tells the computer to open the file for _reading_ rather than for _writing_ (or something else).\n"
   ]
  },
  {
   "cell_type": "code",
   "execution_count": 4,
   "metadata": {},
   "outputs": [
    {
     "name": "stdout",
     "output_type": "stream",
     "text": [
      "infiles/VY2PLA_1H_FMT.txt\n"
     ]
    }
   ],
   "source": [
    "outfile = open(\"infiles/VY2PLA_1H_FMT.txt\",\"r\")\n",
    "print(outfile.name)"
   ]
  },
  {
   "cell_type": "markdown",
   "metadata": {},
   "source": [
    "You might think, \"Great work!\", but of course, you know that when you open a file in say, Microsoft Word, and you want to know what's in there, you have to read it. You have to tell the computer to do that too. We will use [readlines()]() to do it here.\n",
    "\n",
    "The readlines function creates a list of each line in the file. Each line is stored as a string."
   ]
  },
  {
   "cell_type": "code",
   "execution_count": 5,
   "metadata": {},
   "outputs": [
    {
     "name": "stdout",
     "output_type": "stream",
     "text": [
      "<class 'list'>\n"
     ]
    }
   ],
   "source": [
    "data = outfile.readlines()\n",
    "\n",
    "print(type(data))      "
   ]
  },
  {
   "cell_type": "markdown",
   "metadata": {},
   "source": [
    "The readlines function creates a list of each line in the file (as you can see above). Each line is stored as a string. Lets find out how many lines are in this text file."
   ]
  },
  {
   "cell_type": "code",
   "execution_count": 6,
   "metadata": {},
   "outputs": [
    {
     "data": {
      "text/plain": [
       "50"
      ]
     },
     "execution_count": 6,
     "metadata": {},
     "output_type": "execute_result"
    }
   ],
   "source": [
    "len(data)"
   ]
  },
  {
   "cell_type": "markdown",
   "metadata": {},
   "source": [
    "Now lets look at the contents of the file!"
   ]
  },
  {
   "cell_type": "code",
   "execution_count": 7,
   "metadata": {},
   "outputs": [
    {
     "name": "stdout",
     "output_type": "stream",
     "text": [
      "['File: VY2PLA_1H_FMT.txt                       Version: NSSDC 12/31/98 MIT\\n', '-------------------------------------------------------------------------\\n', '\\n', 'The files in this directory contain Voyager hourly average plasma data.\\n', 'The plasma parameters are obtained by finding the best fit of a convected\\n', 'isotropic Maxwellian distribution to the data. One sigma errors\\n', 'are typically less than 0.5% in the speed and VR, less than 5% for the\\n', 'density and thermal speed, and vary greatly for VT and VN.\\n', 'Sampling times range from 12 to 192 sec., with sampling generally more\\n', 'frequent early in the mission. The columns are:\\n', '\\n', '1) Year                                         \\n', '2) day of year (day 1 is Jan. 1)\\n', '3) hour\\n', '4) proton speed in km/s (magnitude of V)\\n', '5) proton density in cm-3\\n', '6) proton thermal speed in km/s (proton temperature in eV = .0052 times the\\n', 'square of the thermal speed)\\n', '7) VR\\n', '8) VT (WARNING: this parameter is often NOT reliable after 1989)\\n', '9) VN (WARNING: this parameter is often NOT reliable after 1989)\\n', '\\n', 'The velocity components are given in the RTN coordinate system,  \\n', 'where R is radially outward, T is in a plane parallel to the solar\\n', 'equatorial plane and positive in the direction of solar rotation,\\n', 'and N completes a right-handed system.\\n', '\\n', 'The form of the file name is usually of a form similar to\\n', 'sc_type_start_end_dis.suff\\n', 'where any of these may be missing.\\n', 'sc        is Space Craft v1 or v2\\n', 'type      is type of data, usually the same as the directory name, (e.g. \\n', '          sedr ha )\\n', 'start     start time year.day.hour ( day and hour may be missing)\\n', 'end       end   time year.day.hour ( day and hour may be missing)\\n', 'dis       descriptor, if any addition processing is needed, (e.g. filt \\n', '          implies the data has been filtered, see README in that \\n', '          directory.)\\n', 'suff      suffix, Z, gz implies the type of compression etc.\\n', '\\n', 'The formats may describe more fields that the data sets contain.\\n', 'In that case, the fields in the description should just be ignored.\\n', 'In some cases, 00000 is used as a fill, and implies the that data\\n', 'is unavailable.  Common sense is required to distinguish missing data\\n', 'from true zeros.\\n', '\\n', ' \\n', 'Please consult with us, or at least send preprints, when you use this data to\\n', 'prevent grievous errors or misconceptions. (John Richardson, jdr@space.mit.edu)\\n', '\\n']\n"
     ]
    }
   ],
   "source": [
    "print(data)"
   ]
  },
  {
   "cell_type": "markdown",
   "metadata": {},
   "source": [
    "Look carefully at the list above that gets returned by readlines. You'll see that each item in the list is a string that corresponds to a single line of text in the file. Each string ends with ```\\n``` which is a formatting command that tells the computer to go to the next line. "
   ]
  },
  {
   "cell_type": "markdown",
   "metadata": {},
   "source": [
    "#### <span style=\"color:blue\"> Exercise 4.1 </span>\n",
    "So that you can read the information in the line a little easier, write a for loop that prints each line in the file on a single line. "
   ]
  },
  {
   "cell_type": "code",
   "execution_count": null,
   "metadata": {
    "collapsed": true
   },
   "outputs": [],
   "source": [
    "# Write a for loop that prints each line in the file.\n"
   ]
  },
  {
   "cell_type": "markdown",
   "metadata": {},
   "source": [
    "### Parsing data"
   ]
  },
  {
   "cell_type": "markdown",
   "metadata": {},
   "source": [
    "The file we read ```VY2PLA_1H_FMT.txt``` tells us about how the data is formatted in the data files. Armed with that information (go back and review if you didn't already), we can proceed to extract individual data points from the data files. ```v2_hour_2007.txt``` is one such file."
   ]
  },
  {
   "cell_type": "code",
   "execution_count": 10,
   "metadata": {},
   "outputs": [
    {
     "name": "stdout",
     "output_type": "stream",
     "text": [
      "1728\n"
     ]
    }
   ],
   "source": [
    "datafile = open(\"infiles/v2_hour_2007.txt\",\"r\")\n",
    "\n",
    "data=datafile.readlines()\n",
    "\n",
    "# lets check out how many lines this file is\n",
    "print(len(data))"
   ]
  },
  {
   "cell_type": "markdown",
   "metadata": {},
   "source": [
    "Now lets get an idea of what the data looks like. In the code block below, we will print the first four rows (or lines) of data."
   ]
  },
  {
   "cell_type": "code",
   "execution_count": 14,
   "metadata": {},
   "outputs": [
    {
     "name": "stdout",
     "output_type": "stream",
     "text": [
      "2007   1 18  397.4  0.00093   16.5  396.3    2.9  -24.1\n",
      "\n",
      "2007   1 19  389.1  0.00078    8.7  388.8   -4.9   13.9\n",
      "\n",
      "2007   1 20  395.9  0.00063    8.0  395.8   -6.4    6.1\n",
      "\n",
      "2007   2 23  406.4  0.00095   25.2  406.2   10.0   -0.7\n",
      "\n"
     ]
    }
   ],
   "source": [
    "# printing the first 4 lines\n",
    "\n",
    "for x in range(4):\n",
    "    print(data[x],)"
   ]
  },
  {
   "cell_type": "code",
   "execution_count": 13,
   "metadata": {},
   "outputs": [
    {
     "name": "stdout",
     "output_type": "stream",
     "text": [
      "2007   1 18  397.4  0.00093   16.5  396.3    2.9  -24.1\n",
      "\n",
      "2007   1 19  389.1  0.00078    8.7  388.8   -4.9   13.9\n",
      "\n",
      "2007   1 20  395.9  0.00063    8.0  395.8   -6.4    6.1\n",
      "\n",
      "2007   2 23  406.4  0.00095   25.2  406.2   10.0   -0.7\n",
      "\n"
     ]
    }
   ],
   "source": [
    "# Printing the first 4 lines. \n",
    "for line in data[0:4]:\n",
    "    print(line,)"
   ]
  },
  {
   "cell_type": "markdown",
   "metadata": {},
   "source": [
    "**Side Note** \n",
    "\n",
    "The ```0:4``` in the brackets is called a **list comprehension**. The numbers around the colon represent indicies, the first and the last index of a list resepectively.\n",
    "\n",
    "A list comprehension accesses the first index (inclusively) to the last index (exclusively) of a list. Here's an example below:"
   ]
  },
  {
   "cell_type": "code",
   "execution_count": null,
   "metadata": {
    "collapsed": true
   },
   "outputs": [],
   "source": [
    "list = ['apple', 'orange', 'pineapple', 'carrot', 'parrot', 'merit']\n",
    "list[1:4]"
   ]
  },
  {
   "cell_type": "markdown",
   "metadata": {},
   "source": [
    "Back to our data! Let's try to extract the date (year, day-of-year, hour). As the formatting documentation describes above, the year is the first column of the data, the day-of-year is the second column, and hour is the third column.\n",
    "\n",
    "So let's change the loop we made above by printing out ```line[0], line[1], line[2]```. Will this work?"
   ]
  },
  {
   "cell_type": "code",
   "execution_count": null,
   "metadata": {
    "collapsed": true
   },
   "outputs": [],
   "source": [
    "for line in data[0:4]:\n",
    "    year = line[0]\n",
    "    dayofyear = line[1]\n",
    "    hour = line[2]\n",
    "    print(year, dayofyear, hour)"
   ]
  },
  {
   "cell_type": "markdown",
   "metadata": {},
   "source": [
    "It shouldn't. That's because each line is a single string with all the data separated by spaces. So we need to create a new list for each column value. We can do this by using the **split** funtion.\n",
    "\n",
    "Review the docstring for [split()](https://docs.python.org/2/library/stdtypes.html#str.split). By default the split funciton looks for spaces and divides up the line, but you can split a line based on other delimiters if you want. (Review the docs to figure out how.)\n",
    "\n",
    "Below we will extract the first line from the data, split the line based on the spaces, and finally print the resulting list."
   ]
  },
  {
   "cell_type": "code",
   "execution_count": 15,
   "metadata": {},
   "outputs": [
    {
     "name": "stdout",
     "output_type": "stream",
     "text": [
      "2007   1 18  397.4  0.00093   16.5  396.3    2.9  -24.1\n",
      "\n",
      "['2007', '1', '18', '397.4', '0.00093', '16.5', '396.3', '2.9', '-24.1']\n"
     ]
    }
   ],
   "source": [
    "line = data[0]\n",
    "print(line)\n",
    "items = line.split()\n",
    "print(items)"
   ]
  },
  {
   "cell_type": "markdown",
   "metadata": {},
   "source": [
    "What type are the new items in the list? They should be strings, and you can tell because there are ```' '``` quotation marks around each string. "
   ]
  },
  {
   "cell_type": "markdown",
   "metadata": {},
   "source": [
    "#### <span style=\"color:blue\"> Exercise 4.2 </span>\n",
    "But we want the year, day-of-year, and hour to be ```float```'s. Write a function that:\n",
    "1. accepts a line (String) of data\n",
    "2. extracts the year, day and hour from the String\n",
    "3. converts these values into floats and returns them\n",
    "\n",
    "A function header is provided below to help you get started. We will test the first line of data (```data[0]```)."
   ]
  },
  {
   "cell_type": "markdown",
   "metadata": {},
   "source": [
    "<details> <summary> <b>Hint!<b> </summary> Refer to the casting of notebook 1 (Introduction) for a referesher on changing variable types! You might find the <a href=\"https://docs.python.org/3/library/functions.html#float\">float function</a> particularly useful!</details>"
   ]
  },
  {
   "cell_type": "code",
   "execution_count": null,
   "metadata": {
    "collapsed": true
   },
   "outputs": [],
   "source": [
    "## Convert the items to floats\n",
    "def convert_year_day_hour(line):\n",
    "    \n",
    "    #write your code here\n",
    "    \n",
    "    return(year, day, hour)"
   ]
  },
  {
   "cell_type": "code",
   "execution_count": null,
   "metadata": {},
   "outputs": [],
   "source": [
    "# test your function above by running this cell!\n",
    "datafile = open(\"infiles/v2_hour_2007.txt\",\"r\")\n",
    "data=datafile.readlines()\n",
    "\n",
    "convert_year_day_hour(data[0])"
   ]
  },
  {
   "cell_type": "markdown",
   "metadata": {},
   "source": [
    "Nice! Now that we have a function that converts a line of data to floats, lets collect all the data so we can use it later. Append the year, day and hour of each line of data to it's associated list below."
   ]
  },
  {
   "cell_type": "markdown",
   "metadata": {},
   "source": [
    "<details> <summary> <b>Hint!<b> </summary> The <a href=\"https://docs.python.org/3/tutorial/datastructures.html\">append function</a> from notebook 1 (Introduction) will come in handy!</details>"
   ]
  },
  {
   "cell_type": "code",
   "execution_count": null,
   "metadata": {
    "collapsed": true
   },
   "outputs": [],
   "source": [
    "#Now store the data in arrays\n",
    "years = []\n",
    "days  = []\n",
    "hours = []\n",
    "\n",
    "for line in data:\n",
    "    \n",
    "    year, day, hour = convert_year_day_hour(line)\n",
    "    \n",
    "    # write code here to append the lists\n",
    "    "
   ]
  },
  {
   "cell_type": "markdown",
   "metadata": {},
   "source": [
    "#### <span style=\"color:blue\"> Exercise 4.3 </span>\n",
    "We also want to look at the data recorded by the plasma sensors on Voyager-2. In particular, we're interested in the protons near the Voyager-2 spacecraft.\n",
    "\n",
    "Go back to the formatting text and figure out which of the columns have the speed, density, and temperature of the protons. Then store the data into three lists.\n",
    "\n",
    "Note that to get the temperature in units of Kelvin:\n",
    "$$ T = 0.0052 \\times 11604.505  v_{thermal}^2 $$\n",
    "where $v_{thermal}$ is the proton's thermal speed."
   ]
  },
  {
   "cell_type": "code",
   "execution_count": null,
   "metadata": {
    "collapsed": true
   },
   "outputs": [],
   "source": [
    "# cycle through each line and extract\n",
    "# the year and day of year, hour,\n",
    "# proton speed in km/s, proton density in cm^-3\n",
    "# and proton temperature in K, storing the data in lists\n",
    "\n",
    "# here are some empty lists for you to use\n",
    "years = []\n",
    "days  = []\n",
    "hours = []\n",
    "proton_speeds_kms = []\n",
    "proton_densities_cm3 = []\n",
    "proton_temperatures_K = []\n",
    "\n",
    "# write your code below\n"
   ]
  },
  {
   "cell_type": "markdown",
   "metadata": {},
   "source": [
    "## Interpreting the Data\n",
    "Since its been traveling for more than **40 years**, Voyager-2 may have left the edge of the solar system by now. You might wonder, how do we not know whether it has or not? Isn't the size of the solar system known? \n",
    "\n",
    "Well, the answer is kind of. Voyager can help us understand how large the solar system is and its shape. You can tell by plotting the proton's density, speed, and temperature over time.\n",
    "\n",
    "The sun pumps protons into the solar system in the form of the solar wind. When Voyager-2 leaves the solar system, it crosses a shock wave. Inside of the shock, the protons are moving very fast, pumped by the solar wind. Outside, you're in interstellar space whether the particles are moving much slower. You can read the fascinating story of Voyager crossing the shock [here](https://www.nature.com/articles/454038a)."
   ]
  },
  {
   "cell_type": "markdown",
   "metadata": {},
   "source": [
    "#### <span style=\"color:blue\"> Exercise 4.4 </span>\n",
    "So let's take a look at what the data are telling us. \n",
    "\n",
    "Make three plots:\n",
    "+ The proton speed vs. the day of year\n",
    "+ The proton density vs. the day of year.\n",
    "+ The proton temperature vs. the day of year.\n",
    "\n",
    "You should see a transition in all three of these plots? Which one is the most striking? Can you find the day of year (in what year?) Voyager-2 left the solar system?"
   ]
  },
  {
   "cell_type": "code",
   "execution_count": null,
   "metadata": {
    "collapsed": true
   },
   "outputs": [],
   "source": [
    "# make a plot of the proton speed vs. the day of year\n",
    "\n",
    "\n"
   ]
  },
  {
   "cell_type": "code",
   "execution_count": null,
   "metadata": {
    "collapsed": true
   },
   "outputs": [],
   "source": [
    "# make a plot of the proton density vs. the day of year\n",
    "\n",
    "\n"
   ]
  },
  {
   "cell_type": "code",
   "execution_count": null,
   "metadata": {
    "collapsed": true
   },
   "outputs": [],
   "source": [
    "# make a plot of the proton temperature vs. the day of year.\n",
    "\n",
    "\n"
   ]
  },
  {
   "cell_type": "markdown",
   "metadata": {},
   "source": [
    "## Writing Data to a File\n",
    "\n",
    "So we did all that work, but have nowhere to save our calculations! If only these lists could be **written** to a file ...\n",
    "\n",
    "Python fortunately has a library for that! Using the csv library, we can write data to a _comma seperated file_ (or CSV for short). \n",
    "\n",
    "A CSV is like an excel spreadsheet, only formatted in a way that is easy to parse. The file starts with an (optional) header that lists each column name, followed by the rows of data. Each item in a column of a CSV are seprated by a comma (hence _comma seperated_). Check out the example of the school data below to see how the file is translated into a table. \n",
    "\n",
    "**school_data.csv** :\n",
    "\n",
    "```\n",
    "Student Id, Major, GPA\n",
    "52468, \"Physics\", 4.0 \n",
    "32691, \"Computer Science\", 2.6\n",
    "26483, \"Biology\", 3.1\n",
    "```\n",
    "\n",
    "| Student Id | Major            | GPA |\n",
    "|------------|------------------|-----|\n",
    "| 52468      | Physics          | 4.0 |\n",
    "| 32691      | Computer Science | 2.6 |\n",
    "| 26483      | Biology          | 3.1 |\n",
    "\n",
    "So now that you have an idea of how data is stored in a CSV, lets create one! This can be achieved by writing a for loop that creates a string with comma seperated values, but this can be a bit tedious to code. So we will be using the **csv.writer** function to simplify the file creation process.\n",
    "\n",
    "The **csv.writer** function takes a new file as an argument to create a csv.writer object (```writer```). To write a row of data to the object we created, we will use the **.writerow** function which accepts an "
   ]
  },
  {
   "cell_type": "code",
   "execution_count": 12,
   "metadata": {},
   "outputs": [],
   "source": [
    "# now let's write our data to some files\n",
    "import csv\n",
    "\n",
    "writer = csv.writer(open('data/proton_speeds_kms.csv', 'w'))\n",
    "\n",
    "# this writes the header of the CSV file\n",
    "writer.writerow(['day', 'proton speed (km/s)'])\n",
    "\n",
    "# this stores all the data you collected in the days and proton_speeds_kms lists\n",
    "for i,ps in enumerate(proton_speeds_kms):\n",
    "    writer.writerow([days[i], ps])"
   ]
  },
  {
   "cell_type": "code",
   "execution_count": 14,
   "metadata": {},
   "outputs": [
    {
     "data": {
      "text/plain": [
       "_csv.writer"
      ]
     },
     "execution_count": 14,
     "metadata": {},
     "output_type": "execute_result"
    }
   ],
   "source": [
    "type(writer)"
   ]
  },
  {
   "cell_type": "markdown",
   "metadata": {},
   "source": [
    "Lets verify that the table we created is correct. We will be using a library called **pandas** to view the table. This library will be explored more in future exercises."
   ]
  },
  {
   "cell_type": "code",
   "execution_count": null,
   "metadata": {},
   "outputs": [],
   "source": [
    "import pandas as pd\n",
    "\n",
    "# this will display the CSV you created\n",
    "pd.read_csv('data/proton_speeds_kms.csv').head()"
   ]
  },
  {
   "cell_type": "markdown",
   "metadata": {},
   "source": [
    "#### <span style=\"color:blue\"> Exercise 4.5 </span>\n",
    "\n",
    "Write the data for proton densities and proton temperatures in their own CSV files. Make sure they have proper headers!"
   ]
  },
  {
   "cell_type": "code",
   "execution_count": null,
   "metadata": {},
   "outputs": [],
   "source": [
    "# Proton Densities Data\n",
    "writer = csv.writer(open('data/proton_densities_cm3.csv', 'w'))\n",
    "\n",
    "\n",
    "# Proton Temperatues Data\n",
    "writer = csv.writer(open('data/proton_temperatures_K.csv', 'w'))\n",
    "\n"
   ]
  },
  {
   "cell_type": "code",
   "execution_count": null,
   "metadata": {},
   "outputs": [],
   "source": [
    "# verify proton densities CSV\n",
    "pd.read_csv('data/proton_densities_cm3.csv').head()"
   ]
  },
  {
   "cell_type": "code",
   "execution_count": null,
   "metadata": {},
   "outputs": [],
   "source": [
    "# verify proton temperatures CSV\n",
    "pd.read_csv('data/proton_temperatures_K.csv').head()"
   ]
  },
  {
   "cell_type": "markdown",
   "metadata": {},
   "source": [
    "## Coming Soon! An Introduction to Pandas"
   ]
  }
 ],
 "metadata": {
  "kernelspec": {
   "display_name": "Python 3",
   "language": "python",
   "name": "python3"
  },
  "language_info": {
   "codemirror_mode": {
    "name": "ipython",
    "version": 3
   },
   "file_extension": ".py",
   "mimetype": "text/x-python",
   "name": "python",
   "nbconvert_exporter": "python",
   "pygments_lexer": "ipython3",
   "version": "3.6.7"
  }
 },
 "nbformat": 4,
 "nbformat_minor": 2
}
