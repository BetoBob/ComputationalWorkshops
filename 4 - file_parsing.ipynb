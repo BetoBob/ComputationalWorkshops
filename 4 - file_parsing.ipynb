{
 "cells": [
  {
   "cell_type": "markdown",
   "metadata": {},
   "source": [
    "# File Parsing\n",
    "\n",
    "Now making lists for data points is all good and dandy, but what if you have <h3>lots</h3> of data?"
   ]
  },
  {
   "cell_type": "code",
   "execution_count": 25,
   "metadata": {},
   "outputs": [],
   "source": [
    "import matplotlib.pyplot as plt\n",
    "import numpy as np\n",
    "%matplotlib inline"
   ]
  },
  {
   "cell_type": "markdown",
   "metadata": {},
   "source": [
    "We will read Voyager-2 data in this notebook.\n",
    "[Voyager-2](https://voyager.jpl.nasa.gov) is a spacecraft that was launched in [1977](https://en.wikipedia.org/wiki/Voyager_2). It collects data about the local space environment, including the flux (or rate per unit time and area) of electrons and protons in the nearby environnment.\n",
    "\n",
    "Let's try reading the file."
   ]
  },
  {
   "cell_type": "markdown",
   "metadata": {},
   "source": [
    "We're going to use python's built-in functions to read data from a NASA Voyager data. |\n",
    "\n",
    "The line below [opens](https://docs.python.org/3/library/functions.html#open) a file called ```VY2PLA_1H_FMT.txt``` in folder ```infiles```. If you look in the github or in your file folder containing these notebooks, you should find a folder called ```infiles``` and a file therein called ```VY2PLA_1H_FMT.txt```. The ```\"r\"``` string at the end tells the computer to open the file for _reading_ rather than for _writing_ (or something else).\n"
   ]
  },
  {
   "cell_type": "code",
   "execution_count": 3,
   "metadata": {},
   "outputs": [
    {
     "name": "stdout",
     "output_type": "stream",
     "text": [
      "infiles/VY2PLA_1H_FMT.txt\n"
     ]
    }
   ],
   "source": [
    "outfile = open(\"infiles/VY2PLA_1H_FMT.txt\",\"r\")\n",
    "print(outfile.name)"
   ]
  },
  {
   "cell_type": "markdown",
   "metadata": {},
   "source": [
    "You might think, \"Great work!\", but of course, you know that when you open a file in say, Microsoft Word, and you want to know what's in there, you have to read it. You have to tell the computer to do that too. We will use [readlines()]() to do it here."
   ]
  },
  {
   "cell_type": "code",
   "execution_count": 4,
   "metadata": {},
   "outputs": [],
   "source": [
    "data=outfile.readlines()"
   ]
  },
  {
   "cell_type": "markdown",
   "metadata": {},
   "source": [
    "This readlines all the lines in the file. How many lines are there?"
   ]
  },
  {
   "cell_type": "code",
   "execution_count": 5,
   "metadata": {},
   "outputs": [
    {
     "data": {
      "text/plain": [
       "50"
      ]
     },
     "execution_count": 5,
     "metadata": {},
     "output_type": "execute_result"
    }
   ],
   "source": [
    "len(data)"
   ]
  },
  {
   "cell_type": "markdown",
   "metadata": {},
   "source": [
    "And what's in the file?"
   ]
  },
  {
   "cell_type": "code",
   "execution_count": 6,
   "metadata": {},
   "outputs": [
    {
     "name": "stdout",
     "output_type": "stream",
     "text": [
      "['File: VY2PLA_1H_FMT.txt                       Version: NSSDC 12/31/98 MIT\\n', '-------------------------------------------------------------------------\\n', '\\n', 'The files in this directory contain Voyager hourly average plasma data.\\n', 'The plasma parameters are obtained by finding the best fit of a convected\\n', 'isotropic Maxwellian distribution to the data. One sigma errors\\n', 'are typically less than 0.5% in the speed and VR, less than 5% for the\\n', 'density and thermal speed, and vary greatly for VT and VN.\\n', 'Sampling times range from 12 to 192 sec., with sampling generally more\\n', 'frequent early in the mission. The columns are:\\n', '\\n', '1) Year                                         \\n', '2) day of year (day 1 is Jan. 1)\\n', '3) hour\\n', '4) proton speed in km/s (magnitude of V)\\n', '5) proton density in cm-3\\n', '6) proton thermal speed in km/s (proton temperature in eV = .0052 times the\\n', 'square of the thermal speed)\\n', '7) VR\\n', '8) VT (WARNING: this parameter is often NOT reliable after 1989)\\n', '9) VN (WARNING: this parameter is often NOT reliable after 1989)\\n', '\\n', 'The velocity components are given in the RTN coordinate system,  \\n', 'where R is radially outward, T is in a plane parallel to the solar\\n', 'equatorial plane and positive in the direction of solar rotation,\\n', 'and N completes a right-handed system.\\n', '\\n', 'The form of the file name is usually of a form similar to\\n', 'sc_type_start_end_dis.suff\\n', 'where any of these may be missing.\\n', 'sc        is Space Craft v1 or v2\\n', 'type      is type of data, usually the same as the directory name, (e.g. \\n', '          sedr ha )\\n', 'start     start time year.day.hour ( day and hour may be missing)\\n', 'end       end   time year.day.hour ( day and hour may be missing)\\n', 'dis       descriptor, if any addition processing is needed, (e.g. filt \\n', '          implies the data has been filtered, see README in that \\n', '          directory.)\\n', 'suff      suffix, Z, gz implies the type of compression etc.\\n', '\\n', 'The formats may describe more fields that the data sets contain.\\n', 'In that case, the fields in the description should just be ignored.\\n', 'In some cases, 00000 is used as a fill, and implies the that data\\n', 'is unavailable.  Common sense is required to distinguish missing data\\n', 'from true zeros.\\n', '\\n', ' \\n', 'Please consult with us, or at least send preprints, when you use this data to\\n', 'prevent grievous errors or misconceptions. (John Richardson, jdr@space.mit.edu)\\n', '\\n']\n"
     ]
    }
   ],
   "source": [
    "print(data)"
   ]
  },
  {
   "cell_type": "markdown",
   "metadata": {},
   "source": [
    "Look carefully at the list above that gets returned by readlines. You'll see that each item in the list is a string that corresponds to a single line of text in the file. Each string ends with ```\\n``` which is a formatting command that tells the computer to go to the next line."
   ]
  },
  {
   "cell_type": "markdown",
   "metadata": {},
   "source": [
    "#### <span style=\"color:blue\"> Exercise 4.1 </span>\n",
    "So that you can read the information in the line a little easier, write a for loop that prints each line in the file on a single line."
   ]
  },
  {
   "cell_type": "code",
   "execution_count": 7,
   "metadata": {},
   "outputs": [],
   "source": [
    "# Write a for loop that prints each line in the file."
   ]
  },
  {
   "cell_type": "markdown",
   "metadata": {},
   "source": [
    "### Parsing data"
   ]
  },
  {
   "cell_type": "markdown",
   "metadata": {},
   "source": [
    "The file we read ```VY2PLA_1H_FMT.txt``` tells us about how the data is formatted in the data files. Armed with that information (go back and review if you didn't already), we can proceed to extract individual data points from the data files. ```v2_hour_2007.txt``` is one such file."
   ]
  },
  {
   "cell_type": "code",
   "execution_count": 8,
   "metadata": {},
   "outputs": [
    {
     "name": "stdout",
     "output_type": "stream",
     "text": [
      "infiles/v2_hour_2007.txt\n"
     ]
    }
   ],
   "source": [
    "# that defines the format. Now we want to read the data itself\n",
    "datafile = open(\"infiles/v2_hour_2007.txt\",\"r\")\n",
    "data=datafile.readlines()\n",
    "print(datafile.name)"
   ]
  },
  {
   "cell_type": "code",
   "execution_count": 9,
   "metadata": {},
   "outputs": [
    {
     "name": "stdout",
     "output_type": "stream",
     "text": [
      "1728\n"
     ]
    }
   ],
   "source": [
    "print(len(data))"
   ]
  },
  {
   "cell_type": "code",
   "execution_count": 10,
   "metadata": {},
   "outputs": [
    {
     "name": "stdout",
     "output_type": "stream",
     "text": [
      "2007   1 18  397.4  0.00093   16.5  396.3    2.9  -24.1\n",
      "\n",
      "2007   1 19  389.1  0.00078    8.7  388.8   -4.9   13.9\n",
      "\n",
      "2007   1 20  395.9  0.00063    8.0  395.8   -6.4    6.1\n",
      "\n",
      "2007   2 23  406.4  0.00095   25.2  406.2   10.0   -0.7\n",
      "\n"
     ]
    }
   ],
   "source": [
    "for line in data[0:4]:\n",
    "    print(line,)"
   ]
  },
  {
   "cell_type": "markdown",
   "metadata": {},
   "source": [
    "Let's try to extract the date (year, day-of-year, hour). I can see from the formatting information that the year is the first column of the data, the day-of-year is the second column, and hour is the third column.\n",
    "\n",
    "So let's try ```line[0], line[1], line[2]``` in our for loop above."
   ]
  },
  {
   "cell_type": "code",
   "execution_count": 32,
   "metadata": {},
   "outputs": [
    {
     "name": "stdout",
     "output_type": "stream",
     "text": [
      "2 0 0\n",
      "2 0 0\n",
      "2 0 0\n",
      "2 0 0\n"
     ]
    }
   ],
   "source": [
    "for line in data[0:4]:\n",
    "    year = line[0]\n",
    "    dayofyear = line[1]\n",
    "    hour = line[2]\n",
    "    print(year, dayofyear, hour)"
   ]
  },
  {
   "cell_type": "markdown",
   "metadata": {},
   "source": [
    "Does it work? "
   ]
  },
  {
   "cell_type": "markdown",
   "metadata": {},
   "source": [
    "It shouldn't. That's because each line is a single string with all the data separated by spaces. So we have to split the line up by the string values. Review the docstring for [split()](https://docs.python.org/2/library/stdtypes.html#str.split). By default the split funciton looks for spaces and divides up the line, but you can split a line based on other delimiters if you want. (Review the docs to figure out how.)\n",
    "\n",
    "Below we will extract the first line from the data, then split the line based on the spaces, and then print the resulting list"
   ]
  },
  {
   "cell_type": "code",
   "execution_count": 33,
   "metadata": {},
   "outputs": [
    {
     "name": "stdout",
     "output_type": "stream",
     "text": [
      "2007   1 18  397.4  0.00093   16.5  396.3    2.9  -24.1\n",
      "\n",
      "['2007', '1', '18', '397.4', '0.00093', '16.5', '396.3', '2.9', '-24.1']\n"
     ]
    }
   ],
   "source": [
    "line = data[0]\n",
    "print(line)\n",
    "items = line.split()\n",
    "print(items)"
   ]
  },
  {
   "cell_type": "markdown",
   "metadata": {},
   "source": [
    "What type are the new items in the list? They should be strings, and you can tell because there are ```' '``` quotation marks around each string. "
   ]
  },
  {
   "cell_type": "markdown",
   "metadata": {},
   "source": [
    "#### <span style=\"color:blue\"> Exercise 4.2 </span>\n",
    "But we want the year, day-of-year, and hour to be ```float```'s. Cast the items into floats"
   ]
  },
  {
   "cell_type": "code",
   "execution_count": 22,
   "metadata": {},
   "outputs": [],
   "source": [
    "## Convert the items to floats\n",
    "\n",
    "\n"
   ]
  },
  {
   "cell_type": "markdown",
   "metadata": {},
   "source": [
    "Now we will write a for loop that cycles through each line and extracts the year and day-of-year."
   ]
  },
  {
   "cell_type": "code",
   "execution_count": 35,
   "metadata": {},
   "outputs": [
    {
     "name": "stdout",
     "output_type": "stream",
     "text": [
      "['2007', '1', '18', '397.4', '0.00093', '16.5', '396.3', '2.9', '-24.1']\n",
      "2007.0\n",
      "2007.0 1.0 18.0\n",
      "['2007', '1', '19', '389.1', '0.00078', '8.7', '388.8', '-4.9', '13.9']\n",
      "2007.0\n",
      "2007.0 1.0 19.0\n",
      "['2007', '1', '20', '395.9', '0.00063', '8.0', '395.8', '-6.4', '6.1']\n",
      "2007.0\n",
      "2007.0 1.0 20.0\n",
      "['2007', '2', '23', '406.4', '0.00095', '25.2', '406.2', '10.0', '-0.7']\n",
      "2007.0\n",
      "2007.0 2.0 23.0\n"
     ]
    }
   ],
   "source": [
    "# cycle through each line and extract\n",
    "# the year and day of year, hour,\n",
    "## proton speed, proton density\n",
    "## and proton temperature\n",
    "for line in data[0:4]:\n",
    "    split_line = line.split()\n",
    "    print(split_line)\n",
    "    print(float(split_line[0]))\n",
    "    year = float(split_line[0])\n",
    "    dayofyear = float(split_line[1])\n",
    "    hour = float(split_line[2])\n",
    "    print(year, dayofyear, hour)\n",
    "    #proton_speed_kms = float(split_line[3])\n",
    "    #proton_density_cm3 = float(split_line[4])\n",
    "    #proton_temperature_K = float(split_line[5])**2*0.0052 * 11604.505"
   ]
  },
  {
   "cell_type": "markdown",
   "metadata": {},
   "source": [
    "Let's try printing the year, dayofyear, and hour again, after we've parsed all those lines."
   ]
  },
  {
   "cell_type": "code",
   "execution_count": 36,
   "metadata": {},
   "outputs": [
    {
     "name": "stdout",
     "output_type": "stream",
     "text": [
      "2007.0 2.0 23.0\n"
     ]
    }
   ],
   "source": [
    "print(year, dayofyear, hour)"
   ]
  },
  {
   "cell_type": "markdown",
   "metadata": {},
   "source": [
    "Notice a problem? We wanted to read **all** the data, and right now we only have the last ones. To read and **store** all the data, we'll need to use lists."
   ]
  },
  {
   "cell_type": "code",
   "execution_count": 37,
   "metadata": {},
   "outputs": [],
   "source": [
    "#Now store the data in arrays\n",
    "years = []\n",
    "days  = []\n",
    "hours = []\n",
    "\n",
    "\n",
    "for line in data:\n",
    "    split_line = line.split()\n",
    "\n",
    "    years.append(float(split_line[0]))\n",
    "    days.append(float(split_line[1]))\n",
    "    hours.append(float(split_line[2]))"
   ]
  },
  {
   "cell_type": "markdown",
   "metadata": {},
   "source": [
    "#### <span style=\"color:blue\"> Exercise 4.3 </span>\n",
    "We also want to look at the data recorded by the plasma sensors on Voyager-2. In particular, we're interested in the protons near the Voyager-2 spacecraft.\n",
    "\n",
    "Go back to the formatting text and figure out which of the columns have the speed, density, and temperature of the protons. Then store the data into three lists.\n",
    "\n",
    "Note that to get the temperature in units of Kelvin:\n",
    "$$ T = 0.0052 \\times 11604.505  v_{thermal}^2 $$\n",
    "where $v_{thermal}$ is the proton's thermal speed."
   ]
  },
  {
   "cell_type": "code",
   "execution_count": 44,
   "metadata": {},
   "outputs": [],
   "source": [
    "# cycle through each line and extract\n",
    "# the year and day of year, hour,\n",
    "# proton speed in km/s, proton density in cm^-3\n",
    "# and proton temperature in K, storing the data in lists\n",
    "\n",
    "# here are some empty lists for you to use\n",
    "years = []\n",
    "days  = []\n",
    "hours = []\n",
    "proton_speeds_kms = []\n",
    "proton_densities_cm3 = []\n",
    "proton_temperatures_K = []\n",
    "\n",
    "\n",
    "\n",
    "\n",
    "\n"
   ]
  },
  {
   "cell_type": "markdown",
   "metadata": {},
   "source": [
    "## Interpreting the Data\n",
    "Since its been traveling for more than **40 years**, Voyager-2 may have left the edge of the solar system by now. You might wonder, how do we not know whether it has or not? Isn't the size of the solar system known? \n",
    "\n",
    "Well, the answer is kind of. Voyager can help us understand how large the solar system is and its shape. You can tell by plotting the proton's density, speed, and temperature over time.\n",
    "\n",
    "The sun pumps protons into the solar system in the form of the solar wind. When Voyager-2 leaves the solar system, it crosses a shock wave. Inside of the shock, the protons are moving very fast, pumped by the solar wind. Outside, you're in interstellar space whether the particles are moving much slower. You can read the fascinating story of Voyager crossing the shock [here](https://www.nature.com/articles/454038a)."
   ]
  },
  {
   "cell_type": "markdown",
   "metadata": {},
   "source": [
    "#### <span style=\"color:blue\"> Exercise 4.4 </span>\n",
    "So let's take a look at what the data are telling us. \n",
    "\n",
    "Make three plots:\n",
    "+ The proton speed vs. the day of year\n",
    "+ The proton density vs. the day of year.\n",
    "+ The proton temperature vs. the day of year.\n",
    "\n",
    "You should see a transition in all three of these plots? Which one is the most striking? Can you find the day of year (in what year?) Voyager-2 left the solar system?"
   ]
  },
  {
   "cell_type": "code",
   "execution_count": 46,
   "metadata": {},
   "outputs": [],
   "source": [
    "# make a plot of the proton speed vs. the day of year\n",
    "\n",
    "\n"
   ]
  },
  {
   "cell_type": "code",
   "execution_count": 47,
   "metadata": {},
   "outputs": [],
   "source": [
    "# make a plot of the proton density vs. the day of year\n",
    "\n",
    "\n"
   ]
  },
  {
   "cell_type": "code",
   "execution_count": 48,
   "metadata": {},
   "outputs": [],
   "source": [
    "# make a plot of the proton temperature vs. the day of year.\n",
    "\n",
    "\n",
    "\n"
   ]
  },
  {
   "cell_type": "markdown",
   "metadata": {},
   "source": [
    "## Writing Data to a File"
   ]
  },
  {
   "cell_type": "code",
   "execution_count": null,
   "metadata": {},
   "outputs": [],
   "source": [
    "O"
   ]
  },
  {
   "cell_type": "code",
   "execution_count": 17,
   "metadata": {},
   "outputs": [],
   "source": [
    "# now let's write our data to some files\n",
    "import csv\n",
    "\n",
    "writer = csv.writer(open('proton_speeds_kms.csv', 'w'))\n",
    "for i,ps in enumerate(proton_speeds_kms):\n",
    "    writer.writerow([days[i], ps])\n",
    "writer = csv.writer(open('proton_densities_cm3.csv', 'w'))\n",
    "for i,pd in enumerate(proton_densities_cm3):\n",
    "    writer.writerow([days[i], pd])\n",
    "writer = csv.writer(open('proton_temperatures_K.csv', 'w'))\n",
    "for i,pt in enumerate(proton_temperatures_K):\n",
    "    writer.writerow([days[i], pt])"
   ]
  }
 ],
 "metadata": {
  "kernelspec": {
   "display_name": "Python 3",
   "language": "python",
   "name": "python3"
  },
  "language_info": {
   "codemirror_mode": {
    "name": "ipython",
    "version": 3
   },
   "file_extension": ".py",
   "mimetype": "text/x-python",
   "name": "python",
   "nbconvert_exporter": "python",
   "pygments_lexer": "ipython3",
   "version": "3.7.0"
  }
 },
 "nbformat": 4,
 "nbformat_minor": 2
}
