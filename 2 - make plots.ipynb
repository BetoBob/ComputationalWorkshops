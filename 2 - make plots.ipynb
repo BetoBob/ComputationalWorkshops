{
 "cells": [
  {
   "cell_type": "markdown",
   "metadata": {},
   "source": [
    "# Plots\n",
    "\n",
    "Python is a great programming langauge for data visualization! We can create line graphs from lists of data using the matplotlib.pyplot library (which we will import as plt)."
   ]
  },
  {
   "cell_type": "code",
   "execution_count": null,
   "metadata": {},
   "outputs": [],
   "source": [
    "import matplotlib.pyplot as plt\n",
    "import numpy as np"
   ]
  },
  {
   "cell_type": "code",
   "execution_count": null,
   "metadata": {},
   "outputs": [],
   "source": [
    "x = [1, 2, 3,  4,  5,   6] # x-axis\n",
    "y = [4, 8, 12, 16, 20, 24] # y-axis"
   ]
  },
  {
   "cell_type": "markdown",
   "metadata": {},
   "source": [
    "Think of these two lists as sets of x and y coordinates. To plot these, simply use the plot method as shown below. The first argument in the plot method is the list of x-axis values and the second argument is the list of y-axis values. "
   ]
  },
  {
   "cell_type": "code",
   "execution_count": null,
   "metadata": {},
   "outputs": [],
   "source": [
    "plt.plot(x,y)"
   ]
  },
  {
   "cell_type": "markdown",
   "metadata": {},
   "source": [
    "### Numpy Sidenote\n",
    "\n",
    "The numpy library can be used to make certain list operations easier! For instance, the **np.arrange** function generates a list of incremented values. Here are the function's arguments:\n",
    "\n",
    "1. The beginning of the list (0)\n",
    "2. The maximum value of the list (100; this is an exclusive maximum, so it will not be included in the list)\n",
    "3. The incrementing value (1)"
   ]
  },
  {
   "cell_type": "code",
   "execution_count": null,
   "metadata": {},
   "outputs": [],
   "source": [
    "# creating the t list\n",
    "t = np.arange(0, 100, 1)\n",
    "print(\"t list: \\n\", t)"
   ]
  },
  {
   "cell_type": "markdown",
   "metadata": {},
   "source": [
    "As you can see above, a list of integers 0 - 99 were created. \n",
    "\n",
    "Now we want to multiply each value in the t list by the velocity variable (10). Python's computations are very flexible, so all we need to do it multiply the list t by the velocity variable! We are going to store it in the variable x."
   ]
  },
  {
   "cell_type": "code",
   "execution_count": null,
   "metadata": {},
   "outputs": [],
   "source": [
    "# creating the new x-list\n",
    "velocity = 10\n",
    "x = t * velocity\n",
    "print(\"\\nx list: \\n\", x)"
   ]
  },
  {
   "cell_type": "markdown",
   "metadata": {},
   "source": [
    "## Labels\n",
    " \n",
    "The graph above is nice, but it could be a lot more descriptive! We should add labels to this plot using the plt.xlabel and plt.ylabel methods! The arguments for each method is a string describing their coresponding axis."
   ]
  },
  {
   "cell_type": "code",
   "execution_count": null,
   "metadata": {},
   "outputs": [],
   "source": [
    "plt.plot(t, x)\n",
    "plt.xlabel(\"time (s)\")\n",
    "plt.ylabel(\"distance (m)\")"
   ]
  },
  {
   "cell_type": "markdown",
   "metadata": {},
   "source": [
    "## Multiple Plots\n",
    "\n",
    "What if we want to compare two different speeds on the same graph? Simply plot the two line graphs in the same cell!"
   ]
  },
  {
   "cell_type": "code",
   "execution_count": null,
   "metadata": {},
   "outputs": [],
   "source": [
    "# creation of x1 and x2 lists (two different velocities)\n",
    "t = np.arange(0, 100, 1)\n",
    "\n",
    "velocity1 = 10\n",
    "x1 = velocity1 * t\n",
    "\n",
    "velocity2 = 20\n",
    "x2 = velocity2 * t"
   ]
  },
  {
   "cell_type": "code",
   "execution_count": null,
   "metadata": {},
   "outputs": [],
   "source": [
    "# our new plot!\n",
    "plt.plot(t, x1)\n",
    "plt.plot(t, x2)\n",
    "\n",
    "plt.xlabel(\"time (s)\")\n",
    "plt.ylabel(\"distance (m)\")\n",
    "plt.title(\"v1 vs. v2\")"
   ]
  },
  {
   "cell_type": "markdown",
   "metadata": {},
   "source": [
    "## Legends\n",
    "\n",
    "Now that both line graphs are plotted, how do we distinguish one line graph from another? We can add a label each plot that describes what each line graph represents. \n",
    "\n",
    "To display a legend of these labels, include the plt.legend() function in the code cell."
   ]
  },
  {
   "cell_type": "code",
   "execution_count": null,
   "metadata": {},
   "outputs": [],
   "source": [
    "# plot the line graphs with labels\n",
    "plt.plot(t, x1, label='v1')\n",
    "plt.plot(t, x2, label='v2')\n",
    "\n",
    "plt.xlabel(\"time (s)\")\n",
    "plt.ylabel(\"distance (m)\")\n",
    "plt.title(\"v1 vs. v2\")\n",
    "\n",
    "plt.legend()"
   ]
  },
  {
   "cell_type": "code",
   "execution_count": null,
   "metadata": {},
   "outputs": [],
   "source": [
    "# ADD DATA WITH ERRORBARS"
   ]
  },
  {
   "cell_type": "code",
   "execution_count": null,
   "metadata": {},
   "outputs": [],
   "source": []
  }
 ],
 "metadata": {
  "kernelspec": {
   "display_name": "Python 3",
   "language": "python",
   "name": "python3"
  },
  "language_info": {
   "codemirror_mode": {
    "name": "ipython",
    "version": 3
   },
   "file_extension": ".py",
   "mimetype": "text/x-python",
   "name": "python",
   "nbconvert_exporter": "python",
   "pygments_lexer": "ipython3",
   "version": "3.6.7"
  }
 },
 "nbformat": 4,
 "nbformat_minor": 2
}
