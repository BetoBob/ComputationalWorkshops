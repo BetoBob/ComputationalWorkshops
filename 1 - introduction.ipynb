{
 "cells": [
  {
   "cell_type": "markdown",
   "metadata": {},
   "source": [
    "# Introduction\n",
    "\n",
    "Welcome to Python and Jupyter Notebooks! Jupyter is a Python interpreter. This means that you can run Python code directly from the notebook/browser.\n",
    "\n",
    "Jupyter Notebooks are composed of text and code cells. Text cells, called \"Markdown\" allow you to write formatted text (like this cell!). Code cells are used to write and run code."
   ]
  },
  {
   "cell_type": "markdown",
   "metadata": {},
   "source": [
    "## Python\n",
    "\n",
    "Python is a high level programming language. A high level programming language is a programming language that is closer to English than bits and bytes. \n",
    "\n",
    "### What can you do with Python?\n",
    "\n",
    "You can do math!\n",
    "\n",
    "To run the code cell below, select the cell and press the 'Cntrl' key and the 'Enter' key at the same time. You can also press the \"Shift\" and \"Enter\" keys at the same time. Another way to run the code cell is to press the 'Run' button at the top of the screen. Feel free to try some of your own math using other operators such as minus ' - ', multiply ' \\* ' and  divide ' / ' !"
   ]
  },
  {
   "cell_type": "code",
   "execution_count": 5,
   "metadata": {},
   "outputs": [
    {
     "data": {
      "text/plain": [
       "11"
      ]
     },
     "execution_count": 5,
     "metadata": {},
     "output_type": "execute_result"
    }
   ],
   "source": [
    "3+8"
   ]
  },
  {
   "cell_type": "markdown",
   "metadata": {},
   "source": [
    "### Modules\n",
    "\n",
    "Sometimes you want to use code that has already been written. You can do this by using the import command. Python has a lot of useful code grouped by function/use; these are called libraries.\n",
    "\n",
    "For example, the library used in the cell below, 'numpy', has many math constants and functions already defined. Let's import the numpy libray and alias it (or nickname it) as np. "
   ]
  },
  {
   "cell_type": "code",
   "execution_count": 6,
   "metadata": {
    "collapsed": true
   },
   "outputs": [],
   "source": [
    "import numpy as np"
   ]
  },
  {
   "cell_type": "markdown",
   "metadata": {},
   "source": [
    "To access constants and functions in a library, write the library name followed by a period and the name of the constant/function.\n",
    "\n",
    "In the example below, we will display the constant value pi to the screen."
   ]
  },
  {
   "cell_type": "code",
   "execution_count": 7,
   "metadata": {},
   "outputs": [
    {
     "data": {
      "text/plain": [
       "3.141592653589793"
      ]
     },
     "execution_count": 7,
     "metadata": {},
     "output_type": "execute_result"
    }
   ],
   "source": [
    "np.pi"
   ]
  },
  {
   "cell_type": "markdown",
   "metadata": {},
   "source": [
    "Here is an example of a library function. The np function 'round\\_' is used to round a decimal value."
   ]
  },
  {
   "cell_type": "code",
   "execution_count": 8,
   "metadata": {},
   "outputs": [
    {
     "data": {
      "text/plain": [
       "1.0"
      ]
     },
     "execution_count": 8,
     "metadata": {},
     "output_type": "execute_result"
    }
   ],
   "source": [
    "np.round_(1.234)"
   ]
  },
  {
   "cell_type": "markdown",
   "metadata": {},
   "source": [
    "When using a library, documentation is always your best friend. You can read more about numpy's constants and functions in it's reference documentation [here](https://docs.scipy.org/doc/numpy/reference/)!"
   ]
  },
  {
   "cell_type": "markdown",
   "metadata": {},
   "source": [
    "## Variables\n",
    "\n",
    "You can assign names to values! This is useful if the values change or you use the value more than once. In the cell below, the values of epsilon0, charge and radius are stored as variables and are used to calculate the force variable.\n",
    "\n",
    "Special Notes: \n",
    "- the '\\*\\*' in the force equation represents an exponent (for example: 2\\**2 in python is the same as 2^2 in math) \n",
    "- the hashtags are comments. They are used for explaining what is happening in the code. They do not effect the code at all."
   ]
  },
  {
   "cell_type": "code",
   "execution_count": 9,
   "metadata": {},
   "outputs": [
    {
     "data": {
      "text/plain": [
       "0.1820840450627616"
      ]
     },
     "execution_count": 9,
     "metadata": {},
     "output_type": "execute_result"
    }
   ],
   "source": [
    "epsilon0 = 8.85e-12  # C^2 / N m^2\n",
    "charge  = 9e-9       # C\n",
    "radius  = 2e-3       # m \n",
    "force   = 1./(4*np.pi * epsilon0) * charge**2 / radius**2\n",
    "force"
   ]
  },
  {
   "cell_type": "markdown",
   "metadata": {},
   "source": [
    "### Types\n",
    "\n",
    "Variables in python have a 'type'. This is to show what kind of data is stored in the variable. The different types include:\n",
    "\n",
    "- Boolean Types\n",
    "- Numeric Types\n",
    "- String Types\n",
    "- List Types"
   ]
  },
  {
   "cell_type": "markdown",
   "metadata": {},
   "source": [
    "#### Boolean Types\n",
    "\n",
    "Booleans can have only two possible values: True or False. These types are useful when you want to add a flag to a computation. \n",
    "\n",
    "For example, let's say you wanted to keep track of which of your particles were electrons. Then you could use Boolean flags for that. (FYI: a particle with the mass and absolute value of charge of an electron is a positron, or an anti-matter electron.)"
   ]
  },
  {
   "cell_type": "code",
   "execution_count": 10,
   "metadata": {
    "collapsed": true
   },
   "outputs": [],
   "source": [
    "mass = 5.11e-31    #kg\n",
    "charge = -1.6e-19  #C\n",
    "isElectron = True  # this is my electron\n",
    "\n",
    "mass = 5.11e-31 #kg\n",
    "charge = 1.6e-19   # C\n",
    "isElectron = False # this is my positron"
   ]
  },
  {
   "cell_type": "markdown",
   "metadata": {},
   "source": [
    "#### Numeric Types\n",
    "\n",
    "There are two types of Numeric Types: Integers and Floats. Integers are the same as integers in math. Floats are simply numbers with decimals.\n",
    "\n",
    "What Numeric type would the force variable from earlier be? \n",
    "Use the type command below to check your answer."
   ]
  },
  {
   "cell_type": "code",
   "execution_count": 11,
   "metadata": {},
   "outputs": [
    {
     "data": {
      "text/plain": [
       "float"
      ]
     },
     "execution_count": 11,
     "metadata": {},
     "output_type": "execute_result"
    }
   ],
   "source": [
    "type(force)"
   ]
  },
  {
   "cell_type": "markdown",
   "metadata": {},
   "source": [
    "#### String Types\n",
    "\n",
    "String types are variables that hold text. You show that the data is text by surrounding it with either single or double quotes. Example: 'cheese' or \"cheese\" are both valid strings.\n",
    "\n",
    "Try making a string, name, that names the electron \"electron\" the positron \"positron\" in the above example."
   ]
  },
  {
   "cell_type": "code",
   "execution_count": 25,
   "metadata": {
    "collapsed": true
   },
   "outputs": [],
   "source": [
    "mass = 5.11e-31    #kg\n",
    "charge = -1.6e-19  #C\n",
    "isElectron = True  # this is my electron\n",
    "# add your string here\n",
    "\n",
    "mass = 5.11e-31 #kg\n",
    "charge = 1.6e-19   # C\n",
    "isElectron = False # this is my positron\n",
    "# add your string here"
   ]
  },
  {
   "cell_type": "markdown",
   "metadata": {},
   "source": [
    "#### List Types\n",
    "\n",
    "A list holds a set of values. A list begins and ends with opened and closed square brackets. Values in the list are seperated by commas. The list energy_kcal below holds several floats. \n",
    "\n",
    "To get the length of a list, use the 'len' function!"
   ]
  },
  {
   "cell_type": "code",
   "execution_count": 26,
   "metadata": {},
   "outputs": [
    {
     "name": "stdout",
     "output_type": "stream",
     "text": [
      "('The length of this list is', 4)\n"
     ]
    }
   ],
   "source": [
    "energy_kcal = [-13.4, -2.7, 5.4, 42.1]\n",
    "length = len(energy_kcal)\n",
    "print('The length of this list is', length)"
   ]
  },
  {
   "cell_type": "markdown",
   "metadata": {},
   "source": [
    "But what if we want to get a particular value from the list? We can access a particular value of the list using an **index**. The index is the position in the list where the value is stored. Counting the index starts at **zero**. You can access the end of a list using negative indices.\n",
    "\n",
    "For example:"
   ]
  },
  {
   "cell_type": "code",
   "execution_count": 27,
   "metadata": {},
   "outputs": [
    {
     "name": "stdout",
     "output_type": "stream",
     "text": [
      "-13.4\n",
      "-2.7\n",
      "42.1\n"
     ]
    }
   ],
   "source": [
    "print(energy_kcal[0])\n",
    "print(energy_kcal[1])\n",
    "print(energy_kcal[-1])"
   ]
  },
  {
   "cell_type": "markdown",
   "metadata": {},
   "source": [
    "Index values in a list can be changed, or mutated. "
   ]
  },
  {
   "cell_type": "code",
   "execution_count": 14,
   "metadata": {},
   "outputs": [
    {
     "name": "stdout",
     "output_type": "stream",
     "text": [
      "('Before changing the value at index 1:', [-13.4, -2.7, 5.4, 42.1])\n",
      "('After changing the value at index 1:', [-13.4, -11.296800000000001, 5.4, 42.1])\n"
     ]
    }
   ],
   "source": [
    "print(\"Before changing the value at index 1:\", energy_kcal)\n",
    "\n",
    "energy_kcal[1] = energy_kcal[1]*4.184\n",
    "\n",
    "print(\"After changing the value at index 1:\", energy_kcal)"
   ]
  },
  {
   "cell_type": "markdown",
   "metadata": {},
   "source": [
    "### Casting\n",
    "\n",
    "What if the variable is the wrong type?\n",
    "\n",
    "What happens if we add two strings that represent numbers?"
   ]
  },
  {
   "cell_type": "code",
   "execution_count": 15,
   "metadata": {},
   "outputs": [
    {
     "data": {
      "text/plain": [
       "'37'"
      ]
     },
     "execution_count": 15,
     "metadata": {},
     "output_type": "execute_result"
    }
   ],
   "source": [
    "'3' + '7'"
   ]
  },
  {
   "cell_type": "markdown",
   "metadata": {},
   "source": [
    "What actually happend was string concatenation. This is when one string is added to the end of another. To get the value of 3 + 7, we need to use casting. Casting is the act of changing a variable's type.\n",
    "\n",
    "Using the float function, we can change the string '5' into the float 5.0"
   ]
  },
  {
   "cell_type": "code",
   "execution_count": 16,
   "metadata": {},
   "outputs": [
    {
     "name": "stdout",
     "output_type": "stream",
     "text": [
      "The type and value of the label variable:\n",
      "<type 'str'>\n",
      "5\n",
      "\n",
      "After casting the label variable to a float:\n",
      "<type 'float'>\n",
      "5.0\n"
     ]
    }
   ],
   "source": [
    "print('The type and value of the label variable:')\n",
    "label = '5'\n",
    "print(type(label))\n",
    "print(label)\n",
    "\n",
    "print('\\nAfter casting the label variable to a float:')\n",
    "\n",
    "label = float(label)\n",
    "print(type(label))\n",
    "print(label)\n"
   ]
  },
  {
   "cell_type": "code",
   "execution_count": 17,
   "metadata": {},
   "outputs": [
    {
     "data": {
      "text/plain": [
       "10"
      ]
     },
     "execution_count": 17,
     "metadata": {},
     "output_type": "execute_result"
    }
   ],
   "source": [
    "# adding strings with integers\n",
    "a = '3'\n",
    "b = '7'\n",
    "\n",
    "int(a) + int(b)"
   ]
  },
  {
   "cell_type": "code",
   "execution_count": 18,
   "metadata": {},
   "outputs": [
    {
     "data": {
      "text/plain": [
       "8.84"
      ]
     },
     "execution_count": 18,
     "metadata": {},
     "output_type": "execute_result"
    }
   ],
   "source": [
    "# adding strings with floats\n",
    "c = '5.7'\n",
    "d = '3.14'\n",
    "\n",
    "float(c) + float(d)"
   ]
  },
  {
   "cell_type": "markdown",
   "metadata": {},
   "source": [
    "## For Loops\n",
    "\n",
    "What if you want to access every element of a list in order? We can use a for loop to acheive this. The for loop below iterates over the energy_kcal list. It starts from the beginning of the list (0-index) and goes until the end of the list. \n",
    "\n",
    "Inside the for loop is the action we want to do for each item in the list. In this for loop below, each value in enery_kcal is multiplled by 4.184 and printed. See for yourself!"
   ]
  },
  {
   "cell_type": "code",
   "execution_count": 19,
   "metadata": {},
   "outputs": [
    {
     "name": "stdout",
     "output_type": "stream",
     "text": [
      "-56.0656\n",
      "-47.2658112\n",
      "22.5936\n",
      "176.1464\n"
     ]
    }
   ],
   "source": [
    "for number in energy_kcal:\n",
    "    kJ = number*4.184\n",
    "    print(kJ)"
   ]
  },
  {
   "cell_type": "markdown",
   "metadata": {},
   "source": [
    "If we want to save these calculations, we can create a new list to store them in. A new list variable can be created by setting a variable equal to empty square brackets (energy_kJ). \n",
    "\n",
    "To add the new calculations to this list, use the append function. This adds the new values to the end of the list."
   ]
  },
  {
   "cell_type": "code",
   "execution_count": 20,
   "metadata": {},
   "outputs": [
    {
     "name": "stdout",
     "output_type": "stream",
     "text": [
      "[-56.0656, -47.26581120000001, 22.593600000000002, 176.1464]\n"
     ]
    }
   ],
   "source": [
    "energy_kJ = []\n",
    "for number in energy_kcal:\n",
    "    kJ = number*4.184\n",
    "    energy_kJ.append(kJ)\n",
    "\n",
    "print(energy_kJ)"
   ]
  },
  {
   "cell_type": "markdown",
   "metadata": {},
   "source": [
    "## Conditional Statements\n",
    "\n",
    "Let's say you have a list of positive and negative numbers. What if you only want to print only the positive numbers? We can use an **if statement** to print only these.  "
   ]
  },
  {
   "cell_type": "code",
   "execution_count": 21,
   "metadata": {},
   "outputs": [
    {
     "name": "stdout",
     "output_type": "stream",
     "text": [
      "[-13.4, -11.296800000000001, 5.4, 42.1]\n"
     ]
    }
   ],
   "source": [
    "print(energy_kcal) # we want to print only 5.4 and 42.1"
   ]
  },
  {
   "cell_type": "code",
   "execution_count": 22,
   "metadata": {},
   "outputs": [
    {
     "name": "stdout",
     "output_type": "stream",
     "text": [
      "5.4\n",
      "42.1\n"
     ]
    }
   ],
   "source": [
    "for number in energy_kcal:\n",
    "    if number > 0:\n",
    "        print(number)"
   ]
  },
  {
   "cell_type": "markdown",
   "metadata": {},
   "source": [
    "But lets say you want to split the list into two lists of positive and negative numbers. Using an **else statement** we can put the odd numbers in a seperate list."
   ]
  },
  {
   "cell_type": "code",
   "execution_count": 23,
   "metadata": {},
   "outputs": [
    {
     "name": "stdout",
     "output_type": "stream",
     "text": [
      "[5.4, 42.1]\n",
      "[-13.4, -11.296800000000001]\n"
     ]
    }
   ],
   "source": [
    "positives = []\n",
    "negatives = []\n",
    "for number in energy_kcal:\n",
    "    if number > 0:\n",
    "        positives.append(number)\n",
    "    else:\n",
    "        negatives.append(number)\n",
    "        \n",
    "print(positives)\n",
    "print(negatives)"
   ]
  },
  {
   "cell_type": "markdown",
   "metadata": {},
   "source": [
    "Want to try writing your own code? Click the + button in the tool bar above to add a new coding cell!\n",
    "\n",
    "Interested in learning more? Click [here](https://docs.python.org/3/tutorial/index.html)!"
   ]
  }
 ],
 "metadata": {
  "kernelspec": {
   "display_name": "Python 2",
   "language": "python",
   "name": "python2"
  },
  "language_info": {
   "codemirror_mode": {
    "name": "ipython",
    "version": 2
   },
   "file_extension": ".py",
   "mimetype": "text/x-python",
   "name": "python",
   "nbconvert_exporter": "python",
   "pygments_lexer": "ipython2",
   "version": "2.7.13"
  }
 },
 "nbformat": 4,
 "nbformat_minor": 2
}
