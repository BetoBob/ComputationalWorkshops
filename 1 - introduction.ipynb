{
 "cells": [
  {
   "cell_type": "markdown",
   "metadata": {},
   "source": [
    "# Introduction\n",
    "\n",
    "Welcome to python and Jupyter Notebooks!\n",
    "\n",
    "Jupyter is a python interpreter, this means that you can run python code directly from notebook/browser.\n",
    "\n",
    "Jupyter Notebooks are composed of text cells and code cells. Text cells, called \"Markdown\" allow you to use formatting but cannot be run as code. Code cells, called \"Code\", allow you to run the code written in the cell, like a program. "
   ]
  },
  {
   "cell_type": "markdown",
   "metadata": {},
   "source": [
    "## Python\n",
    "\n",
    "Python is a high level programming language. A high level programming language is a programming language that is closer to English than bits and bytes. \n",
    "\n",
    "### What can you do with Python?\n",
    "\n",
    "You can do math!\n",
    "\n",
    "To run the code cell below, select the cell and press the 'Cntrl' key and the 'Enter' key at the same time. Another way to run the code cell is to press the 'Run' button at the top of the screen."
   ]
  },
  {
   "cell_type": "code",
   "execution_count": null,
   "metadata": {},
   "outputs": [],
   "source": [
    "3+8"
   ]
  },
  {
   "cell_type": "markdown",
   "metadata": {},
   "source": [
    "### Modules\n",
    "\n",
    "Sometimes you want to use code that has already been written. You can do this by using the import command. Python has a lot of already written useful code grouped by function/use; these are called libraries.\n",
    "\n",
    "For example, the library used in the cell below, 'numpy', has many math constants and functions already defined.\n",
    "\n",
    "Let's import the numpy libray and nickname it or alias it to np, so that we don't have to type as much, and then we will display the constant value pi to the screen."
   ]
  },
  {
   "cell_type": "code",
   "execution_count": null,
   "metadata": {},
   "outputs": [],
   "source": [
    "import numpy as np\n",
    "np.pi"
   ]
  },
  {
   "cell_type": "markdown",
   "metadata": {},
   "source": [
    "Here is an example of a library function. The np function 'round\\_' is used to round a decimal value."
   ]
  },
  {
   "cell_type": "code",
   "execution_count": null,
   "metadata": {},
   "outputs": [],
   "source": [
    "np.round_(1.234)"
   ]
  },
  {
   "cell_type": "markdown",
   "metadata": {},
   "source": [
    "## Variables\n",
    "\n",
    "You can assign names to values! This is useful if the values change or you use the value more than once. In the cell below, the values of epsilon0, charge and radius are stored as variables and used to calculate the force variable.\n",
    "\n",
    "Special Notes: \n",
    "- the '\\*\\*' in the force equation represents an exponent (for example: 2\\**2 in python is the same as 2^2 in math) \n",
    "- the hashtags are comments. They are used for explaining what is happening in the code. They do not effect the code at all."
   ]
  },
  {
   "cell_type": "code",
   "execution_count": null,
   "metadata": {},
   "outputs": [],
   "source": [
    "epsilon0 = 8.85e-12  # C^2 / N m^2\n",
    "charge  = 9e-9       # C\n",
    "radius  = 2e-3       # m \n",
    "force   = 1./(4*np.pi * epsilon0) * charge**2 / radius**2\n",
    "force"
   ]
  },
  {
   "cell_type": "markdown",
   "metadata": {},
   "source": [
    "### Types\n",
    "\n",
    "Variables in python have a 'type'. This is to show what kind of data is stored in the variable. The different types include:\n",
    "\n",
    "- Numeric Types\n",
    "- String Types\n",
    "- List Types"
   ]
  },
  {
   "cell_type": "markdown",
   "metadata": {},
   "source": [
    "#### Numeric Types\n",
    "\n",
    "There are two types of Numeric Types: Integers and Floats. Integers are the same as integers in math. Floats are simply numbers with decimals.\n",
    "\n",
    "What Numeric type would the force variable from earlier be? \n",
    "Use the type command below to check your answer."
   ]
  },
  {
   "cell_type": "code",
   "execution_count": null,
   "metadata": {},
   "outputs": [],
   "source": [
    "type(force)"
   ]
  },
  {
   "cell_type": "markdown",
   "metadata": {},
   "source": [
    "#### String Types\n",
    "\n",
    "String types are variables that hold text. You show that the data is text by surrounding it with either single or double quotes. Example: 'cheese' or \"cheese\" are both valid strings."
   ]
  },
  {
   "cell_type": "markdown",
   "metadata": {},
   "source": [
    "#### List Types\n",
    "\n",
    "A list holds a set of values. A list begins and ends with opened and closed square brackets. Values in the list are seperated by commas. The list energy_kcal below holds several floats. \n",
    "\n",
    "To get the length of a list, use the 'len' function!"
   ]
  },
  {
   "cell_type": "code",
   "execution_count": null,
   "metadata": {},
   "outputs": [],
   "source": [
    "energy_kcal = [-13.4, -2.7, 5.4, 42.1]\n",
    "length = len(energy_kcal)\n",
    "print('The length of this list is', length)"
   ]
  },
  {
   "cell_type": "markdown",
   "metadata": {},
   "source": [
    "But what if we want to get a particular value from the list? We can access a particular value of the list using an **index**. The index is the position in the list where the value is stored. Counting the index starts at **zero**. You can access the end of a list using negative indices.\n",
    "\n",
    "For example:"
   ]
  },
  {
   "cell_type": "code",
   "execution_count": null,
   "metadata": {},
   "outputs": [],
   "source": [
    "print(energy_kcal[0])\n",
    "print(energy_kcal[1])\n",
    "print(energy_kcal[-1])"
   ]
  },
  {
   "cell_type": "markdown",
   "metadata": {},
   "source": [
    "Index values in a list can be changed, or mutated. "
   ]
  },
  {
   "cell_type": "code",
   "execution_count": null,
   "metadata": {},
   "outputs": [],
   "source": [
    "#I can change an element of the list\n",
    "print(\"Before changing the value at index 1:\", energy_kcal)\n",
    "energy_kcal[1] = energy_kcal[1]*4.184\n",
    "print(\"After changing the value at index 1:\", energy_kcal)"
   ]
  },
  {
   "cell_type": "markdown",
   "metadata": {},
   "source": [
    "### Casting\n",
    "\n",
    "What if the variable is the wrong type?\n",
    "\n",
    "What happens if we add two strings that represent numbers?"
   ]
  },
  {
   "cell_type": "code",
   "execution_count": null,
   "metadata": {},
   "outputs": [],
   "source": [
    "'3' + '7'"
   ]
  },
  {
   "cell_type": "markdown",
   "metadata": {},
   "source": [
    "What actually happend was string concatenation. This is when a string is added (concatenated) to the another string. To get the value of 3 + 7 we need to use casting. Casting is where we change the type of the variable to a different type."
   ]
  },
  {
   "cell_type": "code",
   "execution_count": null,
   "metadata": {},
   "outputs": [],
   "source": [
    "print('The type and value of the label variable:')\n",
    "label = '5'\n",
    "print(type(label))\n",
    "print(label)\n",
    "\n",
    "print('\\nAfter casting the label variable to a float:')\n",
    "\n",
    "label = float(label)\n",
    "print(type(label))\n",
    "print(label)\n"
   ]
  },
  {
   "cell_type": "code",
   "execution_count": null,
   "metadata": {},
   "outputs": [],
   "source": [
    "# adding strings with integers\n",
    "a = '3'\n",
    "b = '7'\n",
    "\n",
    "int(a) + int(b)"
   ]
  },
  {
   "cell_type": "code",
   "execution_count": null,
   "metadata": {},
   "outputs": [],
   "source": [
    "# adding strings with floats\n",
    "c = '5.7'\n",
    "d = '3.14'\n",
    "\n",
    "float(c) + float(d)"
   ]
  },
  {
   "cell_type": "markdown",
   "metadata": {},
   "source": [
    "## For Loops\n",
    "\n",
    "What if you want to access every element of a list in order? We can use a for loop to acheive this. The for loop below iterates over the energy_kcal list. It starts from the beginning of the list (0-index) and goes until the end of the list. \n",
    "\n",
    "Inside the for loop is the action we want to do for each item in the list. In this for loop below, each value in enery_kcal is multiplled by 4.184 and printed. See for yourself!"
   ]
  },
  {
   "cell_type": "code",
   "execution_count": null,
   "metadata": {},
   "outputs": [],
   "source": [
    "for number in energy_kcal:\n",
    "    kJ = number*4.184\n",
    "    print(kJ)"
   ]
  },
  {
   "cell_type": "markdown",
   "metadata": {},
   "source": [
    "If we want to save these calculations, we can create a new list to store them in. A new list variable can be created by setting a variable equal to empty square brackets (energy_kJ). \n",
    "\n",
    "To add the new calculations to this list, use the append function. This adds the new values to the end of the list."
   ]
  },
  {
   "cell_type": "code",
   "execution_count": null,
   "metadata": {},
   "outputs": [],
   "source": [
    "energy_kJ = []\n",
    "for number in energy_kcal:\n",
    "    kJ = number*4.184\n",
    "    energy_kJ.append(kJ)\n",
    "\n",
    "print(energy_kJ)"
   ]
  },
  {
   "cell_type": "markdown",
   "metadata": {},
   "source": [
    "## Conditionals\n",
    "\n",
    "Let's say you have a list of positive and negative numbers. What if you only want to print only the positive numbers? We can use an **if statement** to print these.  "
   ]
  },
  {
   "cell_type": "code",
   "execution_count": null,
   "metadata": {},
   "outputs": [],
   "source": [
    "print(energy_kcal) # we want to print only 5.4 and 42.1"
   ]
  },
  {
   "cell_type": "code",
   "execution_count": null,
   "metadata": {},
   "outputs": [],
   "source": [
    "for number in energy_kcal:\n",
    "    if number > 0:\n",
    "        print(number)"
   ]
  },
  {
   "cell_type": "markdown",
   "metadata": {},
   "source": [
    "But lets say you want to split the list into two lists of positive and negative numbers. Using an **else statement** we can put the odd numbers in a seperate list."
   ]
  },
  {
   "cell_type": "code",
   "execution_count": null,
   "metadata": {},
   "outputs": [],
   "source": [
    "positives = []\n",
    "negatives = []\n",
    "for number in energy_kcal:\n",
    "    if number > 0:\n",
    "        positives.append(number)\n",
    "    else:\n",
    "        negatives.append(number)\n",
    "        \n",
    "print(positives)\n",
    "print(negatives)"
   ]
  },
  {
   "cell_type": "markdown",
   "metadata": {},
   "source": [
    "Want to try writing your own code? Click the + button in the tool bar above to add a new coding cell!\n",
    "\n",
    "Interested in learning more? Click [here](https://docs.python.org/3/tutorial/index.html)!"
   ]
  }
 ],
 "metadata": {
  "kernelspec": {
   "display_name": "Python 3",
   "language": "python",
   "name": "python3"
  },
  "language_info": {
   "codemirror_mode": {
    "name": "ipython",
    "version": 3
   },
   "file_extension": ".py",
   "mimetype": "text/x-python",
   "name": "python",
   "nbconvert_exporter": "python",
   "pygments_lexer": "ipython3",
   "version": "3.6.7"
  }
 },
 "nbformat": 4,
 "nbformat_minor": 2
}
