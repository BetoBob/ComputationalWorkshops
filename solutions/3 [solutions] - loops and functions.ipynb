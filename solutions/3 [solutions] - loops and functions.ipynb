{
 "cells": [
  {
   "cell_type": "code",
   "execution_count": 6,
   "metadata": {},
   "outputs": [],
   "source": [
    "# don't forget to run this cell!\n",
    "\n",
    "import matplotlib.pyplot as plt\n",
    "import numpy as np"
   ]
  },
  {
   "cell_type": "markdown",
   "metadata": {},
   "source": [
    "# For Loops Refresher\n",
    "Remember how we learned about for loops before? \n",
    "\n",
    "If you're feeling a little rusty, go back to [1 - introduction.ipynb](https://hub.mybinder.org/user/swissel-computationalworkshops-03oypry1/notebooks/1%20-%20introduction.ipynb) and review for loops."
   ]
  },
  {
   "cell_type": "markdown",
   "metadata": {},
   "source": [
    "#### <span style=\"color:blue\"> Exercise 3.1 </span>\n",
    "Otherwise, here's a quick test to refresh your memory.\n",
    "\n",
    "You have a list. Use a **for loop** to take the sum of every item in the list. "
   ]
  },
  {
   "cell_type": "code",
   "execution_count": 1,
   "metadata": {},
   "outputs": [],
   "source": [
    "my_list = [5,61,634,8, 900]\n",
    "\n",
    "# add your for loop here\n",
    "\n"
   ]
  },
  {
   "cell_type": "markdown",
   "metadata": {},
   "source": [
    "<details> <summary> <b>Click For Answer<b> </summary> 1608 </details>"
   ]
  },
  {
   "cell_type": "markdown",
   "metadata": {},
   "source": [
    "### for loop sidenote!\n",
    "\n",
    "What if we want to generate a list of incremented integers? Well that can easily be done with the range function! The default range function starts at 0 and goes up by 1 to the number **right before** the one you pass it.\n",
    "\n",
    "For example, if you want the numbers 0, 1, 2, 3, 4, 5  ; you would use _range(6)_\n",
    "\n",
    "Try it out below!"
   ]
  },
  {
   "cell_type": "code",
   "execution_count": 41,
   "metadata": {},
   "outputs": [
    {
     "name": "stdout",
     "output_type": "stream",
     "text": [
      "[0, 1, 2, 3, 4, 5]\n"
     ]
    }
   ],
   "source": [
    "# type in\n",
    "print(list(range(6)))"
   ]
  },
  {
   "cell_type": "markdown",
   "metadata": {},
   "source": [
    "You can change your starting value! Instead of starting at 0 (the default value), you can give the range function two arguments. The first is the starting value (inclusive) and the next is the ending value (exlusive)."
   ]
  },
  {
   "cell_type": "code",
   "execution_count": 43,
   "metadata": {},
   "outputs": [
    {
     "name": "stdout",
     "output_type": "stream",
     "text": [
      "[2, 3, 4, 5, 6, 7, 8, 9]\n"
     ]
    }
   ],
   "source": [
    "# [2, 10)\n",
    "print(list(range(2, 10)))"
   ]
  },
  {
   "cell_type": "code",
   "execution_count": null,
   "metadata": {},
   "outputs": [],
   "source": [
    "# make your own range list!\n",
    "# try [7, 11)\n"
   ]
  },
  {
   "cell_type": "markdown",
   "metadata": {},
   "source": [
    "<details> <summary> <b>Click For Answer<b> </summary> [7, 8, 9, 10]  </details>"
   ]
  },
  {
   "cell_type": "markdown",
   "metadata": {},
   "source": [
    "The range function is especially helpful in for loops. You can itterate over a range of values, such as these here:"
   ]
  },
  {
   "cell_type": "code",
   "execution_count": 34,
   "metadata": {},
   "outputs": [
    {
     "name": "stdout",
     "output_type": "stream",
     "text": [
      "0\n",
      "1\n",
      "2\n",
      "3\n",
      "4\n",
      "5\n",
      "6\n",
      "7\n",
      "8\n",
      "9\n"
     ]
    }
   ],
   "source": [
    "for x in range(10):\n",
    "    print(x)"
   ]
  },
  {
   "cell_type": "markdown",
   "metadata": {},
   "source": [
    "Lets say you don't want to type the actual length of a list in your range function. You can use the _len_ function mentioned in lecture 1! Here are a couple of examples using the range function to access items in a list:"
   ]
  },
  {
   "cell_type": "code",
   "execution_count": 22,
   "metadata": {},
   "outputs": [
    {
     "name": "stdout",
     "output_type": "stream",
     "text": [
      "Index:  0\n",
      "Food:  apple \n",
      "\n",
      "Index:  1\n",
      "Food:  banana \n",
      "\n",
      "Index:  2\n",
      "Food:  cheese \n",
      "\n",
      "Index:  3\n",
      "Food:  donut \n",
      "\n"
     ]
    }
   ],
   "source": [
    "# Lets print item in this list and each index\n",
    "food = ['apple', 'banana', 'cheese', 'donut']\n",
    "\n",
    "for i in range(len(food)):\n",
    "    print(\"Index: \", i)\n",
    "    print(\"Food: \", food[i], \"\\n\")"
   ]
  },
  {
   "cell_type": "code",
   "execution_count": 30,
   "metadata": {},
   "outputs": [
    {
     "name": "stdout",
     "output_type": "stream",
     "text": [
      "Index:  2\n",
      "Food:  cheese \n",
      "\n",
      "Index:  3\n",
      "Food:  donut \n",
      "\n"
     ]
    }
   ],
   "source": [
    "# We don't want the fruit! Here's how we avoid them!\n",
    "food = ['apple', 'banana', 'cheese', 'donut']\n",
    "\n",
    "for i in range(2, len(food)):\n",
    "    print(\"Index: \", i)\n",
    "    print(\"Food: \", food[i], \"\\n\")"
   ]
  },
  {
   "cell_type": "code",
   "execution_count": 29,
   "metadata": {},
   "outputs": [
    {
     "name": "stdout",
     "output_type": "stream",
     "text": [
      "Index:  1\n",
      "Food:  banana \n",
      "\n",
      "Index:  2\n",
      "Food:  cheese \n",
      "\n"
     ]
    }
   ],
   "source": [
    "# What if we want the two in the middle?\n",
    "food = ['apple', 'banana', 'cheese', 'donut']\n",
    "\n",
    "for i in range(1, 3):\n",
    "    print(\"Index: \", i)\n",
    "    print(\"Food: \", food[i], \"\\n\")"
   ]
  },
  {
   "cell_type": "code",
   "execution_count": 27,
   "metadata": {},
   "outputs": [
    {
     "name": "stdout",
     "output_type": "stream",
     "text": [
      "Index:  0\n",
      "Food:  apple \n",
      "\n",
      "Index:  1\n",
      "Food:  banana \n",
      "\n"
     ]
    }
   ],
   "source": [
    "# Now we just want fruit!\n",
    "food = ['apple', 'banana', 'cheese', 'donut']\n",
    "\n",
    "for i in range(0, 2):\n",
    "    print(\"Index: \", i)\n",
    "    print(\"Food: \", food[i], \"\\n\")"
   ]
  },
  {
   "cell_type": "markdown",
   "metadata": {},
   "source": [
    "What if you have two numpy arrays, one that corresponds to the time variable, $t$, and another that corresponds to the instantaneous velocity, $v$, at a given time. The individiual points in the arrays are the instantaneuos velocity, $v_i$ in m/s, at a specific time, $t_i$ in seconds.\n",
    "\n",
    "Calculate the final position, $x_f$ using a **for loop**, assuming that $$x_f = \\Sigma_i v_i t_i + x_0$$ where $x_0$ is the initial position given in meters."
   ]
  },
  {
   "cell_type": "markdown",
   "metadata": {},
   "source": [
    "<details> <summary> <b>Click For Hint!<b> </summary> Notice that the length of the array t is the same as the length of the array v. So you can use same index to access ti and vi.  </details>"
   ]
  },
  {
   "cell_type": "code",
   "execution_count": 12,
   "metadata": {},
   "outputs": [
    {
     "name": "stdout",
     "output_type": "stream",
     "text": [
      "215.0\n"
     ]
    }
   ],
   "source": [
    "t = np.arange(0, 10)\n",
    "v = np.array([3, 0, 4, 7, 9, 10, 5, 7, 2, 0])\n",
    "x_0 = 5.\n",
    "x_f = 0.\n",
    "\n",
    "# add your for loop here.\n",
    "\n",
    "for i in range(10):\n",
    "    x_f += t[i] * v[i]\n",
    "    \n",
    "print(x_f + x_0)\n"
   ]
  },
  {
   "cell_type": "markdown",
   "metadata": {},
   "source": [
    "<details> <summary> <b>Click For Answer<b> </summary> The correct answer is $x_f$ = 215 m.  </details>"
   ]
  },
  {
   "cell_type": "markdown",
   "metadata": {},
   "source": [
    "Note that in the above example, we convert a list to an np.array for the $v$ array. Very often in scientific computing, np.arrays are more useful than lists, because they only contain floats or other numerical types. Because of that, you can perform mathematical operators on the *entire* array at one time. For example, we could calculate the final position without a for loop (but make sure you know how to do it with a for loop!)"
   ]
  },
  {
   "cell_type": "code",
   "execution_count": 13,
   "metadata": {},
   "outputs": [
    {
     "name": "stdout",
     "output_type": "stream",
     "text": [
      "215.0\n"
     ]
    }
   ],
   "source": [
    "# This is called \"vector math\" and is one of the many powerful tools of python!\n",
    "x_f = x_0 + np.sum(v*t)\n",
    "print(x_f)"
   ]
  },
  {
   "cell_type": "markdown",
   "metadata": {},
   "source": [
    "## Functions\n",
    "Often, you want to calculate something that you've already calculated before. You _could_ type it out _again_ or you could simply use a *function*. The advantage of functions is that it reduces the amount of code you have to write, and importantly, the amount of code you have to debug if you find that there's something wrong.\n",
    "\n",
    "Let's write an example function called _square_."
   ]
  },
  {
   "cell_type": "code",
   "execution_count": 14,
   "metadata": {},
   "outputs": [],
   "source": [
    "def square(x):\n",
    "    \"\"\"returns the square of the input x\"\"\"\n",
    "    return x**2"
   ]
  },
  {
   "cell_type": "markdown",
   "metadata": {},
   "source": [
    "In our example, we define the function ```square``` and its input ```x``` on the first line:\n",
    "```def square(x):```\n",
    "\n",
    "The function definition always starts with ```def```, followed by the name of the function, and then the inputs are expressed inside the parentheses. The function definition ends with a colon ```:``` \n",
    "\n",
    "The next line ```\"\"\"returns the square of the input x\"\"\"``` is called a _docstring_ and it is a comment that tells you what the function does, what the inputs are, and what the function returns. These are useful because you can get python to tell you what the function does if you call up the docstring. Try typing ```square(shift + tab)``` in the next cell. You should see the docstring pop up below. You will need to hold down the ```shift``` and ```tab``` keys at the same time. \n",
    "\n",
    "You can read the docstring with the ```shift``` and ```tab``` keys for any function. Try doing it for the built-in python function ```pow()``` as well."
   ]
  },
  {
   "cell_type": "code",
   "execution_count": 16,
   "metadata": {},
   "outputs": [
    {
     "ename": "TypeError",
     "evalue": "square() missing 1 required positional argument: 'x'",
     "output_type": "error",
     "traceback": [
      "\u001b[0;31m---------------------------------------------------------------------------\u001b[0m",
      "\u001b[0;31mTypeError\u001b[0m                                 Traceback (most recent call last)",
      "\u001b[0;32m<ipython-input-16-5cc6733f541b>\u001b[0m in \u001b[0;36m<module>\u001b[0;34m\u001b[0m\n\u001b[1;32m      1\u001b[0m \u001b[0;31m### try to read the docstring for square() and pow() here\u001b[0m\u001b[0;34m\u001b[0m\u001b[0;34m\u001b[0m\u001b[0;34m\u001b[0m\u001b[0m\n\u001b[1;32m      2\u001b[0m \u001b[0;34m\u001b[0m\u001b[0m\n\u001b[0;32m----> 3\u001b[0;31m \u001b[0msquare\u001b[0m\u001b[0;34m(\u001b[0m\u001b[0;34m)\u001b[0m\u001b[0;34m\u001b[0m\u001b[0;34m\u001b[0m\u001b[0m\n\u001b[0m\u001b[1;32m      4\u001b[0m \u001b[0;34m\u001b[0m\u001b[0m\n\u001b[1;32m      5\u001b[0m \u001b[0mpow\u001b[0m\u001b[0;34m(\u001b[0m\u001b[0;34m)\u001b[0m\u001b[0;34m\u001b[0m\u001b[0;34m\u001b[0m\u001b[0m\n",
      "\u001b[0;31mTypeError\u001b[0m: square() missing 1 required positional argument: 'x'"
     ]
    }
   ],
   "source": [
    "### try to read the docstring for square() and pow() here\n",
    "\n",
    "square(2)"
   ]
  },
  {
   "cell_type": "markdown",
   "metadata": {},
   "source": [
    "The last line of code ```return x**2``` tells the function to what to give back to the user. In our example, if you give the function a value ```x``` it will return the square of that value. Try giving the function a value and check that it works."
   ]
  },
  {
   "cell_type": "code",
   "execution_count": 29,
   "metadata": {},
   "outputs": [],
   "source": [
    "### check that our function square works. \n",
    "### How can you use pow() to check that the function works?\n",
    "\n"
   ]
  },
  {
   "cell_type": "markdown",
   "metadata": {},
   "source": [
    "#### <span style=\"color:blue\"> Exercise 3.2 </span>\n",
    "\n",
    "Write a function ```period``` that calculates the period, $T$, of a pendulum given an oscillation frequency, $f$, in Hz. $$ T = \\frac{1}{f} $$ "
   ]
  },
  {
   "cell_type": "code",
   "execution_count": 18,
   "metadata": {},
   "outputs": [],
   "source": [
    "# define your function period here\n",
    "\n",
    "def period(f):\n",
    "    \"\"\"returns the period of a pendulum given it's oscillation frequency (f)\"\"\"\n",
    "    return 1 / f\n"
   ]
  },
  {
   "cell_type": "markdown",
   "metadata": {},
   "source": [
    "Use your function to find the period for a frequency of 4 Hz."
   ]
  },
  {
   "cell_type": "code",
   "execution_count": 20,
   "metadata": {},
   "outputs": [
    {
     "data": {
      "text/plain": [
       "0.25"
      ]
     },
     "execution_count": 20,
     "metadata": {},
     "output_type": "execute_result"
    }
   ],
   "source": [
    "# use your function here\n",
    "period(4)"
   ]
  },
  {
   "cell_type": "markdown",
   "metadata": {},
   "source": [
    "Sometimes we want to give a function multiple inputs. That's easy! All we have to do is add variables to the input declaration. \n",
    "\n",
    "In our example, we want to find the period of a pendulum given the length of the string $l$ in m and the gravitational acceleration $g$ in m/s$^2$. \n",
    "\n",
    "$$ f = 2\\pi \\sqrt{ g/l } \\\\ T = 1/f$$"
   ]
  },
  {
   "cell_type": "code",
   "execution_count": 38,
   "metadata": {},
   "outputs": [],
   "source": [
    "def period2(grav_acc, length):\n",
    "    \"\"\"The period of a pendulum, given \n",
    "    the gravitational acceleration (m/s^2) and length of the pendulum\"\"\"\n",
    "    \n",
    "    freq = 2*np.pi * np.sqrt(grav_acc / length)\n",
    "    period = 1./freq\n",
    "    return period"
   ]
  },
  {
   "cell_type": "markdown",
   "metadata": {},
   "source": [
    "Note that we could have solved the equations for $T$ so that our calculation would fit in one line (and it's good practice to do so!), but we wanted to show you that you can define functions with multiple lines in them. Remember to **indent the code** that is inside the function!\n",
    "\n",
    "Try testing out our function so that you can get the same period you found above. What gravitational acceleration and length combination gives you that value?"
   ]
  },
  {
   "cell_type": "code",
   "execution_count": 61,
   "metadata": {},
   "outputs": [
    {
     "data": {
      "text/plain": [
       "0.25"
      ]
     },
     "execution_count": 61,
     "metadata": {},
     "output_type": "execute_result"
    }
   ],
   "source": [
    "# test out our new function.\n",
    "\n",
    "period2(9.81, ((np.pi ** 2) * 9.81 * 1 / 4))"
   ]
  },
  {
   "cell_type": "markdown",
   "metadata": {},
   "source": [
    "Sometimes you also want to return multiple outputs in addition to multiple inputs. For that you just need to extend the return statement to include all the values you want. "
   ]
  },
  {
   "cell_type": "code",
   "execution_count": 62,
   "metadata": {},
   "outputs": [],
   "source": [
    "def period3(grav_acc, length):\n",
    "    \"\"\"The period of a pendulum, given \n",
    "    the gravitational acceleration (m/s^2) and length of the pendulum\"\"\"\n",
    "    \n",
    "    freq = 2*np.pi * np.sqrt(grav_acc/length)\n",
    "    period = 1./freq\n",
    "    return period, freq"
   ]
  },
  {
   "cell_type": "markdown",
   "metadata": {},
   "source": [
    "Our new function ```period3``` returns both the period and the frequency. To collect them when we call the function, we can either separate the variables with a ```,``` or we can collect them into a list."
   ]
  },
  {
   "cell_type": "code",
   "execution_count": 64,
   "metadata": {},
   "outputs": [
    {
     "name": "stdout",
     "output_type": "stream",
     "text": [
      "0.25 4.0\n"
     ]
    }
   ],
   "source": [
    "# here we fill the variables my_period and my_freq \n",
    "# with the values being returned by the function period3\n",
    "my_period, my_freq = period3(9.8, 9.8 * np.pi**2 /4)\n",
    "print(my_period, my_freq)"
   ]
  },
  {
   "cell_type": "code",
   "execution_count": 65,
   "metadata": {},
   "outputs": [
    {
     "name": "stdout",
     "output_type": "stream",
     "text": [
      "(0.25, 4.0)\n",
      "0.25 4.0\n"
     ]
    }
   ],
   "source": [
    "# here we collect them into a list\n",
    "rets = period3(9.8, 9.8 * np.pi**2/4)\n",
    "print(rets)\n",
    "my_period = rets[0]\n",
    "my_freq = rets[1]\n",
    "print(my_period, my_freq)"
   ]
  },
  {
   "cell_type": "code",
   "execution_count": 66,
   "metadata": {},
   "outputs": [
    {
     "data": {
      "text/plain": [
       "tuple"
      ]
     },
     "execution_count": 66,
     "metadata": {},
     "output_type": "execute_result"
    }
   ],
   "source": [
    "type(rets)"
   ]
  },
  {
   "cell_type": "markdown",
   "metadata": {},
   "source": [
    "#### <span style=\"color:blue\"> Exercise 3.3 : Function Challenge </span>\n",
    "Let's put it all together. \n",
    "\n",
    "Say you have a charge, $q$ in C, located at point $(x_s, y_s)$.\n",
    "\n",
    "Write a function that calculates and returns the electric field, $\\overrightarrow{E}$, due to the charge at a different point $(x_p, y_p)$. Since the electric field is a vector, return the magnitude, $|E|$, and x- and y-components of the field ($E_x$ and $E_y$).\n",
    "\n",
    "The relevant equations are:\n",
    "$$ d = \\sqrt{ (x_p - x_s)^2 + (y_p - y_s)^2 } \\\\\n",
    "   \\theta =\\tan^{-1}( \\frac{y_p - y_s} {x_p - x_s} )\\\\\n",
    "   |E| = k \\frac{ q }{d^2}\\\\\n",
    "   E_x = |E| \\cos{\\theta}\\\\\n",
    "   E_y = |E| \\sin{\\theta}\n",
    "  $$\n",
    "  \n",
    "  where Coloumb's constant $k = 9\\times10^{9}$ N m$^2$/C$^{2}$."
   ]
  },
  {
   "cell_type": "code",
   "execution_count": 78,
   "metadata": {},
   "outputs": [],
   "source": [
    "# write your function here.\n",
    "# first figure out how many inputs you have\n",
    "# then how many outputs you have. \n",
    "#\n",
    "\n",
    "def electric_field(x_p, x_s, y_p, y_s, q):\n",
    "    k = 9 * 10 ** 9\n",
    "    d = np.sqrt((x_p - x_s) ** 2 + (y_p - y_s) ** 2)\n",
    "    theta = np.arcsin(np.radians((y_p - y_s) / (x_p - x_s)))\n",
    "    E = k * (q / d ** 2)\n",
    "    E_x = np.absolute(E)*np.cos(theta)\n",
    "    E_y = np.absolute(E)*np.sin(theta)\n",
    "    return E, E_x, E_y\n"
   ]
  },
  {
   "cell_type": "code",
   "execution_count": 83,
   "metadata": {},
   "outputs": [
    {
     "data": {
      "text/plain": [
       "(3427.265803503427, 3408.7519503949457, -355.7541686932763)"
      ]
     },
     "execution_count": 83,
     "metadata": {},
     "output_type": "execute_result"
    }
   ],
   "source": [
    "x = electric_field(5.2 * 10 ** -2, 3.3 * 10 ** -2, -4.1 * 10 ** -2, 7.2 * 10 ** -2, 5*10**-9)\n",
    "x"
   ]
  },
  {
   "cell_type": "code",
   "execution_count": null,
   "metadata": {},
   "outputs": [],
   "source": [
    "def efield(q, xs, ys, xp, yp ):\n",
    "    k = 9e9\n",
    "    d = np.sqrt((xp-xs)**2 + (yp-ys)**2)\n",
    "    theta = np.arctan2((ys-yp),(xs-xp))\n",
    "    absE = k * q  * pow(d, -2)\n",
    "    Ex = absE * np.cos(theta)\n",
    "    Ey = absE * np.sin(theta)\n",
    "    return d, theta, absE, Ex, Ey"
   ]
  },
  {
   "cell_type": "code",
   "execution_count": 1,
   "metadata": {},
   "outputs": [
    {
     "ename": "NameError",
     "evalue": "name 'efield' is not defined",
     "output_type": "error",
     "traceback": [
      "\u001b[0;31m---------------------------------------------------------------------------\u001b[0m",
      "\u001b[0;31mNameError\u001b[0m                                 Traceback (most recent call last)",
      "\u001b[0;32m<ipython-input-1-d62810e82ec1>\u001b[0m in \u001b[0;36m<module>\u001b[0;34m\u001b[0m\n\u001b[0;32m----> 1\u001b[0;31m \u001b[0mprint\u001b[0m\u001b[0;34m(\u001b[0m\u001b[0mefield\u001b[0m\u001b[0;34m(\u001b[0m\u001b[0;36m1.\u001b[0m\u001b[0;34m/\u001b[0m\u001b[0;36m9.\u001b[0m\u001b[0;34m*\u001b[0m\u001b[0;36m1e-9\u001b[0m\u001b[0;34m,\u001b[0m \u001b[0;36m1\u001b[0m\u001b[0;34m,\u001b[0m \u001b[0;36m0\u001b[0m\u001b[0;34m,\u001b[0m \u001b[0;36m0\u001b[0m\u001b[0;34m,\u001b[0m \u001b[0;36m0\u001b[0m\u001b[0;34m)\u001b[0m\u001b[0;34m)\u001b[0m\u001b[0;34m\u001b[0m\u001b[0;34m\u001b[0m\u001b[0m\n\u001b[0m\u001b[1;32m      2\u001b[0m \u001b[0mprint\u001b[0m\u001b[0;34m(\u001b[0m\u001b[0mefield\u001b[0m\u001b[0;34m(\u001b[0m\u001b[0;36m1.\u001b[0m\u001b[0;34m/\u001b[0m\u001b[0;36m9.\u001b[0m\u001b[0;34m*\u001b[0m\u001b[0;36m1e-9\u001b[0m\u001b[0;34m,\u001b[0m \u001b[0;36m0\u001b[0m\u001b[0;34m,\u001b[0m \u001b[0;36m1\u001b[0m\u001b[0;34m,\u001b[0m \u001b[0;36m0\u001b[0m\u001b[0;34m,\u001b[0m \u001b[0;36m0\u001b[0m\u001b[0;34m)\u001b[0m\u001b[0;34m)\u001b[0m\u001b[0;34m\u001b[0m\u001b[0;34m\u001b[0m\u001b[0m\n\u001b[1;32m      3\u001b[0m \u001b[0mprint\u001b[0m\u001b[0;34m(\u001b[0m\u001b[0mefield\u001b[0m\u001b[0;34m(\u001b[0m\u001b[0;36m5e-9\u001b[0m\u001b[0;34m,\u001b[0m \u001b[0;34m-\u001b[0m\u001b[0;36m4.1e-2\u001b[0m\u001b[0;34m,\u001b[0m \u001b[0;36m7.2e-2\u001b[0m\u001b[0;34m,\u001b[0m \u001b[0;36m5.2e-2\u001b[0m\u001b[0;34m,\u001b[0m \u001b[0;36m3.3e-2\u001b[0m\u001b[0;34m)\u001b[0m\u001b[0;34m)\u001b[0m\u001b[0;34m\u001b[0m\u001b[0;34m\u001b[0m\u001b[0m\n",
      "\u001b[0;31mNameError\u001b[0m: name 'efield' is not defined"
     ]
    }
   ],
   "source": [
    "print(efield(1./9.*1e-9, 1, 0, 0, 0))\n",
    "print(efield(1./9.*1e-9, 0, 1, 0, 0))\n",
    "print(efield(5e-9, -4.1e-2, 7.2e-2, 5.2e-2, 3.3e-2))"
   ]
  },
  {
   "cell_type": "markdown",
   "metadata": {},
   "source": [
    "# Particle Cascades\n",
    "\n",
    "We can illustrate the usefulness of loops and functions with a simple\n",
    "example from physics. \n",
    "\n",
    "Cosmic ray electrons produce air showers when they interact in the atmosphere. The high-energy electron transfers some of its energy to other particles so that a cascade of hundreds or thousands of high speed particles are produced as shown in the figure below.\n",
    "\n",
    "<img src=\"infiles/emshower.png\">\n"
   ]
  },
  {
   "cell_type": "markdown",
   "metadata": {},
   "source": [
    "## A Simple Model\n",
    "\n",
    "Let's assume that there are three particles in a cascade: electrons, photons (light particles), and positrons (a positively charged electron).\n",
    "\n",
    "Each electron or positron can split its energy with a photon that it radiates. That's drawn like this:\n",
    "<img src=\"infiles/electron_vertices.png\">\n",
    "\n",
    "Each photon can make a pair of electrons and positrons. That's drawn like this:\n",
    "<img src=\"infiles/photon_vertex.png\">\n"
   ]
  },
  {
   "cell_type": "markdown",
   "metadata": {},
   "source": [
    "### Now the particles multiply\n",
    "\n",
    "So if we started out with one cosmic ray electron, we get an electron and a photon. \n",
    "Then the photon makes a new electron and a positron, while the electrons and positrons continue to make photons.\n",
    "\n",
    "This continues so that we get a cascade of particles. \n",
    "\n",
    "<img src=\"infiles/heitler_model.png\">"
   ]
  },
  {
   "cell_type": "markdown",
   "metadata": {},
   "source": [
    "# Turning the Model into Code\n",
    "\n",
    "Our goal will be to keep track of how many electrons, positrons, and photons we have in our cascade. \n",
    "We also want to know how much energy each of the particles has."
   ]
  },
  {
   "cell_type": "markdown",
   "metadata": {},
   "source": [
    "## Let's Code up the First Layer\n",
    "\n",
    "First we have to chose an initial energy for the first electron, the cosmic ray electron. In this first layer, the electron will split its energy between an electron and a photon. "
   ]
  },
  {
   "cell_type": "code",
   "execution_count": 5,
   "metadata": {
    "collapsed": true
   },
   "outputs": [],
   "source": [
    "# first layer\n",
    "energy_cr = 160 # Joules, 1e21 eV"
   ]
  },
  {
   "cell_type": "markdown",
   "metadata": {},
   "source": [
    "We'll use lists to keep track of the energy of electrons, positrons, and gammas that we have in the entire cascade. "
   ]
  },
  {
   "cell_type": "code",
   "execution_count": 6,
   "metadata": {
    "collapsed": true
   },
   "outputs": [],
   "source": [
    "electrons = []\n",
    "positrons = []\n",
    "gammas = []"
   ]
  },
  {
   "cell_type": "code",
   "execution_count": 7,
   "metadata": {
    "collapsed": true
   },
   "outputs": [],
   "source": [
    "# energy of the CR splits into one electron and one positron\n",
    "electrons_this_layer = [energy_cr/2.]\n",
    "positrons_this_layer = []\n",
    "gammas_this_layer    = [energy_cr/2.]\n",
    "\n",
    "# these arrays store the particles made every layer\n",
    "electrons.append(electrons_this_layer)\n",
    "positrons.append(positrons_this_layer)\n",
    "gammas.append(gammas_this_layer)"
   ]
  },
  {
   "cell_type": "markdown",
   "metadata": {},
   "source": [
    "Each entry in the list is the particle's energy."
   ]
  },
  {
   "cell_type": "code",
   "execution_count": 8,
   "metadata": {},
   "outputs": [
    {
     "name": "stdout",
     "output_type": "stream",
     "text": [
      "[80.0]\n",
      "[]\n",
      "[80.0]\n",
      "[[80.0]]\n",
      "[[]]\n",
      "[[80.0]]\n"
     ]
    }
   ],
   "source": [
    "print(electrons_this_layer)\n",
    "print(positrons_this_layer)\n",
    "print(gammas_this_layer)\n",
    "print(electrons)\n",
    "print(positrons)\n",
    "print(gammas)"
   ]
  },
  {
   "cell_type": "markdown",
   "metadata": {},
   "source": [
    "The length of these lists tell us get the number of particles in the cascade."
   ]
  },
  {
   "cell_type": "code",
   "execution_count": 9,
   "metadata": {},
   "outputs": [
    {
     "name": "stdout",
     "output_type": "stream",
     "text": [
      "1\n",
      "0\n",
      "1\n",
      "1\n",
      "1\n",
      "1\n"
     ]
    }
   ],
   "source": [
    "print(len(electrons_this_layer))\n",
    "print(len(positrons_this_layer))\n",
    "print(len(gammas_this_layer))\n",
    "print(len(electrons))\n",
    "print(len(positrons))\n",
    "print(len(gammas))"
   ]
  },
  {
   "cell_type": "markdown",
   "metadata": {},
   "source": [
    "You might wonder why we need two arrays for each type of particle (e.g. electrons_this_layer and electrons) and why their shapes are different."
   ]
  },
  {
   "cell_type": "code",
   "execution_count": 10,
   "metadata": {},
   "outputs": [
    {
     "name": "stdout",
     "output_type": "stream",
     "text": [
      "(1,)\n",
      "(0,)\n",
      "(1,)\n",
      "(1, 1)\n",
      "(1, 0)\n",
      "(1, 1)\n"
     ]
    }
   ],
   "source": [
    "print(np.shape(electrons_this_layer))\n",
    "print(np.shape(positrons_this_layer))\n",
    "print(np.shape(gammas_this_layer))\n",
    "print(np.shape(electrons))\n",
    "print(np.shape(positrons))\n",
    "print(np.shape(gammas))"
   ]
  },
  {
   "cell_type": "markdown",
   "metadata": {},
   "source": [
    "We are using two different arrays because we want to add more particles at each layer. Each row contains a layer's worth of particles. This will be more apparent as we add more layers."
   ]
  },
  {
   "cell_type": "markdown",
   "metadata": {},
   "source": [
    "## Let's add another layer\n",
    "\n",
    "Now all electrons make a gamma and an electron (bremstraahlung)\n",
    "and all positrons make a gamma and a positron (bremstraahlung)\n",
    "And all photons make a electron and positron pair (pair production)"
   ]
  },
  {
   "cell_type": "markdown",
   "metadata": {},
   "source": [
    "First we'll store the last layer in a new list and then start on the new layer."
   ]
  },
  {
   "cell_type": "code",
   "execution_count": 11,
   "metadata": {
    "collapsed": true
   },
   "outputs": [],
   "source": [
    "electrons_last_layer = electrons_this_layer\n",
    "positrons_last_layer = positrons_this_layer\n",
    "gammas_last_radlength = gammas_this_layer\n",
    "\n",
    "# reset the arrays\n",
    "electrons_this_layer = []\n",
    "positrons_this_layer = []\n",
    "gammas_this_layer    = []"
   ]
  },
  {
   "cell_type": "markdown",
   "metadata": {},
   "source": [
    "Now we'll use for loops to make new particles for each particle in the previous layer. We'll start with the electrons and positrons."
   ]
  },
  {
   "cell_type": "code",
   "execution_count": 12,
   "metadata": {
    "collapsed": true
   },
   "outputs": [],
   "source": [
    "# electrons from the last layer\n",
    "# each electron makes an electron and a gamma\n",
    "for el in electrons_last_layer:\n",
    "    gammas_this_layer.append(el/2.)\n",
    "    electrons_this_layer.append(el/2.)\n",
    "\n",
    "# positrons from the last layer\n",
    "# each positron makes a positron and a gamma\n",
    "for po in positrons_last_layer:\n",
    "    gammas_this_layer.append(po/2.)\n",
    "    positrons_this_layer.append(po/2.)"
   ]
  },
  {
   "cell_type": "markdown",
   "metadata": {},
   "source": [
    "#### <span style=\"color:blue\"> Exercise 3.1 </span>\n",
    "Now you add the gammas!"
   ]
  },
  {
   "cell_type": "code",
   "execution_count": null,
   "metadata": {
    "collapsed": true
   },
   "outputs": [],
   "source": [
    "# add the gammas.\n"
   ]
  },
  {
   "cell_type": "markdown",
   "metadata": {},
   "source": [
    "...and now store all the particles in the electrons, positrons, and gammas lists."
   ]
  },
  {
   "cell_type": "code",
   "execution_count": 13,
   "metadata": {
    "collapsed": true
   },
   "outputs": [],
   "source": [
    "# now store all the particles\n"
   ]
  },
  {
   "cell_type": "markdown",
   "metadata": {},
   "source": [
    "Now figure out how many electrons, positrons, and gammas there are in the two layers and what their energies are."
   ]
  },
  {
   "cell_type": "code",
   "execution_count": 1,
   "metadata": {
    "collapsed": true
   },
   "outputs": [],
   "source": [
    "# how many of each particle are there?\n"
   ]
  },
  {
   "cell_type": "markdown",
   "metadata": {},
   "source": [
    "# Many Layers\n",
    "Now we want to let the cascade develop over many layers, say 10. "
   ]
  },
  {
   "cell_type": "code",
   "execution_count": 9,
   "metadata": {},
   "outputs": [
    {
     "name": "stdout",
     "output_type": "stream",
     "text": [
      "0 :  4\n",
      "1 :  12\n",
      "2 :  36\n",
      "3 :  108\n",
      "4 :  324\n",
      "5 :  972\n",
      "6 :  2916\n",
      "7 :  8748\n",
      "8 :  26244\n",
      "9 :  78732\n"
     ]
    }
   ],
   "source": [
    "# now we want to loop over many layers\n",
    "n_layers = 10\n",
    "\n",
    "# reset so we are starting at the beginning\n",
    "# first radiation length\n",
    "energy_cr = 160 # Joules, 1e21 eV\n",
    "\n",
    "electrons = []\n",
    "positrons = []\n",
    "gammas = []\n",
    "\n",
    "# energy of the CR splits into one electron and one gamma\n",
    "electrons_this_layer = [energy_cr/2.]\n",
    "positrons_this_layer = []\n",
    "gammas_this_layer    = [energy_cr/2.]\n",
    "\n",
    "# these arrays store the particles made every radiation length\n",
    "electrons.append(electrons_this_layer)\n",
    "positrons.append(positrons_this_layer)\n",
    "gammas.append(gammas_this_layer)\n",
    "\n",
    "for i_layer in range(n_layers):\n",
    "    \n",
    "    # next layer\n",
    "    # now all electrons make a gamma and an electron (bremstraahlung)\n",
    "    # and all positrons make a gamma and a positron (bremstraahlung)\n",
    "    electrons_last_layer = electrons_this_layer\n",
    "    positrons_last_layer = positrons_this_layer\n",
    "    gammas_last_layeere = gammas_this_layer\n",
    "\n",
    "    # reset the arrays\n",
    "    electrons_this_layer = []\n",
    "    positrons_this_layer = []\n",
    "    gammas_this_layer    = []\n",
    "\n",
    "    for el in electrons_last_layer:\n",
    "        gammas_this_layer.append(el/2.)\n",
    "        electrons_this_layer.append(el/2.)\n",
    "\n",
    "    for po in positrons_last_layer:\n",
    "        gammas_this_layer.append(po/2.)\n",
    "        positrons_this_layer.append(po/2.)\n",
    "\n",
    "    for ga in gammas_this_layer:\n",
    "        electrons_this_layer.append(ga/2.)\n",
    "        positrons_this_layer.append(ga/2.)\n",
    "\n",
    "    # now store all the particles\n",
    "    electrons.append(electrons_this_layer)\n",
    "    positrons.append(positrons_this_layer)\n",
    "    gammas.append(gammas_this_layer)\n",
    "    \n",
    "    # at each layer, let us know how many particles there are\n",
    "    print(i_layer, \": \", len(electrons_this_layer) + len(positrons_this_layer) + len(gammas_this_layer))"
   ]
  },
  {
   "cell_type": "code",
   "execution_count": 10,
   "metadata": {},
   "outputs": [
    {
     "name": "stdout",
     "output_type": "stream",
     "text": [
      "Layer:  0\n",
      "    Number of electrons:  1\n",
      "    Number of positrons:  0\n",
      "    Number of gammas:  1\n",
      "Layer:  1\n",
      "    Number of electrons:  2\n",
      "    Number of positrons:  1\n",
      "    Number of gammas:  1\n",
      "Layer:  2\n",
      "    Number of electrons:  5\n",
      "    Number of positrons:  4\n",
      "    Number of gammas:  3\n",
      "Layer:  3\n",
      "    Number of electrons:  14\n",
      "    Number of positrons:  13\n",
      "    Number of gammas:  9\n",
      "Layer:  4\n",
      "    Number of electrons:  41\n",
      "    Number of positrons:  40\n",
      "    Number of gammas:  27\n",
      "Layer:  5\n",
      "    Number of electrons:  122\n",
      "    Number of positrons:  121\n",
      "    Number of gammas:  81\n",
      "Layer:  6\n",
      "    Number of electrons:  365\n",
      "    Number of positrons:  364\n",
      "    Number of gammas:  243\n",
      "Layer:  7\n",
      "    Number of electrons:  1094\n",
      "    Number of positrons:  1093\n",
      "    Number of gammas:  729\n",
      "Layer:  8\n",
      "    Number of electrons:  3281\n",
      "    Number of positrons:  3280\n",
      "    Number of gammas:  2187\n",
      "Layer:  9\n",
      "    Number of electrons:  9842\n",
      "    Number of positrons:  9841\n",
      "    Number of gammas:  6561\n",
      "Layer:  10\n",
      "    Number of electrons:  29525\n",
      "    Number of positrons:  29524\n",
      "    Number of gammas:  19683\n"
     ]
    }
   ],
   "source": [
    "# how many particles are there at each step?\n",
    "for i_layer in range(len(electrons)):\n",
    "    print(\"Layer: \", i_layer)\n",
    "    print(\"    Number of electrons: \", len(electrons[i_layer]))\n",
    "    print(\"    Number of positrons: \", len(positrons[i_layer]))\n",
    "    print(\"    Number of gammas: \", len(gammas[i_layer]))"
   ]
  },
  {
   "cell_type": "markdown",
   "metadata": {},
   "source": [
    "#### <span style=\"color:blue\"> Exercise 3.2 </span>\n",
    "The number of particles is growing fast! Let's make a plot to see what the dependence is. We want to put the layer number on the x-axis and the number of electrons in that layer on the y-axis. How will you make the plot?"
   ]
  },
  {
   "cell_type": "code",
   "execution_count": 29,
   "metadata": {},
   "outputs": [
    {
     "data": {
      "text/plain": [
       "Text(0, 0.5, 'number of electrons')"
      ]
     },
     "execution_count": 29,
     "metadata": {},
     "output_type": "execute_result"
    },
    {
     "data": {
      "image/png": "[encoded data removed]",
      "text/plain": [
       "<Figure size 432x288 with 1 Axes>"
      ]
     },
     "metadata": {
      "needs_background": "light"
     },
     "output_type": "display_data"
    }
   ],
   "source": [
    "# Make a plot\n",
    "electrons_count = []\n",
    "i_layer = list(range(len(electrons)))\n",
    "\n",
    "for i in i_layer:\n",
    "    electrons_count.append(len(electrons[i]))\n",
    "\n",
    "plt.plot(i_layer, electrons_count)\n",
    "\n",
    "plt.xlabel(\"layer\")\n",
    "plt.ylabel(\"number of electrons\")"
   ]
  },
  {
   "cell_type": "markdown",
   "metadata": {},
   "source": [
    "Your plot may look exponential. If that's true, if we plot it on a log scale, it should look like a straight line, because $\\ln(e^{-\\alpha x}) = -\\alpha x$. Try using the [plt.semilogy(...)](https://matplotlib.org/api/_as_gen/matplotlib.pyplot.semilogy.html) function in matplotlib to check it out. "
   ]
  },
  {
   "cell_type": "code",
   "execution_count": 30,
   "metadata": {},
   "outputs": [
    {
     "data": {
      "text/plain": [
       "[<matplotlib.lines.Line2D at 0x7fe1ec895be0>]"
      ]
     },
     "execution_count": 30,
     "metadata": {},
     "output_type": "execute_result"
    },
    {
     "data": {
      "image/png": "[encoded data removed]",
      "text/plain": [
       "<Figure size 432x288 with 1 Axes>"
      ]
     },
     "metadata": {
      "needs_background": "light"
     },
     "output_type": "display_data"
    }
   ],
   "source": [
    "# Make a plot with the y-axis in a log-scale.\n",
    "plt.semilogy(i_layer, electrons_count)"
   ]
  },
  {
   "cell_type": "markdown",
   "metadata": {},
   "source": [
    "Can you also make a plot of the energy of the electrons (or positrons or gammas) at each layer?"
   ]
  },
  {
   "cell_type": "code",
   "execution_count": null,
   "metadata": {
    "collapsed": true
   },
   "outputs": [],
   "source": [
    "# Make a plot of the energy of the electrons vs. layer number\n"
   ]
  },
  {
   "cell_type": "markdown",
   "metadata": {},
   "source": [
    "# Functions make the work easier\n",
    "\n",
    "We can simplify this by defining a function that makes particles for each layer. \n",
    "\n",
    "The function below takes lists of electrons, positrons, and gammas as inputs. Then for each particle, it makes the appropriate new particles and splits the energy. The function returns the next layer of particles."
   ]
  },
  {
   "cell_type": "code",
   "execution_count": 2,
   "metadata": {},
   "outputs": [],
   "source": [
    "def make_particles(electrons, positrons, gammas):\n",
    "    # now all electrons make a gamma and an electron (bremstraahlung)\n",
    "    # and all positrons make a gamma and a positron (bremstraahlung)\n",
    "    # and all gammas make a positron and an electron\n",
    "    electrons_last_layer = electrons\n",
    "    positrons_last_layer = positrons\n",
    "    gammas_last_layer = gammas\n",
    "\n",
    "    # reset the arrays\n",
    "    electrons = []\n",
    "    positrons = []\n",
    "    gammas    = []\n",
    "    \n",
    "    for el in electrons_last_layer:\n",
    "        gammas.append(el/2.)\n",
    "        electrons.append(el/2.)\n",
    "\n",
    "    for po in positrons_last_layer:\n",
    "        gammas.append(po/2.)\n",
    "        positrons.append(po/2.)\n",
    "\n",
    "    for ga in gammas_this_layer:\n",
    "        electrons.append(ga/2.)\n",
    "        positrons.append(ga/2.)\n",
    "    \n",
    "    return electrons, positrons, gammas"
   ]
  },
  {
   "cell_type": "markdown",
   "metadata": {},
   "source": [
    "Now that we have the function, we can simplify our for loop. "
   ]
  },
  {
   "cell_type": "code",
   "execution_count": 31,
   "metadata": {},
   "outputs": [
    {
     "name": "stdout",
     "output_type": "stream",
     "text": [
      "0\n",
      "1\n",
      "2\n",
      "3\n",
      "4\n",
      "5\n",
      "6\n",
      "7\n",
      "8\n",
      "9\n"
     ]
    }
   ],
   "source": [
    "# layers\n",
    "n_layers = 10\n",
    "\n",
    "# reset so we are starting at the beginning\n",
    "# first layer\n",
    "energy_cr = 160 # Joules, 1e21 eV\n",
    "\n",
    "electrons = []\n",
    "positrons = []\n",
    "gammas = []\n",
    "\n",
    "# energy of the CR splits into one electron and one gamma\n",
    "electrons_this_layer = [energy_cr/2.]\n",
    "positrons_this_layer = []\n",
    "gammas_this_layer    = [energy_cr/2.]\n",
    "\n",
    "# these arrays store the particles made every radiation length\n",
    "electrons.append(electrons_this_layer)\n",
    "positrons.append(positrons_this_layer)\n",
    "gammas.append(gammas_this_layer)\n",
    "\n",
    "for i_layer in range(n_layers):\n",
    "    \n",
    "    # next radiation length\n",
    "    print(i_layer)\n",
    "    # the \\ continues the line on the next point\n",
    "    electrons_this_layer, \\\n",
    "    positrons_this_layer, \\\n",
    "    gammas_this_layer = make_particles(electrons_this_layer,\n",
    "                                          positrons_this_layer,\n",
    "                                          gammas_this_layer)\n",
    "\n",
    "    # now store all the particles\n",
    "    electrons.append(electrons_this_layer)\n",
    "    positrons.append(positrons_this_layer)\n",
    "    gammas.append(gammas_this_layer)"
   ]
  },
  {
   "cell_type": "markdown",
   "metadata": {},
   "source": [
    "#### <span style=\"color:blue\"> Exercise 3.3 </span>\n",
    "Make the same plots you made before!"
   ]
  },
  {
   "cell_type": "code",
   "execution_count": null,
   "metadata": {
    "collapsed": true
   },
   "outputs": [],
   "source": [
    "# Make plots\n"
   ]
  },
  {
   "cell_type": "markdown",
   "metadata": {},
   "source": [
    "How many layers does it take for the average energy to be reduced by 1/e?"
   ]
  },
  {
   "cell_type": "code",
   "execution_count": 24,
   "metadata": {
    "collapsed": true
   },
   "outputs": [],
   "source": [
    "# use the plots to figure it out."
   ]
  },
  {
   "cell_type": "code",
   "execution_count": null,
   "metadata": {
    "collapsed": true
   },
   "outputs": [],
   "source": []
  }
 ],
 "metadata": {
  "kernelspec": {
   "display_name": "Python 3",
   "language": "python",
   "name": "python3"
  },
  "language_info": {
   "codemirror_mode": {
    "name": "ipython",
    "version": 3
   },
   "file_extension": ".py",
   "mimetype": "text/x-python",
   "name": "python",
   "nbconvert_exporter": "python",
   "pygments_lexer": "ipython3",
   "version": "3.6.7"
  }
 },
 "nbformat": 4,
 "nbformat_minor": 2
}
