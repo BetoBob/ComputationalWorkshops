{
 "cells": [
  {
   "cell_type": "code",
   "execution_count": 1,
   "metadata": {},
   "outputs": [],
   "source": [
    "import random as rand\n",
    "import numpy as np\n",
    "import matplotlib.pyplot as plt\n",
    "from IPython import display\n",
    "import time"
   ]
  },
  {
   "cell_type": "code",
   "execution_count": 2,
   "metadata": {},
   "outputs": [
    {
     "data": {
      "image/png": "[encoded data removed]",
      "text/plain": [
       "<Figure size 432x288 with 1 Axes>"
      ]
     },
     "metadata": {
      "needs_background": "light"
     },
     "output_type": "display_data"
    }
   ],
   "source": [
    "x0 = 100\n",
    "y0 = 100\n",
    "\n",
    "Nsteps = 10000\n",
    "box_size = 200\n",
    "\n",
    "lightning = np.zeros((box_size, box_size))\n",
    "lightning[x0,y0] = 1.\n",
    "# neighbor pixel directions\n",
    "nx = [-1, -1, 0, 1, 1, 1, 0, -1]\n",
    "ny = [0, 1, 1, 1, 0, -1, -1, -1]\n",
    "\n",
    "for n in range(Nsteps):\n",
    "    grew_cluster_flag = False\n",
    "    # start a random walk\n",
    "    distance = (box_size-np.sqrt(pow(x0,2) + pow(y0,2))) * rand.random()\n",
    "    phi = 2.*np.pi * rand.random()\n",
    "    x_idx = int(x0 + distance * np.cos(phi))\n",
    "    y_idx = int(y0 + distance * np.sin(phi))\n",
    "        \n",
    "    while(grew_cluster_flag == False):\n",
    "\n",
    "        # check to see if we are near a cluster\n",
    "        for k in range(8):\n",
    "            xn = x_idx + nx[k]\n",
    "            yn = y_idx + ny[k]\n",
    "            if lightning[xn,yn] == 1:\n",
    "                lightning[x_idx,y_idx] = 1\n",
    "                grew_cluster_flag = True\n",
    "                break\n",
    "\n",
    "        #if we didn't get a cluster keep walking\n",
    "        a = rand.randint(0, 7)\n",
    "        x_idx = x_idx + nx[a]\n",
    "        y_idx = y_idx + ny[a]\n",
    "        \n",
    "        if abs(x_idx) >= box_size/2 or abs(y_idx) >= box_size/2:\n",
    "            break\n",
    "            \n",
    "    if(n % 200 == 0):\n",
    "        # use this link to change the colors; replace binary with prism for example!\n",
    "        # https://matplotlib.org/gallery/color/colormap_reference.html\n",
    "        plt.imshow(lightning, cmap = plt.cm.binary) \n",
    "        display.display(plt.gcf())\n",
    "        display.clear_output(wait=True)\n",
    "        time.sleep(0.0001)"
   ]
  },
  {
   "cell_type": "code",
   "execution_count": 70,
   "metadata": {},
   "outputs": [
    {
     "data": {
      "text/plain": [
       "<matplotlib.image.AxesImage at 0x7fce97895898>"
      ]
     },
     "execution_count": 70,
     "metadata": {},
     "output_type": "execute_result"
    },
    {
     "data": {
      "image/png": "[encoded data removed]",
      "text/plain": [
       "<Figure size 432x288 with 1 Axes>"
      ]
     },
     "metadata": {
      "needs_background": "light"
     },
     "output_type": "display_data"
    }
   ],
   "source": [
    "plt.imshow(lightning)"
   ]
  }
 ],
 "metadata": {
  "kernelspec": {
   "display_name": "Python 3",
   "language": "python",
   "name": "python3"
  },
  "language_info": {
   "codemirror_mode": {
    "name": "ipython",
    "version": 3
   },
   "file_extension": ".py",
   "mimetype": "text/x-python",
   "name": "python",
   "nbconvert_exporter": "python",
   "pygments_lexer": "ipython3",
   "version": "3.6.7"
  }
 },
 "nbformat": 4,
 "nbformat_minor": 2
}
