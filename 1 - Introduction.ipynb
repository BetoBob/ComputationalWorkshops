{
 "cells": [
  {
   "cell_type": "markdown",
   "metadata": {},
   "source": [
    "# 1 - Introduction\n",
    "\n",
    "Welcome to the scientific computational workshops! In this module, we will:\n",
    "1. explain the structure of this workshop\n",
    "2. explain the enviornment you will be writing your code in\n",
    "3. run your first *Hello World!* program"
   ]
  },
  {
   "cell_type": "markdown",
   "metadata": {},
   "source": [
    "## 1.1 Workshop Structure\n",
    "\n",
    "*details*\n",
    "\n",
    "*possibly reproduce table of contents \n"
   ]
  },
  {
   "cell_type": "markdown",
   "metadata": {},
   "source": [
    "## 1.2 Software Setup\n",
    "\n",
    "This workshop will be using [Jupyter Notebooks](https://jupyter.org/), a file where you can write / run code and write text about your code. This document that you are reading is in fact a Jupyter Notebook! They are stored in the *.ipynb* file format.\n",
    "\n",
    "There are several ways to run these Jupyter Notebook files. Our labs will use Google Colab\n",
    "\n",
    "### Anaconda\n",
    "\n",
    "run and save Jupyter Notebook files on your computer using the scientific computing application Anaconda. Alternatively, you can run Jupyter notebooks from Google Drive using Google Colab. Both include the same packages needed to run our Workshop's notebooks, so choose whichever service you are most comfortable with using.  "
   ]
  },
  {
   "cell_type": "markdown",
   "metadata": {},
   "source": [
    "## 1.3 Hello World!\n",
    "\n",
    "Now for a small amount of programming! "
   ]
  },
  {
   "cell_type": "code",
   "execution_count": null,
   "metadata": {
    "scrolled": true
   },
   "outputs": [],
   "source": [
    "# Windows: shift    + enter\n",
    "# Mac:     command  + enter\n",
    "\n",
    "print(\"Hello World\")"
   ]
  },
  {
   "cell_type": "markdown",
   "metadata": {},
   "source": []
  }
 ],
 "metadata": {
  "kernelspec": {
   "display_name": "Python 3",
   "language": "python",
   "name": "python3"
  },
  "language_info": {
   "codemirror_mode": {
    "name": "ipython",
    "version": 3
   },
   "file_extension": ".py",
   "mimetype": "text/x-python",
   "name": "python",
   "nbconvert_exporter": "python",
   "pygments_lexer": "ipython3",
   "version": "3.7.3"
  }
 },
 "nbformat": 4,
 "nbformat_minor": 2
}
