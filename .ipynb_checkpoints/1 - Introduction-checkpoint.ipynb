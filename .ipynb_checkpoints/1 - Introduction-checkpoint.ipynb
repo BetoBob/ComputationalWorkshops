{
 "cells": [
  {
   "cell_type": "markdown",
   "metadata": {},
   "source": [
    "# 1 - Introduction\n",
    "\n",
    "Welcome to the scientific computational workshops! In this module, we will:\n",
    "1. explain the structure of this workshop\n",
    "2. setup the software you will be using to write code\n",
    "3. run your first 'Hello World!' program"
   ]
  },
  {
   "cell_type": "markdown",
   "metadata": {},
   "source": [
    "## 1.1 Workshop Structure\n",
    "\n",
    "*details*\n",
    "\n",
    "### Intro to Python\n",
    "\n",
    "*include colab link to each notebook here; this is a little bit easier than the colab link*\n",
    "\n",
    "1. \n",
    "2. \n",
    "3. \n",
    "\n",
    "### Unix Workshops\n",
    "\n",
    "### Projects\n",
    "\n"
   ]
  },
  {
   "cell_type": "markdown",
   "metadata": {},
   "source": [
    "## 1.2 Software Setup\n",
    "\n",
    "This workshop will be using [Jupyter Notebooks](https://jupyter.org/), a file where you can write / run code and write text about your code. This document that you are reading is in fact a Jupyter Notebook! They are stored in the *.ipynb* file format.\n",
    "\n",
    "There are several ways to run these Jupyter Notebook files. Our labs will use Google Colab\n",
    "\n",
    "\n",
    "run and save Jupyter Notebook files on your computer using the scientific computing application Anaconda. Alternatively, you can run Jupyter notebooks from Google Drive using Google Colab. Both include the same packages needed to run our Workshop's notebooks, so choose whichever service you are most comfortable with using.  \n",
    "\n",
    "[![Open In Colab](https://colab.research.google.com/assets/colab-badge.svg)](https://colab.research.google.com/github/betobob/ComputationalWorkshops)\n",
    "\n",
    "### Anaconda"
   ]
  },
  {
   "cell_type": "markdown",
   "metadata": {},
   "source": [
    "## 1.3 Hello World!\n",
    "\n"
   ]
  },
  {
   "cell_type": "code",
   "execution_count": null,
   "metadata": {
    "scrolled": true
   },
   "outputs": [],
   "source": [
    "# Windows: shift    + enter\n",
    "# Mac:     command  + enter\n",
    "\n",
    "print(\"Hello World\")"
   ]
  },
  {
   "cell_type": "markdown",
   "metadata": {},
   "source": [
    "## Checklist\n",
    "\n",
    "By the end of this workshops, you should:\n",
    "1. Have downloaded our workshop files\n",
    "2. Run our notebook on Anaconda **or** Google Colab\n",
    "3. Run 'Hello World'! in this notebook"
   ]
  },
  {
   "cell_type": "markdown",
   "metadata": {},
   "source": [
    "## To-Do\n",
    "\n",
    "* Anaconda Installation tutorial: https://www.anaconda.com/distribution/\n",
    "* Outline explaining the direction of the workshops\n",
    "    * include fancy graphic\n",
    "* explain how to download the workshop files\n",
    "* Hello World example"
   ]
  }
 ],
 "metadata": {
  "kernelspec": {
   "display_name": "Python 3",
   "language": "python",
   "name": "python3"
  },
  "language_info": {
   "codemirror_mode": {
    "name": "ipython",
    "version": 3
   },
   "file_extension": ".py",
   "mimetype": "text/x-python",
   "name": "python",
   "nbconvert_exporter": "python",
   "pygments_lexer": "ipython3",
   "version": "3.7.3"
  }
 },
 "nbformat": 4,
 "nbformat_minor": 2
}
