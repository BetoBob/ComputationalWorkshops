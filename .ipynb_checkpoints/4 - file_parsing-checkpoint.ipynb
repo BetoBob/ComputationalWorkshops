{
 "cells": [
  {
   "cell_type": "markdown",
   "metadata": {},
   "source": [
    "# File Parsing\n",
    "\n",
    "Now making lists for data points is good and all, but what if you have **lots** of data? Wouldn't it be nice to parse large amounts of data from a file instead of having to manually input copious amounts of information? You can achieve this through python's handy file parsing functions!"
   ]
  },
  {
   "cell_type": "code",
   "execution_count": null,
   "metadata": {},
   "outputs": [],
   "source": [
    "import matplotlib.pyplot as plt\n",
    "import numpy as np"
   ]
  },
  {
   "cell_type": "markdown",
   "metadata": {},
   "source": [
    "We will read Voyager-2 data in this notebook.\n",
    "[Voyager-2](https://voyager.jpl.nasa.gov) is a spacecraft that was launched in [1977](https://en.wikipedia.org/wiki/Voyager_2). It collects data about the local space environment, including the flux (or rate per unit time and area) of electrons and protons in the nearby environnment.\n",
    "\n",
    "Let's try reading the file."
   ]
  },
  {
   "cell_type": "markdown",
   "metadata": {},
   "source": [
    "We're going to use python's built-in functions to read data from a NASA Voyager data.\n",
    "\n",
    "The line below [opens](https://docs.python.org/3/library/functions.html#open) a file called ```VY2PLA_1H_FMT.txt``` in folder ```infiles```. If you look in the github or in your file folder containing these notebooks, you should find a folder called ```infiles``` and a file therein called ```VY2PLA_1H_FMT.txt```. The ```\"r\"``` string at the end tells the computer to open the file for _reading_ rather than for _writing_ (or something else).\n"
   ]
  },
  {
   "cell_type": "code",
   "execution_count": null,
   "metadata": {},
   "outputs": [],
   "source": [
    "outfile = open(\"infiles/VY2PLA_1H_FMT.txt\",\"r\")\n",
    "print(outfile.name)"
   ]
  },
  {
   "cell_type": "markdown",
   "metadata": {},
   "source": [
    "You might think, \"Great work!\", but of course, you know that when you open a file in say, Microsoft Word, and you want to know what's in there, you have to read it. You have to tell the computer to do that too. We will use [readlines()]() to do it here.\n",
    "\n",
    "The readlines function creates a list of each line in the file. Each line is stored as a string."
   ]
  },
  {
   "cell_type": "code",
   "execution_count": null,
   "metadata": {},
   "outputs": [],
   "source": [
    "data = outfile.readlines()\n",
    "\n",
    "print(type(data))      "
   ]
  },
  {
   "cell_type": "markdown",
   "metadata": {},
   "source": [
    "The readlines function creates a list of each line in the file (as you can see above). Each line is stored as a string. Lets find out how many lines are in this text file."
   ]
  },
  {
   "cell_type": "code",
   "execution_count": null,
   "metadata": {},
   "outputs": [],
   "source": [
    "len(data)"
   ]
  },
  {
   "cell_type": "markdown",
   "metadata": {},
   "source": [
    "Now lets look at the contents of the file!"
   ]
  },
  {
   "cell_type": "code",
   "execution_count": null,
   "metadata": {},
   "outputs": [],
   "source": [
    "print(data)"
   ]
  },
  {
   "cell_type": "markdown",
   "metadata": {},
   "source": [
    "Look carefully at the list above that gets returned by readlines. You'll see that each item in the list is a string that corresponds to a single line of text in the file. Each string ends with ```\\n``` which is a formatting command that tells the computer to go to the next line. "
   ]
  },
  {
   "cell_type": "markdown",
   "metadata": {},
   "source": [
    "#### <span style=\"color:blue\"> Exercise 4.1 </span>\n",
    "So that you can read the information in the line a little easier, write a for loop that prints each line in the file on a single line. "
   ]
  },
  {
   "cell_type": "code",
   "execution_count": null,
   "metadata": {},
   "outputs": [],
   "source": [
    "# Write a for loop that prints each line in the file.\n"
   ]
  },
  {
   "cell_type": "markdown",
   "metadata": {},
   "source": [
    "### Parsing data"
   ]
  },
  {
   "cell_type": "markdown",
   "metadata": {},
   "source": [
    "The file we read ```VY2PLA_1H_FMT.txt``` tells us about how the data is formatted in the data files. Armed with that information (go back and review if you didn't already), we can proceed to extract individual data points from the data files. ```v2_hour_2007.txt``` is one such file."
   ]
  },
  {
   "cell_type": "code",
   "execution_count": null,
   "metadata": {},
   "outputs": [],
   "source": [
    "datafile = open(\"../infiles/v2_hour_2007.txt\",\"r\")\n",
    "\n",
    "data=datafile.readlines()\n",
    "\n",
    "# lets check out how many lines this file is\n",
    "print(len(data))"
   ]
  },
  {
   "cell_type": "markdown",
   "metadata": {},
   "source": [
    "Now lets get an idea of what the data looks like. In the code block below, we will print the first four rows (or lines) of data."
   ]
  },
  {
   "cell_type": "code",
   "execution_count": null,
   "metadata": {},
   "outputs": [],
   "source": [
    "# Printing the first \n",
    "for line in data[0:4]:\n",
    "    print(line,)"
   ]
  },
  {
   "cell_type": "markdown",
   "metadata": {},
   "source": [
    "**Side Note** \n",
    "\n",
    "The ```0:4``` in the brackets is called a **list comprehension**. The numbers around the colon represent indicies, the first and the last index of a list resepectively.\n",
    "\n",
    "A list comprehension accesses the first index (inclusively) to the last index (exclusively) of a list. Here's an example below:"
   ]
  },
  {
   "cell_type": "code",
   "execution_count": null,
   "metadata": {},
   "outputs": [],
   "source": [
    "list = ['apple', 'orange', 'pineapple', 'carrot', 'parrot', 'merit']\n",
    "list[1:4]"
   ]
  },
  {
   "cell_type": "markdown",
   "metadata": {},
   "source": [
    "Back to our data! Let's try to extract the date (year, day-of-year, hour). As the formatting documentation describes above, the year is the first column of the data, the day-of-year is the second column, and hour is the third column.\n",
    "\n",
    "So let's change the loop we made above by printing out ```line[0], line[1], line[2]```. Will this work?"
   ]
  },
  {
   "cell_type": "code",
   "execution_count": null,
   "metadata": {},
   "outputs": [],
   "source": [
    "for line in data[0:4]:\n",
    "    year = line[0]\n",
    "    dayofyear = line[1]\n",
    "    hour = line[2]\n",
    "    print(year, dayofyear, hour)"
   ]
  },
  {
   "cell_type": "markdown",
   "metadata": {},
   "source": [
    "It shouldn't. That's because each line is a single string with all the data separated by spaces. So we need to create a new list for each column value. We can do this by using the **split** funtion.\n",
    "\n",
    "Review the docstring for [split()](https://docs.python.org/2/library/stdtypes.html#str.split). By default the split funciton looks for spaces and divides up the line, but you can split a line based on other delimiters if you want. (Review the docs to figure out how.)\n",
    "\n",
    "Below we will extract the first line from the data, split the line based on the spaces, and finally print the resulting list."
   ]
  },
  {
   "cell_type": "code",
   "execution_count": null,
   "metadata": {},
   "outputs": [],
   "source": [
    "line = data[0]\n",
    "print(line)\n",
    "items = line.split()\n",
    "print(items)"
   ]
  },
  {
   "cell_type": "markdown",
   "metadata": {},
   "source": [
    "What type are the new items in the list? They should be strings, and you can tell because there are ```' '``` quotation marks around each string. "
   ]
  },
  {
   "cell_type": "markdown",
   "metadata": {},
   "source": [
    "#### <span style=\"color:blue\"> Exercise 4.2 </span>\n",
    "But we want the year, day-of-year, and hour to be ```float```'s. Cast the items into floats"
   ]
  },
  {
   "cell_type": "code",
   "execution_count": null,
   "metadata": {},
   "outputs": [],
   "source": [
    "## Convert the items to floats\n",
    "\n"
   ]
  },
  {
   "cell_type": "markdown",
   "metadata": {},
   "source": [
    "Now we will write a for loop that cycles through each line and extracts the year and day-of-year."
   ]
  },
  {
   "cell_type": "code",
   "execution_count": null,
   "metadata": {},
   "outputs": [],
   "source": [
    "for line in data[0:4]:\n",
    "    split_line = line.split()\n",
    "\n",
    "    # Date information casted into \n",
    "    year = float(split_line[0])\n",
    "    dayofyear = float(split_line[1])\n",
    "    hour = float(split_line[2])\n",
    "    \n",
    "    print(year, dayofyear, hour)"
   ]
  },
  {
   "cell_type": "markdown",
   "metadata": {},
   "source": [
    "Let's try printing the year, dayofyear, and hour again, after we've parsed all those lines."
   ]
  },
  {
   "cell_type": "code",
   "execution_count": null,
   "metadata": {},
   "outputs": [],
   "source": [
    "print(year, dayofyear, hour)"
   ]
  },
  {
   "cell_type": "markdown",
   "metadata": {},
   "source": [
    "Notice a problem? We wanted to read **all** the data, and right now we only have the last ones. To read and **store** all the data, we'll need to use lists."
   ]
  },
  {
   "cell_type": "code",
   "execution_count": null,
   "metadata": {},
   "outputs": [],
   "source": [
    "#Now store the data in arrays\n",
    "years = []\n",
    "days  = []\n",
    "hours = []\n",
    "\n",
    "for line in data:\n",
    "    split_line = line.split()\n",
    "\n",
    "    years.append(float(split_line[0]))\n",
    "    days.append(float(split_line[1]))\n",
    "    hours.append(float(split_line[2]))"
   ]
  },
  {
   "cell_type": "markdown",
   "metadata": {},
   "source": [
    "#### <span style=\"color:blue\"> Exercise 4.3 </span>\n",
    "We also want to look at the data recorded by the plasma sensors on Voyager-2. In particular, we're interested in the protons near the Voyager-2 spacecraft.\n",
    "\n",
    "Go back to the formatting text and figure out which of the columns have the speed, density, and temperature of the protons. Then store the data into three lists.\n",
    "\n",
    "Note that to get the temperature in units of Kelvin:\n",
    "$$ T = 0.0052 \\times 11604.505  v_{thermal}^2 $$\n",
    "where $v_{thermal}$ is the proton's thermal speed."
   ]
  },
  {
   "cell_type": "code",
   "execution_count": null,
   "metadata": {},
   "outputs": [],
   "source": [
    "# cycle through each line and extract\n",
    "# the year and day of year, hour,\n",
    "# proton speed in km/s, proton density in cm^-3\n",
    "# and proton temperature in K, storing the data in lists\n",
    "\n",
    "# here are some empty lists for you to use\n",
    "years = []\n",
    "days  = []\n",
    "hours = []\n",
    "proton_speeds_kms = []\n",
    "proton_densities_cm3 = []\n",
    "proton_temperatures_K = []\n"
   ]
  },
  {
   "cell_type": "markdown",
   "metadata": {},
   "source": [
    "## Interpreting the Data\n",
    "Since its been traveling for more than **40 years**, Voyager-2 may have left the edge of the solar system by now. You might wonder, how do we not know whether it has or not? Isn't the size of the solar system known? \n",
    "\n",
    "Well, the answer is kind of. Voyager can help us understand how large the solar system is and its shape. You can tell by plotting the proton's density, speed, and temperature over time.\n",
    "\n",
    "The sun pumps protons into the solar system in the form of the solar wind. When Voyager-2 leaves the solar system, it crosses a shock wave. Inside of the shock, the protons are moving very fast, pumped by the solar wind. Outside, you're in interstellar space whether the particles are moving much slower. You can read the fascinating story of Voyager crossing the shock [here](https://www.nature.com/articles/454038a)."
   ]
  },
  {
   "cell_type": "markdown",
   "metadata": {},
   "source": [
    "#### <span style=\"color:blue\"> Exercise 4.4 </span>\n",
    "So let's take a look at what the data are telling us. \n",
    "\n",
    "Make three plots:\n",
    "+ The proton speed vs. the day of year\n",
    "+ The proton density vs. the day of year.\n",
    "+ The proton temperature vs. the day of year.\n",
    "\n",
    "You should see a transition in all three of these plots? Which one is the most striking? Can you find the day of year (in what year?) Voyager-2 left the solar system?"
   ]
  },
  {
   "cell_type": "code",
   "execution_count": null,
   "metadata": {},
   "outputs": [],
   "source": [
    "# make a plot of the proton speed vs. the day of year\n",
    "\n",
    "\n"
   ]
  },
  {
   "cell_type": "code",
   "execution_count": null,
   "metadata": {},
   "outputs": [],
   "source": [
    "# make a plot of the proton density vs. the day of year\n",
    "\n",
    "\n"
   ]
  },
  {
   "cell_type": "code",
   "execution_count": null,
   "metadata": {},
   "outputs": [],
   "source": [
    "# make a plot of the proton temperature vs. the day of year.\n",
    "\n",
    "\n"
   ]
  },
  {
   "cell_type": "markdown",
   "metadata": {},
   "source": [
    "## Writing Data to a File\n",
    "\n",
    "So we did all that work, but have nowhere to save our calculations! If only these lists could be **written** to a file ...\n",
    "\n",
    "Python fortunately has a library for that! Using the csv library, we can write data to a _comma seperated file_ (or CSV for short). A CSV "
   ]
  },
  {
   "cell_type": "code",
   "execution_count": null,
   "metadata": {},
   "outputs": [],
   "source": [
    "# now let's write our data to some files\n",
    "import csv\n",
    "\n",
    "writer = csv.writer(open('proton_speeds_kms.csv', 'w'))\n",
    "for i,ps in enumerate(proton_speeds_kms):\n",
    "    writer.writerow([days[i], ps])\n",
    "    \n",
    "writer = csv.writer(open('proton_densities_cm3.csv', 'w'))\n",
    "for i,pd in enumerate(proton_densities_cm3):\n",
    "    writer.writerow([days[i], pd])\n",
    "    \n",
    "writer = csv.writer(open('proton_temperatures_K.csv', 'w'))\n",
    "for i,pt in enumerate(proton_temperatures_K):\n",
    "    writer.writerow([days[i], pt])"
   ]
  },
  {
   "cell_type": "markdown",
   "metadata": {},
   "source": [
    "## Extra! An Introduction to Numpy"
   ]
  }
 ],
 "metadata": {
  "kernelspec": {
   "display_name": "Python 3",
   "language": "python",
   "name": "python3"
  },
  "language_info": {
   "codemirror_mode": {
    "name": "ipython",
    "version": 3
   },
   "file_extension": ".py",
   "mimetype": "text/x-python",
   "name": "python",
   "nbconvert_exporter": "python",
   "pygments_lexer": "ipython3",
   "version": "3.6.7"
  }
 },
 "nbformat": 4,
 "nbformat_minor": 2
}
