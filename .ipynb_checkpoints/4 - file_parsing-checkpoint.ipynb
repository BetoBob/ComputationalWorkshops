{
 "cells": [
  {
   "cell_type": "code",
   "execution_count": 14,
   "metadata": {
    "collapsed": true
   },
   "outputs": [],
   "source": [
    "import matplotlib.pyplot as plt\n",
    "import numpy as np\n",
    "%matplotlib inline"
   ]
  },
  {
   "cell_type": "code",
   "execution_count": 1,
   "metadata": {},
   "outputs": [
    {
     "name": "stdout",
     "output_type": "stream",
     "text": [
      "VY2PLA_1H_FMT.txt\n"
     ]
    }
   ],
   "source": [
    "outfile = open(\"VY2PLA_1H_FMT.txt\",\"r\")\n",
    "data=outfile.readlines()\n",
    "print(outfile.name)"
   ]
  },
  {
   "cell_type": "code",
   "execution_count": 2,
   "metadata": {},
   "outputs": [
    {
     "data": {
      "text/plain": [
       "50"
      ]
     },
     "execution_count": 2,
     "metadata": {},
     "output_type": "execute_result"
    }
   ],
   "source": [
    "len(data)"
   ]
  },
  {
   "cell_type": "code",
   "execution_count": 3,
   "metadata": {},
   "outputs": [
    {
     "name": "stdout",
     "output_type": "stream",
     "text": [
      "['File: VY2PLA_1H_FMT.txt                       Version: NSSDC 12/31/98 MIT\\n', '-------------------------------------------------------------------------\\n', '\\n', 'The files in this directory contain Voyager hourly average plasma data.\\n', 'The plasma parameters are obtained by finding the best fit of a convected\\n', 'isotropic Maxwellian distribution to the data. One sigma errors\\n', 'are typically less than 0.5% in the speed and VR, less than 5% for the\\n', 'density and thermal speed, and vary greatly for VT and VN.\\n', 'Sampling times range from 12 to 192 sec., with sampling generally more\\n', 'frequent early in the mission. The columns are:\\n', '\\n', '1) Year                                         \\n', '2) day of year (day 1 is Jan. 1)\\n', '3) hour\\n', '4) proton speed in km/s (magnitude of V)\\n', '5) proton density in cm-3\\n', '6) proton thermal speed in km/s (proton temperature in eV = .0052 times the\\n', 'square of the thermal speed)\\n', '7) VR\\n', '8) VT (WARNING: this parameter is often NOT reliable after 1989)\\n', '9) VN (WARNING: this parameter is often NOT reliable after 1989)\\n', '\\n', 'The velocity components are given in the RTN coordinate system,  \\n', 'where R is radially outward, T is in a plane parallel to the solar\\n', 'equatorial plane and positive in the direction of solar rotation,\\n', 'and N completes a right-handed system.\\n', '\\n', 'The form of the file name is usually of a form similar to\\n', 'sc_type_start_end_dis.suff\\n', 'where any of these may be missing.\\n', 'sc        is Space Craft v1 or v2\\n', 'type      is type of data, usually the same as the directory name, (e.g. \\n', '          sedr ha )\\n', 'start     start time year.day.hour ( day and hour may be missing)\\n', 'end       end   time year.day.hour ( day and hour may be missing)\\n', 'dis       descriptor, if any addition processing is needed, (e.g. filt \\n', '          implies the data has been filtered, see README in that \\n', '          directory.)\\n', 'suff      suffix, Z, gz implies the type of compression etc.\\n', '\\n', 'The formats may describe more fields that the data sets contain.\\n', 'In that case, the fields in the description should just be ignored.\\n', 'In some cases, 00000 is used as a fill, and implies the that data\\n', 'is unavailable.  Common sense is required to distinguish missing data\\n', 'from true zeros.\\n', '\\n', ' \\n', 'Please consult with us, or at least send preprints, when you use this data to\\n', 'prevent grievous errors or misconceptions. (John Richardson, jdr@space.mit.edu)\\n', '\\n']\n"
     ]
    }
   ],
   "source": [
    "print(data)"
   ]
  },
  {
   "cell_type": "code",
   "execution_count": 4,
   "metadata": {},
   "outputs": [
    {
     "name": "stdout",
     "output_type": "stream",
     "text": [
      "('File: VY2PLA_1H_FMT.txt                       Version: NSSDC 12/31/98 MIT\\n',)\n",
      "('-------------------------------------------------------------------------\\n',)\n",
      "('\\n',)\n",
      "('The files in this directory contain Voyager hourly average plasma data.\\n',)\n",
      "('The plasma parameters are obtained by finding the best fit of a convected\\n',)\n",
      "('isotropic Maxwellian distribution to the data. One sigma errors\\n',)\n",
      "('are typically less than 0.5% in the speed and VR, less than 5% for the\\n',)\n",
      "('density and thermal speed, and vary greatly for VT and VN.\\n',)\n",
      "('Sampling times range from 12 to 192 sec., with sampling generally more\\n',)\n",
      "('frequent early in the mission. The columns are:\\n',)\n",
      "('\\n',)\n",
      "('1) Year                                         \\n',)\n",
      "('2) day of year (day 1 is Jan. 1)\\n',)\n",
      "('3) hour\\n',)\n",
      "('4) proton speed in km/s (magnitude of V)\\n',)\n",
      "('5) proton density in cm-3\\n',)\n",
      "('6) proton thermal speed in km/s (proton temperature in eV = .0052 times the\\n',)\n",
      "('square of the thermal speed)\\n',)\n",
      "('7) VR\\n',)\n",
      "('8) VT (WARNING: this parameter is often NOT reliable after 1989)\\n',)\n",
      "('9) VN (WARNING: this parameter is often NOT reliable after 1989)\\n',)\n",
      "('\\n',)\n",
      "('The velocity components are given in the RTN coordinate system,  \\n',)\n",
      "('where R is radially outward, T is in a plane parallel to the solar\\n',)\n",
      "('equatorial plane and positive in the direction of solar rotation,\\n',)\n",
      "('and N completes a right-handed system.\\n',)\n",
      "('\\n',)\n",
      "('The form of the file name is usually of a form similar to\\n',)\n",
      "('sc_type_start_end_dis.suff\\n',)\n",
      "('where any of these may be missing.\\n',)\n",
      "('sc        is Space Craft v1 or v2\\n',)\n",
      "('type      is type of data, usually the same as the directory name, (e.g. \\n',)\n",
      "('          sedr ha )\\n',)\n",
      "('start     start time year.day.hour ( day and hour may be missing)\\n',)\n",
      "('end       end   time year.day.hour ( day and hour may be missing)\\n',)\n",
      "('dis       descriptor, if any addition processing is needed, (e.g. filt \\n',)\n",
      "('          implies the data has been filtered, see README in that \\n',)\n",
      "('          directory.)\\n',)\n",
      "('suff      suffix, Z, gz implies the type of compression etc.\\n',)\n",
      "('\\n',)\n",
      "('The formats may describe more fields that the data sets contain.\\n',)\n",
      "('In that case, the fields in the description should just be ignored.\\n',)\n",
      "('In some cases, 00000 is used as a fill, and implies the that data\\n',)\n",
      "('is unavailable.  Common sense is required to distinguish missing data\\n',)\n",
      "('from true zeros.\\n',)\n",
      "('\\n',)\n",
      "(' \\n',)\n",
      "('Please consult with us, or at least send preprints, when you use this data to\\n',)\n",
      "('prevent grievous errors or misconceptions. (John Richardson, jdr@space.mit.edu)\\n',)\n",
      "('\\n',)\n"
     ]
    }
   ],
   "source": [
    "for line in data:\n",
    "        energy_line = line\n",
    "        print(energy_line,)"
   ]
  },
  {
   "cell_type": "code",
   "execution_count": 5,
   "metadata": {},
   "outputs": [
    {
     "name": "stdout",
     "output_type": "stream",
     "text": [
      "v2_hour_2007.txt\n"
     ]
    }
   ],
   "source": [
    "# that defines the format. Now we want to read the data itself\n",
    "datafile = open(\"v2_hour_2007.txt\",\"r\")\n",
    "data=datafile.readlines()\n",
    "print(datafile.name)"
   ]
  },
  {
   "cell_type": "code",
   "execution_count": 6,
   "metadata": {},
   "outputs": [
    {
     "name": "stdout",
     "output_type": "stream",
     "text": [
      "1728\n"
     ]
    }
   ],
   "source": [
    "print(len(data))"
   ]
  },
  {
   "cell_type": "code",
   "execution_count": 7,
   "metadata": {},
   "outputs": [
    {
     "name": "stdout",
     "output_type": "stream",
     "text": [
      "('2007   1 18  397.4  0.00093   16.5  396.3    2.9  -24.1\\n',)\n",
      "('2007   1 19  389.1  0.00078    8.7  388.8   -4.9   13.9\\n',)\n",
      "('2007   1 20  395.9  0.00063    8.0  395.8   -6.4    6.1\\n',)\n",
      "('2007   2 23  406.4  0.00095   25.2  406.2   10.0   -0.7\\n',)\n"
     ]
    }
   ],
   "source": [
    "for line in data[0:4]:\n",
    "    print(line,)"
   ]
  },
  {
   "cell_type": "code",
   "execution_count": 10,
   "metadata": {},
   "outputs": [
    {
     "name": "stdout",
     "output_type": "stream",
     "text": [
      "['2007', '1', '18', '397.4', '0.00093', '16.5', '396.3', '2.9', '-24.1']\n",
      "2007.0\n",
      "['2007', '1', '19', '389.1', '0.00078', '8.7', '388.8', '-4.9', '13.9']\n",
      "2007.0\n",
      "['2007', '1', '20', '395.9', '0.00063', '8.0', '395.8', '-6.4', '6.1']\n",
      "2007.0\n",
      "['2007', '2', '23', '406.4', '0.00095', '25.2', '406.2', '10.0', '-0.7']\n",
      "2007.0\n"
     ]
    }
   ],
   "source": [
    "# cycle through each line and find a way to extract\n",
    "# the year, day of year, hour, proton speed, proton density\n",
    "# and proton temperature\n",
    "for line in data[0:4]:\n",
    "    split_line = line.split()\n",
    "    print split_line\n",
    "    print float(split_line[0])\n",
    "    year = float(split_line[0])\n",
    "    dayofyear = float(split_line[1])\n",
    "    hour = float(split_line[2])\n",
    "    proton_speed_kms = float(split_line[3])\n",
    "    proton_density_cm3 = float(split_line[4])\n",
    "    proton_temperature_K = float(split_line[5])**2*0.0052 * 11604.505"
   ]
  },
  {
   "cell_type": "code",
   "execution_count": 12,
   "metadata": {
    "collapsed": true
   },
   "outputs": [],
   "source": [
    "#Now store the data in arrays\n",
    "years = []\n",
    "days  = []\n",
    "hours = []\n",
    "proton_speeds_kms = []\n",
    "proton_densities_cm3 = []\n",
    "proton_temperatures_K = []\n",
    "\n",
    "for line in data:\n",
    "    split_line = line.split()\n",
    "\n",
    "    years.append(float(split_line[0]))\n",
    "    days.append(float(split_line[1]))\n",
    "    hours.append(float(split_line[2]))\n",
    "    proton_speeds_kms.append(float(split_line[3]))\n",
    "    proton_densities_cm3.append(float(split_line[4]))\n",
    "    proton_temperatures_K.append(float(split_line[5])**2*0.0052 * 11604.505)"
   ]
  },
  {
   "cell_type": "code",
   "execution_count": 15,
   "metadata": {},
   "outputs": [
    {
     "data": {
      "text/plain": [
       "[<matplotlib.lines.Line2D at 0x10b464110>]"
      ]
     },
     "execution_count": 15,
     "metadata": {},
     "output_type": "execute_result"
    },
    {
     "data": {
      "image/png": "[encoded data removed]",
      "text/plain": [
       "<matplotlib.figure.Figure at 0x10b34fa50>"
      ]
     },
     "metadata": {},
     "output_type": "display_data"
    }
   ],
   "source": [
    "plt.plot(days, proton_speeds_kms)"
   ]
  },
  {
   "cell_type": "code",
   "execution_count": 16,
   "metadata": {},
   "outputs": [
    {
     "data": {
      "text/plain": [
       "[<matplotlib.lines.Line2D at 0x10b508e50>]"
      ]
     },
     "execution_count": 16,
     "metadata": {},
     "output_type": "execute_result"
    },
    {
     "data": {
      "image/png": "[encoded data removed]",
      "text/plain": [
       "<matplotlib.figure.Figure at 0x10b4cead0>"
      ]
     },
     "metadata": {},
     "output_type": "display_data"
    }
   ],
   "source": [
    "plt.semilogy(days, proton_densities_cm3)"
   ]
  },
  {
   "cell_type": "code",
   "execution_count": 17,
   "metadata": {},
   "outputs": [
    {
     "data": {
      "text/plain": [
       "[<matplotlib.lines.Line2D at 0x10b76aa50>]"
      ]
     },
     "execution_count": 17,
     "metadata": {},
     "output_type": "execute_result"
    },
    {
     "data": {
      "image/png": "[encoded data removed]",
      "text/plain": [
       "<matplotlib.figure.Figure at 0x10b5da5d0>"
      ]
     },
     "metadata": {},
     "output_type": "display_data"
    }
   ],
   "source": [
    "plt.semilogy(days,proton_temperatures_K)"
   ]
  },
  {
   "cell_type": "code",
   "execution_count": 21,
   "metadata": {},
   "outputs": [],
   "source": [
    "# add write output to a file here\n",
    "# now let's write our data to some files\n",
    "import csv\n",
    "\n",
    "writer = csv.writer(open('proton_speeds_kms.csv', 'w'))\n",
    "for i,ps in enumerate(proton_speeds_kms):\n",
    "    writer.writerow([days[i], ps])\n",
    "writer = csv.writer(open('proton_densities_cm3.csv', 'w'))\n",
    "for i,pd in enumerate(proton_densities_cm3):\n",
    "    writer.writerow([days[i], pd])\n",
    "writer = csv.writer(open('proton_temperatures_K.csv', 'w'))\n",
    "for i,pt in enumerate(proton_temperatures_K):\n",
    "    writer.writerow([days[i], pt])"
   ]
  }
 ],
 "metadata": {
  "kernelspec": {
   "display_name": "Python 3",
   "language": "python",
   "name": "python3"
  },
  "language_info": {
   "codemirror_mode": {
    "name": "ipython",
    "version": 3
   },
   "file_extension": ".py",
   "mimetype": "text/x-python",
   "name": "python",
   "nbconvert_exporter": "python",
   "pygments_lexer": "ipython3",
   "version": "3.6.7"
  }
 },
 "nbformat": 4,
 "nbformat_minor": 2
}
