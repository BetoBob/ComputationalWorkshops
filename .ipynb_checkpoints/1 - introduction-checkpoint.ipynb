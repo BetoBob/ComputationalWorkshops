{
 "cells": [
  {
   "cell_type": "markdown",
   "metadata": {},
   "source": [
    "# Introduction\n",
    "\n",
    "Welcome to python and Jupyter Notebooks!\n",
    "\n",
    "Jupyter is a python interpreter, this means that you can run python code directly from notebook/browser.\n",
    "\n",
    "Jupyter Notebooks are composed of text cells and code cells. Text cells, called \"Markdown\" allow you to use formatting but cannot be run as code. Code cells, called \"Code\", allow you to run the code written in the cell, like a program. "
   ]
  },
  {
   "cell_type": "markdown",
   "metadata": {},
   "source": [
    "### Python\n",
    "\n",
    "Python is a high level programming language. A high level programming language is a programming language that is closer to English than bits and bytes. \n",
    "\n",
    "### What can you do with Python?\n",
    "\n",
    "You can do math!\n",
    "\n",
    "To run the code cell below, select the cell and press the 'Cntrl' key and the 'Enter' key at the same time. Another way to run the code cell is to press the 'Run' button at the top of the screen."
   ]
  },
  {
   "cell_type": "code",
   "execution_count": null,
   "metadata": {},
   "outputs": [],
   "source": [
    "3+8"
   ]
  },
  {
   "cell_type": "markdown",
   "metadata": {},
   "source": [
    "### Modules\n",
    "\n",
    "Sometimes you want to use code that has already been written. You can do this by using the import command. Python has a lot of already written useful code grouped by function/use; these are called libraries.\n",
    "\n",
    "For example, the library used in the cell below, 'numpy', has many math constants and functions already defined.\n",
    "\n",
    "Let's import the numpy libray and nickname it or alias it to np, so that we don't have to type as much, and then we will use the print command to display the constant value pi to the screen."
   ]
  },
  {
   "cell_type": "code",
   "execution_count": 1,
   "metadata": {},
   "outputs": [
    {
     "name": "stdout",
     "output_type": "stream",
     "text": [
      "3.141592653589793\n"
     ]
    }
   ],
   "source": [
    "import numpy as np\n",
    "print(np.pi)"
   ]
  },
  {
   "cell_type": "code",
   "execution_count": null,
   "metadata": {},
   "outputs": [],
   "source": [
    "#You can assign names to values\n",
    "epsilon0 = 8.85e-12   # C^2 / N m^2\n",
    "charge  = 9e-9       # C\n",
    "radius  = 2e-3       # m \n",
    "force   = 1./(4*np.pi * epsilon0) * charge**2 / radius**2\n",
    "print(force) # Newtons"
   ]
  },
  {
   "cell_type": "code",
   "execution_count": null,
   "metadata": {},
   "outputs": [],
   "source": [
    "# I could assign all those variables at once\n",
    "epsilon0, charge, radius = 8.85e-12, 9e-9, 2e-3\n",
    "force   = 1./(4*np.pi * epsilon0) * charge**2 / radius**2\n",
    "print(force) # Newtons"
   ]
  },
  {
   "cell_type": "code",
   "execution_count": null,
   "metadata": {},
   "outputs": [],
   "source": [
    "type(force)"
   ]
  },
  {
   "cell_type": "code",
   "execution_count": null,
   "metadata": {},
   "outputs": [],
   "source": [
    "force = str(force)\n",
    "print(type(force))\n",
    "print(force)"
   ]
  },
  {
   "cell_type": "code",
   "execution_count": null,
   "metadata": {},
   "outputs": [],
   "source": [
    "label = '5'\n",
    "label = float(label)\n",
    "print(type(label))\n",
    "print(force)"
   ]
  },
  {
   "cell_type": "code",
   "execution_count": null,
   "metadata": {},
   "outputs": [],
   "source": [
    "#This is a list; I can determine it's length\n",
    "energy_kcal = [-13.4, -2.7, 5.4, 42.1]\n",
    "length = len(energy_kcal)\n",
    "print('The length of this list is', length)"
   ]
  },
  {
   "cell_type": "code",
   "execution_count": null,
   "metadata": {},
   "outputs": [],
   "source": [
    "#I can address a particular element of the list.  Counting starts at zero\n",
    "print(energy_kcal[1])"
   ]
  },
  {
   "cell_type": "code",
   "execution_count": null,
   "metadata": {},
   "outputs": [],
   "source": [
    "#I can change an element of the list\n",
    "energy_kilojoules = energy_kcal[1]*4.184\n",
    "print(energy_kilojoules)"
   ]
  },
  {
   "cell_type": "code",
   "execution_count": null,
   "metadata": {},
   "outputs": [],
   "source": [
    "short_list = energy_kcal[0:2]\n",
    "print(short_list)"
   ]
  },
  {
   "cell_type": "code",
   "execution_count": null,
   "metadata": {},
   "outputs": [],
   "source": [
    "slice1 = energy_kcal[1:]\n",
    "slice2 = energy_kcal[:3]\n",
    "print('slice1 is', slice1)\n",
    "print('slice2 is', slice2)"
   ]
  },
  {
   "cell_type": "code",
   "execution_count": null,
   "metadata": {},
   "outputs": [],
   "source": [
    "for number in energy_kcal:\n",
    "    kJ = number*4.184\n",
    "    print(kJ)"
   ]
  },
  {
   "cell_type": "code",
   "execution_count": null,
   "metadata": {},
   "outputs": [],
   "source": [
    "#Save these as a new list; this doesn't work\n",
    "for number in energy_kcal:\n",
    "    kJ = number*4.184\n",
    "    energy_kJ.append(kJ)\n",
    "\n",
    "print(energy_kJ)"
   ]
  },
  {
   "cell_type": "code",
   "execution_count": null,
   "metadata": {},
   "outputs": [],
   "source": [
    "energy_kJ = []\n",
    "for number in energy_kcal:\n",
    "    kJ = number*4.184\n",
    "    energy_kJ.append(kJ)\n",
    "\n",
    "print(energy_kJ)"
   ]
  },
  {
   "cell_type": "code",
   "execution_count": null,
   "metadata": {},
   "outputs": [],
   "source": [
    "negative_numbers = []\n",
    "for number in energy_kJ:\n",
    "    if number<0:\n",
    "        negative_numbers.append(number)\n",
    "\n",
    "print(negative_numbers)"
   ]
  },
  {
   "cell_type": "code",
   "execution_count": null,
   "metadata": {},
   "outputs": [],
   "source": [
    "data_list = ['-12.5', 14.4, 8.1, '42']\n",
    "number_list = []\n",
    "for item in data_list:\n",
    "    if type(item) is str:\n",
    "        item = float(item)\n",
    "    number_list.append(item)\n",
    "\n",
    "print(number_list)"
   ]
  },
  {
   "cell_type": "code",
   "execution_count": null,
   "metadata": {},
   "outputs": [],
   "source": []
  },
  {
   "cell_type": "code",
   "execution_count": null,
   "metadata": {},
   "outputs": [],
   "source": []
  }
 ],
 "metadata": {
  "kernelspec": {
   "display_name": "Python 3",
   "language": "python",
   "name": "python3"
  },
  "language_info": {
   "codemirror_mode": {
    "name": "ipython",
    "version": 3
   },
   "file_extension": ".py",
   "mimetype": "text/x-python",
   "name": "python",
   "nbconvert_exporter": "python",
   "pygments_lexer": "ipython3",
   "version": "3.6.7"
  }
 },
 "nbformat": 4,
 "nbformat_minor": 2
}
