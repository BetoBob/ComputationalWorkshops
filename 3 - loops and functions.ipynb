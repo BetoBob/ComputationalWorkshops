{
 "cells": [
  {
   "cell_type": "code",
   "execution_count": 1,
   "metadata": {},
   "outputs": [
    {
     "name": "stderr",
     "output_type": "stream",
     "text": [
      "/anaconda3/lib/python3.7/site-packages/matplotlib/__init__.py:907: MatplotlibDeprecationWarning: The backend.qt4 rcParam was deprecated in version 2.2.  In order to force the use of a specific Qt binding, either import that binding first, or set the QT_API environment variable.\n",
      "  mplDeprecation)\n",
      "/anaconda3/lib/python3.7/site-packages/matplotlib/__init__.py:907: MatplotlibDeprecationWarning: The backend.qt4 rcParam was deprecated in version 2.2.  In order to force the use of a specific Qt binding, either import that binding first, or set the QT_API environment variable.\n",
      "  mplDeprecation)\n"
     ]
    }
   ],
   "source": [
    "import matplotlib.pyplot as plt\n",
    "import numpy as np"
   ]
  },
  {
   "cell_type": "code",
   "execution_count": 2,
   "metadata": {},
   "outputs": [],
   "source": [
    "# add much simpler stuff here\n",
    "# introduce for loops (in and range)\n",
    "# introduce functions"
   ]
  },
  {
   "cell_type": "code",
   "execution_count": 3,
   "metadata": {},
   "outputs": [],
   "source": [
    "# let's write a simulation of cosmic ray air shower\n",
    "\n",
    "# model is that at each radiation length \n",
    "#    electrons/positrons bremstrahlung\n",
    "#    gammas pair produce\n",
    "# energy is split among daughter products\n",
    "#    if electron/positron below critical energy -> stop"
   ]
  },
  {
   "cell_type": "code",
   "execution_count": 4,
   "metadata": {},
   "outputs": [],
   "source": [
    "# add several markdown headings here to step people through things"
   ]
  },
  {
   "cell_type": "markdown",
   "metadata": {},
   "source": [
    "# Particle Cascades\n",
    "\n",
    "We can illustr\n",
    "<img src=\"infiles/emshower.png\">\n",
    "<img src=\"infiles/heitler_model.png\">"
   ]
  },
  {
   "cell_type": "code",
   "execution_count": 5,
   "metadata": {},
   "outputs": [],
   "source": [
    "# first radiation length\n",
    "energy_cr = 160 # Joules, 1e21 eV\n",
    "\n",
    "electrons = []\n",
    "positrons = []\n",
    "gammas = []\n",
    "\n",
    "# energy of the CR splits into one electron and one positron\n",
    "electrons_this_radlength = [energy_cr/2.]\n",
    "positrons_this_radlength = [energy_cr/2.]\n",
    "gammas_this_radlength    = []\n",
    "\n",
    "# these arrays store the particles made every radiation length\n",
    "electrons.append(electrons_this_radlength)\n",
    "positrons.append(positrons_this_radlength)\n",
    "gammas.append(gammas_this_radlength)"
   ]
  },
  {
   "cell_type": "code",
   "execution_count": 6,
   "metadata": {},
   "outputs": [],
   "source": [
    "# next radiation length\n",
    "\n",
    "# now all electrons make a gamma and an electron (bremstraahlung)\n",
    "# and all positrons make a gamma and a positron (bremstraahlung)\n",
    "electrons_last_radlength = electrons_this_radlength\n",
    "positrons_last_radlength = positrons_this_radlength\n",
    "gammas_last_radlength = gammas_this_radlength\n",
    "\n",
    "# reset the arrays\n",
    "electrons_this_radlength = []\n",
    "positrons_this_radlength = []\n",
    "gammas_this_radlength    = []\n",
    "\n",
    "for el in electrons_last_radlength:\n",
    "    gammas_this_radlength.append(el/2.)\n",
    "    electrons_this_radlength.append(el/2.)\n",
    "\n",
    "for po in positrons_last_radlength:\n",
    "    gammas_this_radlength.append(po/2.)\n",
    "    positrons_this_radlength.append(po/2.)\n",
    "    \n",
    "for ga in gammas_this_radlength:\n",
    "    electrons_this_radlength.append(ga/2.)\n",
    "    positrons_this_radlength.append(ga/2.)\n",
    "    \n",
    "# now store all the particles\n",
    "electrons.append(electrons_this_radlength)\n",
    "positrons.append(positrons_this_radlength)\n",
    "gammas.append(gammas_this_radlength)"
   ]
  },
  {
   "cell_type": "code",
   "execution_count": 8,
   "metadata": {},
   "outputs": [
    {
     "name": "stdout",
     "output_type": "stream",
     "text": [
      "[40.0, 20.0, 20.0]\n",
      "[40.0, 20.0, 20.0]\n",
      "[40.0, 40.0]\n"
     ]
    }
   ],
   "source": [
    "print(electrons_this_radlength)\n",
    "print(positrons_this_radlength)\n",
    "print(gammas_this_radlength)"
   ]
  },
  {
   "cell_type": "code",
   "execution_count": 9,
   "metadata": {},
   "outputs": [
    {
     "name": "stdout",
     "output_type": "stream",
     "text": [
      "[[80.0], [40.0, 20.0, 20.0]]\n",
      "[[80.0], [40.0, 20.0, 20.0]]\n",
      "[[], [40.0, 40.0]]\n"
     ]
    }
   ],
   "source": [
    "print(electrons)\n",
    "print(positrons)\n",
    "print(gammas)"
   ]
  },
  {
   "cell_type": "code",
   "execution_count": 10,
   "metadata": {},
   "outputs": [
    {
     "name": "stdout",
     "output_type": "stream",
     "text": [
      "1 3\n",
      "1 3\n",
      "0 2\n"
     ]
    }
   ],
   "source": [
    "# how many particles are there at each step?\n",
    "print(len(electrons[0]), len(electrons[1]))\n",
    "print(len(positrons[0]), len(positrons[1]))\n",
    "print(len(gammas[0]), len(gammas[1]))"
   ]
  },
  {
   "cell_type": "code",
   "execution_count": 11,
   "metadata": {},
   "outputs": [
    {
     "name": "stdout",
     "output_type": "stream",
     "text": [
      "Radiation Length:  0\n",
      "    Number of electrons:  1\n",
      "    Number of positrons:  1\n",
      "    Number of gammas:  0\n",
      "Radiation Length:  1\n",
      "    Number of electrons:  3\n",
      "    Number of positrons:  3\n",
      "    Number of gammas:  2\n"
     ]
    }
   ],
   "source": [
    "# how many particles are there at each step?\n",
    "for i_radlength in range(len(electrons)):\n",
    "    print(\"Radiation Length: \", i_radlength)\n",
    "    print(\"    Number of electrons: \", len(electrons[i_radlength]))\n",
    "    print(\"    Number of positrons: \", len(positrons[i_radlength]))\n",
    "    print(\"    Number of gammas: \", len(gammas[i_radlength]))"
   ]
  },
  {
   "cell_type": "code",
   "execution_count": 12,
   "metadata": {},
   "outputs": [
    {
     "name": "stdout",
     "output_type": "stream",
     "text": [
      "0 :  8\n",
      "1 :  24\n",
      "2 :  72\n",
      "3 :  216\n",
      "4 :  648\n",
      "5 :  1944\n",
      "6 :  5832\n",
      "7 :  17496\n",
      "8 :  52488\n",
      "9 :  157464\n"
     ]
    }
   ],
   "source": [
    "# now we want to loop over many radiation lengths\n",
    "n_radlengths = 10\n",
    "\n",
    "# reset so we are starting at the beginning\n",
    "# first radiation length\n",
    "energy_cr = 160 # Joules, 1e21 eV\n",
    "\n",
    "electrons = []\n",
    "positrons = []\n",
    "gammas = []\n",
    "\n",
    "# energy of the CR splits into one electron and one positron\n",
    "electrons_this_radlength = [energy_cr/2.]\n",
    "positrons_this_radlength = [energy_cr/2.]\n",
    "gammas_this_radlength    = []\n",
    "\n",
    "# these arrays store the particles made every radiation length\n",
    "electrons.append(electrons_this_radlength)\n",
    "positrons.append(positrons_this_radlength)\n",
    "gammas.append(gammas_this_radlength)\n",
    "\n",
    "for i_radlength in range(n_radlengths):\n",
    "    \n",
    "    # next radiation length\n",
    "\n",
    "    # now all electrons make a gamma and an electron (bremstraahlung)\n",
    "    # and all positrons make a gamma and a positron (bremstraahlung)\n",
    "    electrons_last_radlength = electrons_this_radlength\n",
    "    positrons_last_radlength = positrons_this_radlength\n",
    "    gammas_last_radlength = gammas_this_radlength\n",
    "\n",
    "    # reset the arrays\n",
    "    electrons_this_radlength = []\n",
    "    positrons_this_radlength = []\n",
    "    gammas_this_radlength    = []\n",
    "\n",
    "    for el in electrons_last_radlength:\n",
    "        gammas_this_radlength.append(el/2.)\n",
    "        electrons_this_radlength.append(el/2.)\n",
    "\n",
    "    for po in positrons_last_radlength:\n",
    "        gammas_this_radlength.append(po/2.)\n",
    "        positrons_this_radlength.append(po/2.)\n",
    "\n",
    "    for ga in gammas_this_radlength:\n",
    "        electrons_this_radlength.append(ga/2.)\n",
    "        positrons_this_radlength.append(ga/2.)\n",
    "\n",
    "    # now store all the particles\n",
    "    electrons.append(electrons_this_radlength)\n",
    "    positrons.append(positrons_this_radlength)\n",
    "    gammas.append(gammas_this_radlength)\n",
    "    \n",
    "    print(i_radlength, \": \", len(electrons_this_radlength) + len(positrons_this_radlength) + len(gammas_this_radlength))"
   ]
  },
  {
   "cell_type": "code",
   "execution_count": 13,
   "metadata": {},
   "outputs": [
    {
     "name": "stdout",
     "output_type": "stream",
     "text": [
      "Radiation Length:  0\n",
      "    Number of electrons:  1\n",
      "    Number of positrons:  1\n",
      "    Number of gammas:  0\n",
      "Radiation Length:  1\n",
      "    Number of electrons:  3\n",
      "    Number of positrons:  3\n",
      "    Number of gammas:  2\n",
      "Radiation Length:  2\n",
      "    Number of electrons:  9\n",
      "    Number of positrons:  9\n",
      "    Number of gammas:  6\n",
      "Radiation Length:  3\n",
      "    Number of electrons:  27\n",
      "    Number of positrons:  27\n",
      "    Number of gammas:  18\n",
      "Radiation Length:  4\n",
      "    Number of electrons:  81\n",
      "    Number of positrons:  81\n",
      "    Number of gammas:  54\n",
      "Radiation Length:  5\n",
      "    Number of electrons:  243\n",
      "    Number of positrons:  243\n",
      "    Number of gammas:  162\n",
      "Radiation Length:  6\n",
      "    Number of electrons:  729\n",
      "    Number of positrons:  729\n",
      "    Number of gammas:  486\n",
      "Radiation Length:  7\n",
      "    Number of electrons:  2187\n",
      "    Number of positrons:  2187\n",
      "    Number of gammas:  1458\n",
      "Radiation Length:  8\n",
      "    Number of electrons:  6561\n",
      "    Number of positrons:  6561\n",
      "    Number of gammas:  4374\n",
      "Radiation Length:  9\n",
      "    Number of electrons:  19683\n",
      "    Number of positrons:  19683\n",
      "    Number of gammas:  13122\n",
      "Radiation Length:  10\n",
      "    Number of electrons:  59049\n",
      "    Number of positrons:  59049\n",
      "    Number of gammas:  39366\n"
     ]
    }
   ],
   "source": [
    "# how many particles are there at each step?\n",
    "for i_radlength in range(len(electrons)):\n",
    "    print(\"Radiation Length: \", i_radlength)\n",
    "    print(\"    Number of electrons: \", len(electrons[i_radlength]))\n",
    "    print(\"    Number of positrons: \", len(positrons[i_radlength]))\n",
    "    print(\"    Number of gammas: \", len(gammas[i_radlength]))"
   ]
  },
  {
   "cell_type": "code",
   "execution_count": 14,
   "metadata": {},
   "outputs": [
    {
     "data": {
      "text/plain": [
       "[<matplotlib.lines.Line2D at 0x11d7ae400>]"
      ]
     },
     "execution_count": 14,
     "metadata": {},
     "output_type": "execute_result"
    },
    {
     "data": {
      "image/png": "[encoded data removed]",
      "text/plain": [
       "<Figure size 432x288 with 1 Axes>"
      ]
     },
     "metadata": {
      "needs_background": "light"
     },
     "output_type": "display_data"
    }
   ],
   "source": [
    "plt.plot(range(n_radlengths+1), [len(electrons[i]) for i in range(len(electrons))])"
   ]
  },
  {
   "cell_type": "code",
   "execution_count": 15,
   "metadata": {},
   "outputs": [
    {
     "data": {
      "text/plain": [
       "[<matplotlib.lines.Line2D at 0x11d89dc18>]"
      ]
     },
     "execution_count": 15,
     "metadata": {},
     "output_type": "execute_result"
    },
    {
     "data": {
      "image/png": "[encoded data removed]",
      "text/plain": [
       "<Figure size 432x288 with 1 Axes>"
      ]
     },
     "metadata": {
      "needs_background": "light"
     },
     "output_type": "display_data"
    }
   ],
   "source": [
    "plt.semilogy(range(n_radlengths+1), [len(electrons[i]) for i in range(len(electrons))])"
   ]
  },
  {
   "cell_type": "code",
   "execution_count": 16,
   "metadata": {},
   "outputs": [],
   "source": [
    "# we can simplify this by defining a function\n",
    "def make_particles(electrons, positrons, gammas):\n",
    "    # now all electrons make a gamma and an electron (bremstraahlung)\n",
    "    # and all positrons make a gamma and a positron (bremstraahlung)\n",
    "    electrons_last_radlength = electrons\n",
    "    positrons_last_radlength = positrons\n",
    "    gammas_last_radlength = gammas\n",
    "\n",
    "    # reset the arrays\n",
    "    electrons = []\n",
    "    positrons = []\n",
    "    gammas    = []\n",
    "    \n",
    "    for el in electrons_last_radlength:\n",
    "        gammas.append(el/2.)\n",
    "        electrons.append(el/2.)\n",
    "\n",
    "    for po in positrons_last_radlength:\n",
    "        gammas.append(po/2.)\n",
    "        positrons.append(po/2.)\n",
    "\n",
    "    for ga in gammas_this_radlength:\n",
    "        electrons.append(ga/2.)\n",
    "        positrons.append(ga/2.)\n",
    "    \n",
    "    return electrons, positrons, gammas"
   ]
  },
  {
   "cell_type": "code",
   "execution_count": 18,
   "metadata": {},
   "outputs": [
    {
     "name": "stdout",
     "output_type": "stream",
     "text": [
      "0\n",
      "1\n",
      "2\n",
      "3\n",
      "4\n",
      "5\n",
      "6\n",
      "7\n",
      "8\n",
      "9\n"
     ]
    }
   ],
   "source": [
    "n_radlengths = 10\n",
    "\n",
    "# reset so we are starting at the beginning\n",
    "# first radiation length\n",
    "energy_cr = 160 # Joules, 1e21 eV\n",
    "\n",
    "electrons = []\n",
    "positrons = []\n",
    "gammas = []\n",
    "\n",
    "# energy of the CR splits into one electron and one positron\n",
    "electrons_this_radlength = [energy_cr/2.]\n",
    "positrons_this_radlength = [energy_cr/2.]\n",
    "gammas_this_radlength    = []\n",
    "\n",
    "# these arrays store the particles made every radiation length\n",
    "electrons.append(electrons_this_radlength)\n",
    "positrons.append(positrons_this_radlength)\n",
    "gammas.append(gammas_this_radlength)\n",
    "\n",
    "for i_radlength in range(n_radlengths):\n",
    "    \n",
    "    # next radiation length\n",
    "    print(i_radlength)\n",
    "    electrons_this_radlength, \\\n",
    "    positrons_this_radlength, \\\n",
    "    gammas_this_radlength = make_particles(electrons_this_radlength,\n",
    "                                          positrons_this_radlength,\n",
    "                                          gammas_this_radlength)\n",
    "\n",
    "    # now store all the particles\n",
    "    electrons.append(electrons_this_radlength)\n",
    "    positrons.append(positrons_this_radlength)\n",
    "    gammas.append(gammas_this_radlength)"
   ]
  },
  {
   "cell_type": "code",
   "execution_count": 19,
   "metadata": {},
   "outputs": [
    {
     "name": "stderr",
     "output_type": "stream",
     "text": [
      "/anaconda3/lib/python3.7/site-packages/numpy/core/fromnumeric.py:2920: RuntimeWarning: Mean of empty slice.\n",
      "  out=out, **kwargs)\n",
      "/anaconda3/lib/python3.7/site-packages/numpy/core/_methods.py:85: RuntimeWarning: invalid value encountered in double_scalars\n",
      "  ret = ret.dtype.type(ret / rcount)\n"
     ]
    }
   ],
   "source": [
    "# what are the average energies of these particles?\n",
    "average_energy_electrons = []\n",
    "for el in electrons:\n",
    "    average_energy_electrons.append( np.mean(el) ) \n",
    "average_energy_positrons = []\n",
    "for po in positrons:\n",
    "    average_energy_positrons.append( np.mean(po) ) \n",
    "average_energy_gammas = []\n",
    "for ga in gammas:\n",
    "    average_energy_gammas.append( np.mean(ga) ) \n"
   ]
  },
  {
   "cell_type": "code",
   "execution_count": 20,
   "metadata": {},
   "outputs": [
    {
     "data": {
      "text/plain": [
       "Text(0,0.5,'Energy of the Particles (Joules)')"
      ]
     },
     "execution_count": 20,
     "metadata": {},
     "output_type": "execute_result"
    },
    {
     "data": {
      "image/png": "[encoded data removed]",
      "text/plain": [
       "<Figure size 432x288 with 1 Axes>"
      ]
     },
     "metadata": {
      "needs_background": "light"
     },
     "output_type": "display_data"
    }
   ],
   "source": [
    "plt.plot(range(n_radlengths+1), average_energy_electrons)\n",
    "plt.plot(range(n_radlengths+1), average_energy_positrons)\n",
    "plt.plot(range(n_radlengths+1), average_energy_gammas)\n",
    "plt.xlabel(\"Radiation Lengths\")\n",
    "plt.ylabel(\"Energy of the Particles (Joules)\")"
   ]
  },
  {
   "cell_type": "code",
   "execution_count": null,
   "metadata": {},
   "outputs": [],
   "source": []
  }
 ],
 "metadata": {
  "kernelspec": {
   "display_name": "Python 3",
   "language": "python",
   "name": "python3"
  },
  "language_info": {
   "codemirror_mode": {
    "name": "ipython",
    "version": 3
   },
   "file_extension": ".py",
   "mimetype": "text/x-python",
   "name": "python",
   "nbconvert_exporter": "python",
   "pygments_lexer": "ipython3",
   "version": "3.7.0"
  }
 },
 "nbformat": 4,
 "nbformat_minor": 2
}
