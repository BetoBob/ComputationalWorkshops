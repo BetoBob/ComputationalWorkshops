{
 "cells": [
  {
   "cell_type": "code",
   "execution_count": 25,
   "metadata": {},
   "outputs": [],
   "source": [
    "import matplotlib.pyplot as plt\n",
    "import numpy as np"
   ]
  },
  {
   "cell_type": "code",
   "execution_count": 2,
   "metadata": {},
   "outputs": [],
   "source": [
    "# add much simpler stuff here\n",
    "# introduce for loops (in and range)\n",
    "# introduce functions"
   ]
  },
  {
   "cell_type": "code",
   "execution_count": 3,
   "metadata": {},
   "outputs": [],
   "source": [
    "# let's write a simulation of cosmic ray air shower\n",
    "\n",
    "# model is that at each radiation length \n",
    "#    electrons/positrons bremstrahlung\n",
    "#    gammas pair produce\n",
    "# energy is split among daughter products\n",
    "#    if electron/positron below critical energy -> stop"
   ]
  },
  {
   "cell_type": "code",
   "execution_count": 4,
   "metadata": {},
   "outputs": [],
   "source": [
    "# add several markdown headings here to step people through things"
   ]
  },
  {
   "cell_type": "markdown",
   "metadata": {},
   "source": [
    "# Particle Cascades\n",
    "\n",
    "We can illustrate the usefulness of loops and functions with a simple\n",
    "example from physics. \n",
    "\n",
    "Cosmic ray electrons produce air showers when they interact in the atmosphere. The high-energy electron transfers some of its energy to other particles so that a cascade of hundreds or thousands of high speed particles are produced as shown in the figure below.\n",
    "\n",
    "<img src=\"infiles/emshower.png\">\n"
   ]
  },
  {
   "cell_type": "markdown",
   "metadata": {},
   "source": [
    "## A Simple Model\n",
    "\n",
    "Let's assume that there are three particles in a cascade: electrons, photons (light particles), and positrons (a positively charged electron).\n",
    "\n",
    "Each electron or positron can split its energy with a photon that it radiates. That's drawn like this:\n",
    "<img src=\"infiles/electron_vertices.pdf\">\n",
    "\n",
    "Each photon can make a pair of electrons and positrons. That's drawn like this:\n",
    "<img src=\"infiles/photon_vertex.pdf\">\n"
   ]
  },
  {
   "cell_type": "markdown",
   "metadata": {},
   "source": [
    "### Now the particles multiply\n",
    "\n",
    "So if we started out with one cosmic ray electron, we get an electron and a photon. \n",
    "Then the photon makes a new electron and a positron, while the electrons and positrons continue to make photons.\n",
    "\n",
    "This continues so that we get a cascade of particles. \n",
    "\n",
    "<img src=\"infiles/heitler_model.pdf\">"
   ]
  },
  {
   "cell_type": "markdown",
   "metadata": {},
   "source": [
    "# Turning the Model into Code\n",
    "\n",
    "Our goal will be to keep track of how many electrons, positrons, and photons we have in our cascade. \n",
    "We also want to know how much energy each of the particles has."
   ]
  },
  {
   "cell_type": "markdown",
   "metadata": {},
   "source": [
    "## Let's Code up the First Layer\n",
    "\n",
    "First we have to chose an initial energy for the first electron, the cosmic ray electron. In this first layer, the electron will split its energy between an electron and a photon. "
   ]
  },
  {
   "cell_type": "code",
   "execution_count": 5,
   "metadata": {},
   "outputs": [],
   "source": [
    "# first layer\n",
    "energy_cr = 160 # Joules, 1e21 eV"
   ]
  },
  {
   "cell_type": "markdown",
   "metadata": {},
   "source": [
    "We'll use lists to keep track of the energy of electrons, positrons, and gammas that we have in the entire cascade. "
   ]
  },
  {
   "cell_type": "code",
   "execution_count": 6,
   "metadata": {},
   "outputs": [],
   "source": [
    "electrons = []\n",
    "positrons = []\n",
    "gammas = []"
   ]
  },
  {
   "cell_type": "code",
   "execution_count": 7,
   "metadata": {},
   "outputs": [],
   "source": [
    "# energy of the CR splits into one electron and one positron\n",
    "electrons_this_layer = [energy_cr/2.]\n",
    "positrons_this_layer = []\n",
    "gammas_this_layer    = [energy_cr/2.]\n",
    "\n",
    "# these arrays store the particles made every layer\n",
    "electrons.append(electrons_this_layer)\n",
    "positrons.append(positrons_this_layer)\n",
    "gammas.append(gammas_this_layer)"
   ]
  },
  {
   "cell_type": "markdown",
   "metadata": {},
   "source": [
    "Each entry in the list is the particle's energy."
   ]
  },
  {
   "cell_type": "code",
   "execution_count": 8,
   "metadata": {},
   "outputs": [
    {
     "name": "stdout",
     "output_type": "stream",
     "text": [
      "[80.0]\n",
      "[]\n",
      "[80.0]\n",
      "[[80.0]]\n",
      "[[]]\n",
      "[[80.0]]\n"
     ]
    }
   ],
   "source": [
    "print(electrons_this_layer)\n",
    "print(positrons_this_layer)\n",
    "print(gammas_this_layer)\n",
    "print(electrons)\n",
    "print(positrons)\n",
    "print(gammas)"
   ]
  },
  {
   "cell_type": "markdown",
   "metadata": {},
   "source": [
    "The length of these lists tell us get the number of particles in the cascade."
   ]
  },
  {
   "cell_type": "code",
   "execution_count": 9,
   "metadata": {},
   "outputs": [
    {
     "name": "stdout",
     "output_type": "stream",
     "text": [
      "1\n",
      "0\n",
      "1\n",
      "1\n",
      "1\n",
      "1\n"
     ]
    }
   ],
   "source": [
    "print(len(electrons_this_layer))\n",
    "print(len(positrons_this_layer))\n",
    "print(len(gammas_this_layer))\n",
    "print(len(electrons))\n",
    "print(len(positrons))\n",
    "print(len(gammas))"
   ]
  },
  {
   "cell_type": "markdown",
   "metadata": {},
   "source": [
    "You might wonder why we need two arrays for each type of particle (e.g. electrons_this_layer and electrons) and why their shapes are different."
   ]
  },
  {
   "cell_type": "code",
   "execution_count": 10,
   "metadata": {},
   "outputs": [
    {
     "name": "stdout",
     "output_type": "stream",
     "text": [
      "(1,)\n",
      "(0,)\n",
      "(1,)\n",
      "(1, 1)\n",
      "(1, 0)\n",
      "(1, 1)\n"
     ]
    }
   ],
   "source": [
    "print(np.shape(electrons_this_layer))\n",
    "print(np.shape(positrons_this_layer))\n",
    "print(np.shape(gammas_this_layer))\n",
    "print(np.shape(electrons))\n",
    "print(np.shape(positrons))\n",
    "print(np.shape(gammas))"
   ]
  },
  {
   "cell_type": "markdown",
   "metadata": {},
   "source": [
    "We are using two different arrays because we want to add more particles at each layer. Each row contains a layer's worth of particles. This will be more apparent as we add more layers."
   ]
  },
  {
   "cell_type": "markdown",
   "metadata": {},
   "source": [
    "## Let's add another layer\n",
    "\n",
    "Now all electrons make a gamma and an electron (bremstraahlung)\n",
    "and all positrons make a gamma and a positron (bremstraahlung)\n",
    "And all photons make a electron and positron pair (pair production)"
   ]
  },
  {
   "cell_type": "markdown",
   "metadata": {},
   "source": [
    "First we'll store the last layer in a new list and then start on the new layer."
   ]
  },
  {
   "cell_type": "code",
   "execution_count": 11,
   "metadata": {},
   "outputs": [],
   "source": [
    "electrons_last_layer = electrons_this_layer\n",
    "positrons_last_layer = positrons_this_layer\n",
    "gammas_last_radlength = gammas_this_layer\n",
    "\n",
    "# reset the arrays\n",
    "electrons_this_layer = []\n",
    "positrons_this_layer = []\n",
    "gammas_this_layer    = []"
   ]
  },
  {
   "cell_type": "markdown",
   "metadata": {},
   "source": [
    "Now we'll use for loops to make new particles for each particle in the previous layer. We'll start with the electrons and positrons."
   ]
  },
  {
   "cell_type": "code",
   "execution_count": 12,
   "metadata": {},
   "outputs": [],
   "source": [
    "# electrons from the last layer\n",
    "# each electron makes an electron and a gamma\n",
    "for el in electrons_last_layer:\n",
    "    gammas_this_layer.append(el/2.)\n",
    "    electrons_this_layer.append(el/2.)\n",
    "\n",
    "# positrons from the last layer\n",
    "# each positron makes a positron and a gamma\n",
    "for po in positrons_last_layer:\n",
    "    gammas_this_layer.append(po/2.)\n",
    "    positrons_this_layer.append(po/2.)"
   ]
  },
  {
   "cell_type": "markdown",
   "metadata": {},
   "source": [
    "## Your turn\n",
    "Now you add the gammas!"
   ]
  },
  {
   "cell_type": "code",
   "execution_count": null,
   "metadata": {},
   "outputs": [],
   "source": []
  },
  {
   "cell_type": "markdown",
   "metadata": {},
   "source": [
    "...and now store all the particles in the electrons, positrons, and gammas lists."
   ]
  },
  {
   "cell_type": "code",
   "execution_count": 13,
   "metadata": {},
   "outputs": [],
   "source": [
    "# now store all the particles\n"
   ]
  },
  {
   "cell_type": "markdown",
   "metadata": {},
   "source": [
    "Now figure out how many electrons, positrons, and gammas there are in the two layers and what their energies are."
   ]
  },
  {
   "cell_type": "markdown",
   "metadata": {},
   "source": [
    "# Many Layers\n",
    "Now we want to let the cascade develop over many layers, say 10. "
   ]
  },
  {
   "cell_type": "code",
   "execution_count": 14,
   "metadata": {},
   "outputs": [
    {
     "name": "stdout",
     "output_type": "stream",
     "text": [
      "0 :  4\n",
      "1 :  12\n",
      "2 :  36\n",
      "3 :  108\n",
      "4 :  324\n",
      "5 :  972\n",
      "6 :  2916\n",
      "7 :  8748\n",
      "8 :  26244\n",
      "9 :  78732\n"
     ]
    }
   ],
   "source": [
    "# now we want to loop over many layers\n",
    "n_layers = 10\n",
    "\n",
    "# reset so we are starting at the beginning\n",
    "# first radiation length\n",
    "energy_cr = 160 # Joules, 1e21 eV\n",
    "\n",
    "electrons = []\n",
    "positrons = []\n",
    "gammas = []\n",
    "\n",
    "# energy of the CR splits into one electron and one gamma\n",
    "electrons_this_layer = [energy_cr/2.]\n",
    "positrons_this_layer = []\n",
    "gammas_this_layer    = [energy_cr/2.]\n",
    "\n",
    "# these arrays store the particles made every radiation length\n",
    "electrons.append(electrons_this_layer)\n",
    "positrons.append(positrons_this_layer)\n",
    "gammas.append(gammas_this_layer)\n",
    "\n",
    "for i_layer in range(n_layers):\n",
    "    \n",
    "    # next layer\n",
    "    # now all electrons make a gamma and an electron (bremstraahlung)\n",
    "    # and all positrons make a gamma and a positron (bremstraahlung)\n",
    "    electrons_last_layer = electrons_this_layer\n",
    "    positrons_last_layer = positrons_this_layer\n",
    "    gammas_last_layeere = gammas_this_layer\n",
    "\n",
    "    # reset the arrays\n",
    "    electrons_this_layer = []\n",
    "    positrons_this_layer = []\n",
    "    gammas_this_layer    = []\n",
    "\n",
    "    for el in electrons_last_layer:\n",
    "        gammas_this_layer.append(el/2.)\n",
    "        electrons_this_layer.append(el/2.)\n",
    "\n",
    "    for po in positrons_last_layer:\n",
    "        gammas_this_layer.append(po/2.)\n",
    "        positrons_this_layer.append(po/2.)\n",
    "\n",
    "    for ga in gammas_this_layer:\n",
    "        electrons_this_layer.append(ga/2.)\n",
    "        positrons_this_layer.append(ga/2.)\n",
    "\n",
    "    # now store all the particles\n",
    "    electrons.append(electrons_this_layer)\n",
    "    positrons.append(positrons_this_layer)\n",
    "    gammas.append(gammas_this_layer)\n",
    "    \n",
    "    # at each layer, let us know how many particles there are\n",
    "    print(i_layer, \": \", len(electrons_this_layer) + len(positrons_this_layer) + len(gammas_this_layer))"
   ]
  },
  {
   "cell_type": "code",
   "execution_count": 15,
   "metadata": {},
   "outputs": [
    {
     "name": "stdout",
     "output_type": "stream",
     "text": [
      "Layer:  0\n",
      "    Number of electrons:  1\n",
      "    Number of positrons:  0\n",
      "    Number of gammas:  1\n",
      "Layer:  1\n",
      "    Number of electrons:  2\n",
      "    Number of positrons:  1\n",
      "    Number of gammas:  1\n",
      "Layer:  2\n",
      "    Number of electrons:  5\n",
      "    Number of positrons:  4\n",
      "    Number of gammas:  3\n",
      "Layer:  3\n",
      "    Number of electrons:  14\n",
      "    Number of positrons:  13\n",
      "    Number of gammas:  9\n",
      "Layer:  4\n",
      "    Number of electrons:  41\n",
      "    Number of positrons:  40\n",
      "    Number of gammas:  27\n",
      "Layer:  5\n",
      "    Number of electrons:  122\n",
      "    Number of positrons:  121\n",
      "    Number of gammas:  81\n",
      "Layer:  6\n",
      "    Number of electrons:  365\n",
      "    Number of positrons:  364\n",
      "    Number of gammas:  243\n",
      "Layer:  7\n",
      "    Number of electrons:  1094\n",
      "    Number of positrons:  1093\n",
      "    Number of gammas:  729\n",
      "Layer:  8\n",
      "    Number of electrons:  3281\n",
      "    Number of positrons:  3280\n",
      "    Number of gammas:  2187\n",
      "Layer:  9\n",
      "    Number of electrons:  9842\n",
      "    Number of positrons:  9841\n",
      "    Number of gammas:  6561\n",
      "Layer:  10\n",
      "    Number of electrons:  29525\n",
      "    Number of positrons:  29524\n",
      "    Number of gammas:  19683\n"
     ]
    }
   ],
   "source": [
    "# how many particles are there at each step?\n",
    "for i_layer in range(len(electrons)):\n",
    "    print(\"Layer: \", i_layer)\n",
    "    print(\"    Number of electrons: \", len(electrons[i_layer]))\n",
    "    print(\"    Number of positrons: \", len(positrons[i_layer]))\n",
    "    print(\"    Number of gammas: \", len(gammas[i_layer]))"
   ]
  },
  {
   "cell_type": "markdown",
   "metadata": {},
   "source": [
    "## Your turn\n",
    "The number of particles is growing fast! Let's make a plot to see what the dependence is. We want to put the layer number on the x-axis and the number of electrons in that layer on the y-axis. How will you make the plot?"
   ]
  },
  {
   "cell_type": "code",
   "execution_count": 16,
   "metadata": {},
   "outputs": [],
   "source": [
    "# Make a plot\n"
   ]
  },
  {
   "cell_type": "markdown",
   "metadata": {},
   "source": [
    "Your plot may look exponential. If that's true, if we plot it on a log scale, it should look like a straight line, because $\\ln(e^{-\\alpha x}) = -\\alpha x$. Try using the [plt.semilogy(...)](https://matplotlib.org/api/_as_gen/matplotlib.pyplot.semilogy.html) function in matplotlib to check it out. "
   ]
  },
  {
   "cell_type": "code",
   "execution_count": 17,
   "metadata": {},
   "outputs": [],
   "source": [
    "# Make a plot with the y-axis in a log-scale.\n"
   ]
  },
  {
   "cell_type": "markdown",
   "metadata": {},
   "source": [
    "Can you also make a plot of the energy of the electrons (or positrons or gammas) at each layer?"
   ]
  },
  {
   "cell_type": "code",
   "execution_count": null,
   "metadata": {},
   "outputs": [],
   "source": [
    "# Make a plot of the energy of the electrons vs. layer number\n"
   ]
  },
  {
   "cell_type": "markdown",
   "metadata": {},
   "source": [
    "# Functions make the work easier\n",
    "\n",
    "We can simplify this by defining a function that makes particles for each layer. \n",
    "\n",
    "The function below takes lists of electrons, positrons, and gammas as inputs. Then for each particle, it makes the appropriate new particles and splits the energy. The function returns the next layer of particles."
   ]
  },
  {
   "cell_type": "code",
   "execution_count": 18,
   "metadata": {},
   "outputs": [],
   "source": [
    "def make_particles(electrons, positrons, gammas):\n",
    "    # now all electrons make a gamma and an electron (bremstraahlung)\n",
    "    # and all positrons make a gamma and a positron (bremstraahlung)\n",
    "    # and all gammas make a positron and an electron\n",
    "    electrons_last_layer = electrons\n",
    "    positrons_last_layer = positrons\n",
    "    gammas_last_layer = gammas\n",
    "\n",
    "    # reset the arrays\n",
    "    electrons = []\n",
    "    positrons = []\n",
    "    gammas    = []\n",
    "    \n",
    "    for el in electrons_last_layer:\n",
    "        gammas.append(el/2.)\n",
    "        electrons.append(el/2.)\n",
    "\n",
    "    for po in positrons_last_layer:\n",
    "        gammas.append(po/2.)\n",
    "        positrons.append(po/2.)\n",
    "\n",
    "    for ga in gammas_this_layer:\n",
    "        electrons.append(ga/2.)\n",
    "        positrons.append(ga/2.)\n",
    "    \n",
    "    return electrons, positrons, gammas"
   ]
  },
  {
   "cell_type": "markdown",
   "metadata": {},
   "source": [
    "Now that we have the function, we can simplify our for loop. "
   ]
  },
  {
   "cell_type": "code",
   "execution_count": 23,
   "metadata": {},
   "outputs": [
    {
     "name": "stdout",
     "output_type": "stream",
     "text": [
      "0\n",
      "1\n",
      "2\n",
      "3\n",
      "4\n",
      "5\n",
      "6\n",
      "7\n",
      "8\n",
      "9\n"
     ]
    }
   ],
   "source": [
    "# layers\n",
    "n_layers = 10\n",
    "\n",
    "# reset so we are starting at the beginning\n",
    "# first layer\n",
    "energy_cr = 160 # Joules, 1e21 eV\n",
    "\n",
    "electrons = []\n",
    "positrons = []\n",
    "gammas = []\n",
    "\n",
    "# energy of the CR splits into one electron and one gamma\n",
    "electrons_this_layer = [energy_cr/2.]\n",
    "positrons_this_layer = []\n",
    "gammas_this_layer    = [energy_cr/2.]\n",
    "\n",
    "# these arrays store the particles made every radiation length\n",
    "electrons.append(electrons_this_layer)\n",
    "positrons.append(positrons_this_layer)\n",
    "gammas.append(gammas_this_layer)\n",
    "\n",
    "for i_layer in range(n_layers):\n",
    "    \n",
    "    # next radiation length\n",
    "    print(i_layer)\n",
    "    # the \\ continues the line on the next point\n",
    "    electrons_this_layer, \\\n",
    "    positrons_this_layer, \\\n",
    "    gammas_this_layer = make_particles(electrons_this_layer,\n",
    "                                          positrons_this_layer,\n",
    "                                          gammas_this_layer)\n",
    "\n",
    "    # now store all the particles\n",
    "    electrons.append(electrons_this_layer)\n",
    "    positrons.append(positrons_this_layer)\n",
    "    gammas.append(gammas_this_layer)"
   ]
  },
  {
   "cell_type": "markdown",
   "metadata": {},
   "source": [
    "## Your turn\n",
    "Make the same plots you made before!"
   ]
  },
  {
   "cell_type": "code",
   "execution_count": null,
   "metadata": {},
   "outputs": [],
   "source": [
    "# Make plots\n"
   ]
  },
  {
   "cell_type": "markdown",
   "metadata": {},
   "source": [
    "How many layers does it take for the average energy to be reduced by 1/e?"
   ]
  },
  {
   "cell_type": "code",
   "execution_count": 24,
   "metadata": {},
   "outputs": [],
   "source": [
    "# use the plots to figure it out."
   ]
  },
  {
   "cell_type": "code",
   "execution_count": null,
   "metadata": {},
   "outputs": [],
   "source": []
  }
 ],
 "metadata": {
  "kernelspec": {
   "display_name": "Python 3",
   "language": "python",
   "name": "python3"
  },
  "language_info": {
   "codemirror_mode": {
    "name": "ipython",
    "version": 3
   },
   "file_extension": ".py",
   "mimetype": "text/x-python",
   "name": "python",
   "nbconvert_exporter": "python",
   "pygments_lexer": "ipython3",
   "version": "3.7.0"
  }
 },
 "nbformat": 4,
 "nbformat_minor": 2
}
